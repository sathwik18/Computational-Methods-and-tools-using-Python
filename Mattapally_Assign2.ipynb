{
 "cells": [
  {
   "cell_type": "markdown",
   "metadata": {},
   "source": [
    "# Assignment 2"
   ]
  },
  {
   "cell_type": "markdown",
   "metadata": {},
   "source": [
    "Question 1"
   ]
  },
  {
   "cell_type": "code",
   "execution_count": 68,
   "metadata": {},
   "outputs": [
    {
     "data": {
      "text/plain": [
       "True"
      ]
     },
     "execution_count": 68,
     "metadata": {},
     "output_type": "execute_result"
    }
   ],
   "source": [
    "#1.1::\n",
    "\"A\".isupper() #this is a valid in built function which checks weather given string is in upper case or not"
   ]
  },
  {
   "cell_type": "code",
   "execution_count": 69,
   "metadata": {},
   "outputs": [
    {
     "name": "stdout",
     "output_type": "stream",
     "text": [
      "This is my Python class\n"
     ]
    }
   ],
   "source": [
    "#1.2::\n",
    "print (\"This is my Python class\")  #print is a built in function which displays the specified expressions/strings "
   ]
  },
  {
   "cell_type": "markdown",
   "metadata": {},
   "source": [
    "1.3:: x == 1 AND y > x AND is not a valid key word"
   ]
  },
  {
   "cell_type": "markdown",
   "metadata": {},
   "source": [
    "1.4:: return t[1:] return statement should always be inside a function definition"
   ]
  },
  {
   "cell_type": "markdown",
   "metadata": {},
   "source": [
    "1.5:: if \"fruit\" in \"apple\":\n",
    "if statement should have a condition and expression to evaluate the condition. Here we dot have any expression so, its an invalid statement.    \n",
    "    "
   ]
  },
  {
   "cell_type": "markdown",
   "metadata": {},
   "source": [
    "1.6:: with open(\"myfile.txt\", \"r\") as f:\n",
    "        text = f.read().decode(\"UTF-8\")\n",
    "Open is a valid built-in keyword, which is used to perform operatins on files. r is a default parameter which reads the file specified"
   ]
  },
  {
   "cell_type": "markdown",
   "metadata": {},
   "source": [
    "1.7:: foo == None\n",
    "this is an invalid statement, because there is no variable foo defined to compare it with None"
   ]
  },
  {
   "cell_type": "markdown",
   "metadata": {},
   "source": [
    "1.8:: name = \"My name is Brenda\" \n",
    "      name[0] = \"A\"\n",
    "      Strings in python are immutable we cannot assign value or modify it once it is declared"
   ]
  },
  {
   "cell_type": "code",
   "execution_count": 70,
   "metadata": {},
   "outputs": [
    {
     "data": {
      "text/plain": [
       "27"
      ]
     },
     "execution_count": 70,
     "metadata": {},
     "output_type": "execute_result"
    }
   ],
   "source": [
    "#1.9::\n",
    "x = 3 \n",
    "x**3 #this is a valid statement.** is an exponential operator."
   ]
  },
  {
   "cell_type": "code",
   "execution_count": 71,
   "metadata": {},
   "outputs": [
    {
     "data": {
      "text/plain": [
       "6"
      ]
     },
     "execution_count": 71,
     "metadata": {},
     "output_type": "execute_result"
    }
   ],
   "source": [
    "20%7 #a valid statement % is modulus which gives remainder of division of left operand by right one"
   ]
  },
  {
   "cell_type": "markdown",
   "metadata": {},
   "source": [
    "Question 2. (15 points). Write a program to prompt for a score between 0 and 100. If the score is out of range, print an error message. If the score is between 0 and 100, print a grade using the following table:\n",
    "Score Grade \n",
    "$$>= 90 A$$\n",
    "$$>= 80 B$$\n",
    "$$>= 70 C$$\n",
    "$$>= 60 D$$\n",
    "$$< 60 F$$"
   ]
  },
  {
   "cell_type": "code",
   "execution_count": 74,
   "metadata": {},
   "outputs": [
    {
     "name": "stdout",
     "output_type": "stream",
     "text": [
      "Enter your score: 110\n",
      "please enter scores between 0 to 100\n"
     ]
    }
   ],
   "source": [
    "score = eval(input(\"Enter your score: \")) #asking user to enter score\n",
    "if score>=0 and score<=100: #validating the entered score is with in scope or not\n",
    "    if score >= 90:\n",
    "        gradeAssigned = 'A';\n",
    "    elif score >= 80:\n",
    "        gradeAssigned = 'B';\n",
    "    elif score >= 70:\n",
    "        gradeAssigned = 'C';\n",
    "    elif score >= 60:\n",
    "        gradeAssigned = 'D';\n",
    "    else:\n",
    "        gradeAssigned = 'F';\n",
    "    print(\"grade assigned for your score:\",score,\"is\",gradeAssigned);\n",
    "else:                      #out of range scores are dealt with a error message\n",
    "    print(\"please enter scores between 0 to 100\");"
   ]
  },
  {
   "cell_type": "markdown",
   "metadata": {},
   "source": [
    "Question 3. (20 points). Write a Python program to generate 12 random numbers between 1 and 100. Sort the list of numbers in ascending order and print it out. Sort the list of numbers in descending order and print it out. Calculate the average for the group and print it out."
   ]
  },
  {
   "cell_type": "code",
   "execution_count": 75,
   "metadata": {},
   "outputs": [
    {
     "name": "stdout",
     "output_type": "stream",
     "text": [
      "Random numbers:  [15, 17, 35, 41, 43, 43, 47, 51, 53, 77, 97, 97]\n",
      "Random numbers in descending order:  [97, 97, 77, 53, 51, 47, 43, 43, 41, 35, 17, 15]\n",
      "Average of the group:  51.333333333333336\n"
     ]
    }
   ],
   "source": [
    "import random #random function a built in python function to generate random numbers\n",
    "randomNum=[] #array to store the generated random numbers\n",
    "for i in range (12):\n",
    "    randomNum.append(random.randrange(1,100,2))\n",
    "randomNum.sort() #sort() is a default function sorts the collection provided\n",
    "print (\"Random numbers: \",randomNum)\n",
    "randomNum.sort(reverse=True)  #python sort() can take parameter reverse when true, it sorts in decending order\n",
    "print (\"Random numbers in descending order: \",randomNum)\n",
    "print(\"Average of the group: \",sum(randomNum)/12)"
   ]
  },
  {
   "cell_type": "markdown",
   "metadata": {},
   "source": [
    "Question 4. (20 points). The formula that describes the volume V of a sphere with radius r is the following: \n",
    "$$4/3 * π * r^3$$\n",
    "Write a program to calculate the value of V when r is in the range of 1– 10. Output the result in the following format:\n",
    "r    V\n",
    "1    ...\n",
    "2    ...\n",
    "3    ..."
   ]
  },
  {
   "cell_type": "code",
   "execution_count": 76,
   "metadata": {},
   "outputs": [
    {
     "name": "stdout",
     "output_type": "stream",
     "text": [
      "v 1 : 4.1887902047863905\n",
      "v 2 : 33.510321638291124\n",
      "v 3 : 113.09733552923254\n",
      "v 4 : 268.082573106329\n",
      "v 5 : 523.5987755982987\n",
      "v 6 : 904.7786842338603\n",
      "v 7 : 1436.755040241732\n",
      "v 8 : 2144.660584850632\n",
      "v 9 : 3053.6280592892786\n"
     ]
    }
   ],
   "source": [
    "from math import pi #pi is available in math libraries import it\n",
    "for radius in range(1,10): \n",
    "    v = (4/3) * (pi * radius ** 3) #given formula\n",
    "    print(\"v\",radius,\":\", v)"
   ]
  },
  {
   "cell_type": "markdown",
   "metadata": {},
   "source": [
    "Question 5. (25 points). Write a program that will do the following string formatting tasks:\n"
   ]
  },
  {
   "cell_type": "markdown",
   "metadata": {},
   "source": [
    "5.1 Ask the user to enter two sentences"
   ]
  },
  {
   "cell_type": "code",
   "execution_count": 44,
   "metadata": {},
   "outputs": [
    {
     "name": "stdout",
     "output_type": "stream",
     "text": [
      "Enter a sentence: today is monday\n",
      "Enter another sentence: its january\n"
     ]
    }
   ],
   "source": [
    "sen1 = input(\"Enter a sentence: \")\n",
    "sen1 = input(\"Enter another sentence: \")"
   ]
  },
  {
   "cell_type": "markdown",
   "metadata": {},
   "source": [
    "5.2 Make each sentence into a list. Each element in the list should correspond to\n",
    "a word in the sentence. For example, if the sentence is \"Alas! Am I alive? This is my first python program\", the program should print out ['Alas!', 'Am', 'I', 'alive?', 'This', 'is', 'my', 'first', 'python', 'program'] or ['Alas, '!', 'Am', 'I', 'alive, '?', 'This', 'is', 'my', 'first', 'python', 'program']\n",
    "\n",
    "5.3 Compare the two sentences. Print out a list of words that occur in both sentences.\n",
    "\n",
    "5.4 Remove any punctuation from the sentence and print it back out. It should remove at least the following characters, but it can remove more: period(“.”), comma (“,”), semicolon (“;”), and colon (“:”)\n",
    "\n",
    "5.5 Count the number of vowels in the sentences. Print out each vowel and the number of times it appears in the sentences, such as: a:2, e:1, i:0, etc."
   ]
  },
  {
   "cell_type": "code",
   "execution_count": 67,
   "metadata": {},
   "outputs": [
    {
     "name": "stdout",
     "output_type": "stream",
     "text": [
      "Enter a sentence: today is Tuesday .\n",
      "Enter another sentence: Tuesday is second day of week!\n",
      "\n",
      "Sentence1:    ['today', 'is', 'Tuesday', '.']\n",
      "\n",
      "Sentence2:    ['Tuesday', 'is', 'second', 'day', 'of', 'week!']\n",
      "common words:    ['is', 'Tuesday']\n",
      "\n",
      "Words after removing punctuations: \n",
      "today is Tuesday \n",
      "Tuesday is second day of week\n",
      "\n",
      "After removing vowels: \n",
      "tdy s Tsdy .\n",
      "Tsdy s scnd dy f wk!\n"
     ]
    }
   ],
   "source": [
    "import string\n",
    "import re\n",
    "\n",
    "sen1 = input(\"Enter a sentence: \")\n",
    "sen2 = input(\"Enter another sentence: \")\n",
    "\n",
    "\n",
    "s1 = sen1.split() #split() is an in built function to split strings and store it into list\n",
    "s2 = sen2.split()\n",
    "\n",
    "print(\"\\nSentence1:   \",s1)\n",
    "print(\"\\nSentence2:   \",s2)\n",
    "#common words\n",
    "unique = set(s1)&set(s2) #\n",
    "commonWords = sorted(unique, key = lambda k : s1.index(k)) #sorted() is an inbuilt python function. here we used lambda expression to pick common words\n",
    "print(\"common words:   \",commonWords)\n",
    "\n",
    "#Removing punctuations\n",
    "SenWithOutPunct1 = re.sub(r'[^\\w\\s]','',sen1) \n",
    "SenWithOutPunct2 = re.sub(r'[^\\w\\s]','',sen2)\n",
    "print(\"\\nWords after removing punctuations: \")\n",
    "print(SenWithOutPunct1);\n",
    "print(SenWithOutPunct2);\n",
    "\n",
    "print(\"\\nAfter removing vowels: \")\n",
    "def removeVowels(s):\n",
    "        result = re.sub(r'[AEIOU]', '', s, flags=re.IGNORECASE) #ignoring case and removing vowels\n",
    "        return result\n",
    "\n",
    "print(removeVowels(sen1))\n",
    "print(removeVowels(sen2))"
   ]
  },
  {
   "cell_type": "code",
   "execution_count": null,
   "metadata": {},
   "outputs": [],
   "source": []
  }
 ],
 "metadata": {
  "kernelspec": {
   "display_name": "Python 3",
   "language": "python",
   "name": "python3"
  },
  "language_info": {
   "codemirror_mode": {
    "name": "ipython",
    "version": 3
   },
   "file_extension": ".py",
   "mimetype": "text/x-python",
   "name": "python",
   "nbconvert_exporter": "python",
   "pygments_lexer": "ipython3",
   "version": "3.7.1"
  }
 },
 "nbformat": 4,
 "nbformat_minor": 2
}
