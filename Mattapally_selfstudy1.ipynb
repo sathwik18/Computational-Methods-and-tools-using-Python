{
 "cells": [
  {
   "cell_type": "code",
   "execution_count": 2,
   "metadata": {},
   "outputs": [
    {
     "name": "stdout",
     "output_type": "stream",
     "text": [
      "Apple\n",
      "p\n"
     ]
    }
   ],
   "source": [
    "#Downey Chapter 8-14\n",
    "#strings\n",
    "fruit = 'Apple'\n",
    "char = fruit[1] #indexing starts from 0, so 1 will be the second character of fruit.\n",
    "print(fruit)\n",
    "print(char)"
   ]
  },
  {
   "cell_type": "code",
   "execution_count": 3,
   "metadata": {},
   "outputs": [
    {
     "data": {
      "text/plain": [
       "5"
      ]
     },
     "execution_count": 3,
     "metadata": {},
     "output_type": "execute_result"
    }
   ],
   "source": [
    "len(fruit) #displays length of string\n",
    "last = fruit[length-1] #to display"
   ]
  },
  {
   "cell_type": "code",
   "execution_count": 4,
   "metadata": {},
   "outputs": [
    {
     "name": "stdout",
     "output_type": "stream",
     "text": [
      "A\n",
      "p\n",
      "p\n",
      "l\n",
      "e\n"
     ]
    }
   ],
   "source": [
    "#traversing using while\n",
    "index = 0\n",
    "while index < len(fruit):\n",
    "    letter = fruit[index]\n",
    "    print(letter)\n",
    "    index = index + 1"
   ]
  },
  {
   "cell_type": "code",
   "execution_count": 5,
   "metadata": {},
   "outputs": [
    {
     "name": "stdout",
     "output_type": "stream",
     "text": [
      "A\n",
      "p\n",
      "p\n",
      "l\n",
      "e\n"
     ]
    }
   ],
   "source": [
    "#traversing using for\n",
    "for letter in fruit:\n",
    "    print(letter)"
   ]
  },
  {
   "cell_type": "code",
   "execution_count": 6,
   "metadata": {},
   "outputs": [
    {
     "name": "stdout",
     "output_type": "stream",
     "text": [
      "Jack\n",
      "Kack\n",
      "Lack\n",
      "Mack\n",
      "Nack\n",
      "Oack\n",
      "Pack\n",
      "Qack\n"
     ]
    }
   ],
   "source": [
    "#string concatenation or string addition\n",
    "prefixes = 'JKLMNOPQ'\n",
    "suffix = 'ack'\n",
    "for letter in prefixes:\n",
    "    print(letter + suffix)"
   ]
  },
  {
   "cell_type": "code",
   "execution_count": 14,
   "metadata": {},
   "outputs": [
    {
     "data": {
      "text/plain": [
       "'Mattapally'"
      ]
     },
     "execution_count": 14,
     "metadata": {},
     "output_type": "execute_result"
    }
   ],
   "source": [
    "#string slicing\n",
    "s = 'Sathwik Mattapally'\n",
    "s[0:7]\n",
    "s[8: 18]"
   ]
  },
  {
   "cell_type": "code",
   "execution_count": 15,
   "metadata": {},
   "outputs": [
    {
     "data": {
      "text/plain": [
       "'App'"
      ]
     },
     "execution_count": 15,
     "metadata": {},
     "output_type": "execute_result"
    }
   ],
   "source": [
    "fruit[:3] #ommiting the first index slicing starts from beginnning eventually"
   ]
  },
  {
   "cell_type": "code",
   "execution_count": 18,
   "metadata": {},
   "outputs": [
    {
     "data": {
      "text/plain": [
       "'Jood Morning'"
      ]
     },
     "execution_count": 18,
     "metadata": {},
     "output_type": "execute_result"
    }
   ],
   "source": [
    "#strings are immutable\n",
    "greeting = 'Good Morning'\n",
    "new_greeting = 'J' + greeting[1:]  #a string can be modified only on a new variable.\n",
    "new_greeting"
   ]
  },
  {
   "cell_type": "code",
   "execution_count": 19,
   "metadata": {},
   "outputs": [
    {
     "data": {
      "text/plain": [
       "-1"
      ]
     },
     "execution_count": 19,
     "metadata": {},
     "output_type": "execute_result"
    }
   ],
   "source": [
    "#Searching\n",
    "def find(word, letter):\n",
    "    index = 0\n",
    "    while index < len(word):\n",
    "        if word[index] == letter:\n",
    "            return index\n",
    "        index = index + 1\n",
    "return -1"
   ]
  },
  {
   "cell_type": "code",
   "execution_count": 21,
   "metadata": {},
   "outputs": [
    {
     "name": "stdout",
     "output_type": "stream",
     "text": [
      "2\n"
     ]
    }
   ],
   "source": [
    "#looping and counting\n",
    "word = 'saathwik'\n",
    "count = 0\n",
    "for letter in word:\n",
    "    if letter == 'a':\n",
    "        count = count + 1\n",
    "print(count)"
   ]
  },
  {
   "cell_type": "code",
   "execution_count": 24,
   "metadata": {},
   "outputs": [
    {
     "name": "stdout",
     "output_type": "stream",
     "text": [
      "SATHWIK\n",
      "4\n"
     ]
    }
   ],
   "source": [
    "#string methods\n",
    "alpha = 'sathwik'\n",
    "new_alpha = alpha.upper() #upper() converts the given string to upper case\n",
    "print(new_alpha)\n",
    "index = alpha.find('w')\n",
    "print(index)"
   ]
  },
  {
   "cell_type": "code",
   "execution_count": 26,
   "metadata": {},
   "outputs": [
    {
     "data": {
      "text/plain": [
       "True"
      ]
     },
     "execution_count": 26,
     "metadata": {},
     "output_type": "execute_result"
    }
   ],
   "source": [
    "#in operator\n",
    "'s' in 'sathwik' #returns true if the first string is a substring of the second one"
   ]
  },
  {
   "cell_type": "code",
   "execution_count": 28,
   "metadata": {},
   "outputs": [
    {
     "name": "stdout",
     "output_type": "stream",
     "text": [
      "a\n",
      "t\n"
     ]
    }
   ],
   "source": [
    "def in_both(word1, word2): #this method prints all the letters from word1 which appear in word2\n",
    "    for letter in word1:\n",
    "        if letter in word2:\n",
    "            print(letter)\n",
    "            \n",
    "in_both('sathwik', 'Mattapally')"
   ]
  },
  {
   "cell_type": "code",
   "execution_count": 29,
   "metadata": {},
   "outputs": [
    {
     "name": "stdout",
     "output_type": "stream",
     "text": [
      "An apple a day keeps docter away\n"
     ]
    }
   ],
   "source": [
    "#string comparison\n",
    "def strcomp(fruit):\n",
    "    if fruit == 'Apples':\n",
    "        print('An apple a day keeps docter away')\n",
    "        \n",
    "strcomp('Apples')"
   ]
  },
  {
   "cell_type": "code",
   "execution_count": 32,
   "metadata": {},
   "outputs": [
    {
     "data": {
      "text/plain": [
       "True"
      ]
     },
     "execution_count": 32,
     "metadata": {},
     "output_type": "execute_result"
    }
   ],
   "source": [
    "def is_reverse(word1, word2):\n",
    "    if len(word1) != len(word2):\n",
    "        return False\n",
    "        i=0\n",
    "        j = len(word2)\n",
    "    while j > 0:\n",
    "        if word1[i] != word2[j]:\n",
    "            return False\n",
    "        i = i+1\n",
    "        j = j-1\n",
    "return True"
   ]
  },
  {
   "cell_type": "code",
   "execution_count": 34,
   "metadata": {},
   "outputs": [
    {
     "data": {
      "text/plain": [
       "True"
      ]
     },
     "execution_count": 34,
     "metadata": {},
     "output_type": "execute_result"
    }
   ],
   "source": [
    "#searching\n",
    "def has_no_e(word):\n",
    "    for letter in word:\n",
    "        if letter == 'e':\n",
    "            return False\n",
    "return True\n",
    "\n",
    "has_no_e('sathwik')"
   ]
  },
  {
   "cell_type": "code",
   "execution_count": 35,
   "metadata": {},
   "outputs": [
    {
     "data": {
      "text/plain": [
       "True"
      ]
     },
     "execution_count": 35,
     "metadata": {},
     "output_type": "execute_result"
    }
   ],
   "source": [
    "#searching cont.\n",
    "def avoids(word, forbidden):\n",
    "    for letter in word:\n",
    "        if letter in forbidden:\n",
    "            return False\n",
    "return True\n",
    "\n",
    "avoids('sathwik')"
   ]
  },
  {
   "cell_type": "code",
   "execution_count": 36,
   "metadata": {},
   "outputs": [
    {
     "data": {
      "text/plain": [
       "False"
      ]
     },
     "execution_count": 36,
     "metadata": {},
     "output_type": "execute_result"
    }
   ],
   "source": [
    "#looping indices\n",
    "def is_abecedarian(word):\n",
    "    previous = word[0]\n",
    "    for c in word:\n",
    "        if c < previous:\n",
    "            return False\n",
    "        previous = c\n",
    "    return True\n",
    "\n",
    "is_abecedarian('United')"
   ]
  },
  {
   "cell_type": "code",
   "execution_count": 40,
   "metadata": {},
   "outputs": [
    {
     "data": {
      "text/plain": [
       "False"
      ]
     },
     "execution_count": 40,
     "metadata": {},
     "output_type": "execute_result"
    }
   ],
   "source": [
    "def is_abecedarian(word): \n",
    "    i=0\n",
    "    while i < len(word)-1:\n",
    "        if word[i+1] < word[i]:\n",
    "            return False\n",
    "        i = i+1\n",
    "        return True\n",
    "\n",
    "is_abecedarian('united')"
   ]
  },
  {
   "cell_type": "code",
   "execution_count": 42,
   "metadata": {},
   "outputs": [
    {
     "data": {
      "text/plain": [
       "True"
      ]
     },
     "execution_count": 42,
     "metadata": {},
     "output_type": "execute_result"
    }
   ],
   "source": [
    "#palindrome\n",
    "def is_palindrome(word): \n",
    "    i=0\n",
    "    j = len(word)-1\n",
    "    while i<j:\n",
    "        if word[i] != word[j]:\n",
    "            return False\n",
    "        i = i+1\n",
    "        j = j-1\n",
    "    return True\n",
    "\n",
    "is_palindrome('malayalam')"
   ]
  },
  {
   "cell_type": "code",
   "execution_count": 43,
   "metadata": {},
   "outputs": [
    {
     "name": "stdout",
     "output_type": "stream",
     "text": [
      "['blue', 'green', 'red'] ['rose', 'jasmin', 'tulip'] []\n"
     ]
    }
   ],
   "source": [
    "#Collections:: Lists\n",
    "colors = ['blue', 'green', 'red']\n",
    "flowers = ['rose', 'jasmin', 'tulip']\n",
    "empty = []\n",
    "print(colors,flowers,empty)"
   ]
  },
  {
   "cell_type": "code",
   "execution_count": 44,
   "metadata": {},
   "outputs": [
    {
     "name": "stdout",
     "output_type": "stream",
     "text": [
      "['blue', 'yellow', 'red']\n"
     ]
    }
   ],
   "source": [
    "#lists are mutable\n",
    "colors[1] = 'yellow'\n",
    "print(colors)"
   ]
  },
  {
   "cell_type": "code",
   "execution_count": 46,
   "metadata": {},
   "outputs": [
    {
     "data": {
      "text/plain": [
       "True"
      ]
     },
     "execution_count": 46,
     "metadata": {},
     "output_type": "execute_result"
    }
   ],
   "source": [
    "#in operator with lists\n",
    "'rose' in flowers"
   ]
  },
  {
   "cell_type": "code",
   "execution_count": 48,
   "metadata": {},
   "outputs": [
    {
     "name": "stdout",
     "output_type": "stream",
     "text": [
      "['blue', 'yellow', 'red']\n",
      "['blue', 'yellow', 'red']\n",
      "['blue', 'yellow', 'red']\n"
     ]
    }
   ],
   "source": [
    "#traversing lists\n",
    "for i in colors:\n",
    "    print(colors)"
   ]
  },
  {
   "cell_type": "code",
   "execution_count": 49,
   "metadata": {},
   "outputs": [],
   "source": [
    "for a in []:\n",
    "    print('this is useless') #never gets printed because we are trying to traverse on an empty list"
   ]
  },
  {
   "cell_type": "code",
   "execution_count": 52,
   "metadata": {},
   "outputs": [
    {
     "name": "stdout",
     "output_type": "stream",
     "text": [
      "['blue', 'yellow', 'red', 'rose', 'jasmin', 'tulip']\n",
      "['blue', 'yellow', 'red', 'blue', 'yellow', 'red', 'blue', 'yellow', 'red', 'blue', 'yellow', 'red']\n"
     ]
    }
   ],
   "source": [
    "#operators in lis\n",
    "# + operator concats elements of list\n",
    "concat1 = colors+flowers\n",
    "print(concat1)\n",
    "\n",
    "# * operator will repeats a list a given number of times\n",
    "repeat1 = colors * 4\n",
    "print(repeat1)"
   ]
  },
  {
   "cell_type": "code",
   "execution_count": 53,
   "metadata": {},
   "outputs": [
    {
     "data": {
      "text/plain": [
       "['blue', 'yellow']"
      ]
     },
     "execution_count": 53,
     "metadata": {},
     "output_type": "execute_result"
    }
   ],
   "source": [
    "#list slices\n",
    "colors[0:2]"
   ]
  },
  {
   "cell_type": "code",
   "execution_count": 62,
   "metadata": {},
   "outputs": [
    {
     "name": "stdout",
     "output_type": "stream",
     "text": [
      "['blue', 'yellow', 'red', 'green']\n",
      "[1, 2, 3, 4, 5, 7, 9]\n"
     ]
    }
   ],
   "source": [
    "#list methods\n",
    "#append\n",
    "colors = ['blue', 'yellow', 'red']\n",
    "colors.append('green')\n",
    "print(colors)\n",
    "\n",
    "#sort\n",
    "a = [3,2,1,4,5,9,7]\n",
    "a.sort()\n",
    "print(a)"
   ]
  },
  {
   "cell_type": "code",
   "execution_count": 63,
   "metadata": {},
   "outputs": [
    {
     "data": {
      "text/plain": [
       "1133"
      ]
     },
     "execution_count": 63,
     "metadata": {},
     "output_type": "execute_result"
    }
   ],
   "source": [
    "#Map, Filter and Reduce\n",
    "\n",
    "def add_all(t):\n",
    "    total = 0\n",
    "    for x in t:\n",
    "        total += x\n",
    "    return total  #variable total is called accumulator\n",
    "\n",
    "t = [20,10,33,234,836]\n",
    "add_all(t)"
   ]
  },
  {
   "cell_type": "code",
   "execution_count": 74,
   "metadata": {},
   "outputs": [
    {
     "data": {
      "text/plain": [
       "['Sathwik', 'Mattapally']"
      ]
     },
     "execution_count": 74,
     "metadata": {},
     "output_type": "execute_result"
    }
   ],
   "source": [
    "#Map type operation on lists\n",
    "def capitalize_all(t):\n",
    "    res = []\n",
    "    for s in t:\n",
    "        res.append(s.capitalize())\n",
    "    return res\n",
    "\n",
    "list = ['sathwik','mattapally']\n",
    "capitalize_all(list)"
   ]
  },
  {
   "cell_type": "code",
   "execution_count": 76,
   "metadata": {},
   "outputs": [
    {
     "data": {
      "text/plain": [
       "['HOME', 'COMING']"
      ]
     },
     "execution_count": 76,
     "metadata": {},
     "output_type": "execute_result"
    }
   ],
   "source": [
    "#another map operation on lists\n",
    "\n",
    "def only_upper(t):\n",
    "    res = []\n",
    "    for s in t:\n",
    "        if s.isupper():\n",
    "            res.append(s)\n",
    "    return res\n",
    "\n",
    "x = ['HOME','COMING']\n",
    "only_upper(x)"
   ]
  },
  {
   "cell_type": "code",
   "execution_count": 79,
   "metadata": {},
   "outputs": [
    {
     "name": "stdout",
     "output_type": "stream",
     "text": [
      "['blue']\n",
      "green\n"
     ]
    }
   ],
   "source": [
    "#Deleting Elements\n",
    "abc = colors.pop(1)\n",
    "print(colors)\n",
    "print(abc)"
   ]
  },
  {
   "cell_type": "code",
   "execution_count": 80,
   "metadata": {},
   "outputs": [
    {
     "name": "stdout",
     "output_type": "stream",
     "text": [
      "['a', 'c']\n"
     ]
    }
   ],
   "source": [
    "#deleting using del operator \n",
    "t = ['a', 'b', 'c']\n",
    "del t[1] #when you want to delete element using index\n",
    "print(t)"
   ]
  },
  {
   "cell_type": "code",
   "execution_count": 81,
   "metadata": {},
   "outputs": [
    {
     "name": "stdout",
     "output_type": "stream",
     "text": [
      "['a', 'c']\n"
     ]
    }
   ],
   "source": [
    "#deleting using remove\n",
    "t = ['a', 'b', 'c']\n",
    "t.remove('b') #if you know the element to delete but not its index then use remove\n",
    "print(t)"
   ]
  },
  {
   "cell_type": "code",
   "execution_count": 82,
   "metadata": {},
   "outputs": [
    {
     "name": "stdout",
     "output_type": "stream",
     "text": [
      "['a', 'f']\n"
     ]
    }
   ],
   "source": [
    "#deleting multiple elements\n",
    "t = ['a', 'b', 'c', 'd', 'e', 'f']\n",
    "del t[1:5]\n",
    "print(t)"
   ]
  },
  {
   "cell_type": "code",
   "execution_count": 87,
   "metadata": {},
   "outputs": [
    {
     "data": {
      "text/plain": [
       "['Far', 'away', 'in', 'a', 'galaxy']"
      ]
     },
     "execution_count": 87,
     "metadata": {},
     "output_type": "execute_result"
    }
   ],
   "source": [
    "#splitting\n",
    "s = 'Far away in a galaxy'\n",
    "t = s.split()\n",
    "t"
   ]
  },
  {
   "cell_type": "code",
   "execution_count": 88,
   "metadata": {},
   "outputs": [
    {
     "data": {
      "text/plain": [
       "['space', 'space', 'space']"
      ]
     },
     "execution_count": 88,
     "metadata": {},
     "output_type": "execute_result"
    }
   ],
   "source": [
    "#splitting using delimiter\n",
    "s = 'space-space-space'\n",
    "delimiter = '-'\n",
    "t = s.split(delimiter)\n",
    "t"
   ]
  },
  {
   "cell_type": "code",
   "execution_count": 89,
   "metadata": {},
   "outputs": [
    {
     "data": {
      "text/plain": [
       "'Far away in a galaxy'"
      ]
     },
     "execution_count": 89,
     "metadata": {},
     "output_type": "execute_result"
    }
   ],
   "source": [
    "t = ['Far', 'away', 'in', 'a', 'galaxy']\n",
    "delimiter = ' '\n",
    "s = delimiter.join(t)\n",
    "s"
   ]
  },
  {
   "cell_type": "code",
   "execution_count": 90,
   "metadata": {},
   "outputs": [
    {
     "data": {
      "text/plain": [
       "True"
      ]
     },
     "execution_count": 90,
     "metadata": {},
     "output_type": "execute_result"
    }
   ],
   "source": [
    "#objects and values\n",
    "a = 'Computational'\n",
    "b = 'Computational'\n",
    "a is b"
   ]
  },
  {
   "cell_type": "code",
   "execution_count": 91,
   "metadata": {},
   "outputs": [
    {
     "data": {
      "text/plain": [
       "True"
      ]
     },
     "execution_count": 91,
     "metadata": {},
     "output_type": "execute_result"
    }
   ],
   "source": [
    "#Aliasing\n",
    "a = ['sathwik', 'mattapally']\n",
    "a = b\n",
    "b is a"
   ]
  },
  {
   "cell_type": "code",
   "execution_count": 92,
   "metadata": {},
   "outputs": [
    {
     "data": {
      "text/plain": [
       "['b', 'c']"
      ]
     },
     "execution_count": 92,
     "metadata": {},
     "output_type": "execute_result"
    }
   ],
   "source": [
    "#list arguments\n",
    "def delete_head(t):\n",
    "    del t[0]\n",
    "    \n",
    "letters = ['a', 'b', 'c']\n",
    "delete_head(letters)\n",
    "letters"
   ]
  },
  {
   "cell_type": "code",
   "execution_count": 97,
   "metadata": {},
   "outputs": [
    {
     "name": "stdout",
     "output_type": "stream",
     "text": [
      "[1, 2, 3]\n",
      "None\n",
      "[1, 2, 3]\n",
      "[1, 2, 3, 4]\n"
     ]
    }
   ],
   "source": [
    "#list arguments using append\n",
    "t1 = [1, 2]\n",
    "t2 = t1.append(3)\n",
    "print(t1)\n",
    "print(t2)\n",
    "\n",
    "#using + operator\n",
    "t3 = t1 + [4]\n",
    "print(t1)\n",
    "print(t3)"
   ]
  },
  {
   "cell_type": "code",
   "execution_count": 105,
   "metadata": {},
   "outputs": [
    {
     "name": "stdout",
     "output_type": "stream",
     "text": [
      "{'one': 'uno', 'two': 'dos', 'three': 'tres'}\n",
      "dos\n",
      "3\n",
      "True\n"
     ]
    },
    {
     "data": {
      "text/plain": [
       "True"
      ]
     },
     "execution_count": 105,
     "metadata": {},
     "output_type": "execute_result"
    }
   ],
   "source": [
    "#Dictionary\n",
    "#Dictionaries are key value pairs\n",
    "eng2sp = {'one': 'uno', 'two': 'dos', 'three': 'tres'}\n",
    "print(eng2sp)\n",
    "print(eng2sp['two']) #prints the value assigned to key specified\n",
    "print(len(eng2sp)) #prints the number of key-value pairs\n",
    "print('one' in eng2sp)\n",
    "vals = eng2sp.values()\n",
    "'uno' in vals"
   ]
  },
  {
   "cell_type": "code",
   "execution_count": 109,
   "metadata": {},
   "outputs": [
    {
     "data": {
      "text/plain": [
       "{'s': 1,\n",
       " 'a': 4,\n",
       " 't': 4,\n",
       " 'h': 1,\n",
       " 'w': 1,\n",
       " 'i': 1,\n",
       " 'k': 1,\n",
       " 'm': 2,\n",
       " 'p': 1,\n",
       " 'l': 2,\n",
       " 'y': 2,\n",
       " '@': 1,\n",
       " '.': 2,\n",
       " 'u': 2,\n",
       " 'n': 1,\n",
       " 'e': 1,\n",
       " 'd': 1}"
      ]
     },
     "execution_count": 109,
     "metadata": {},
     "output_type": "execute_result"
    }
   ],
   "source": [
    "#Dictionary as collection of counters\n",
    "def histogram(s):\n",
    "    d = dict()\n",
    "    for c in s:\n",
    "        if c not in d:\n",
    "            d[c] = 1 \n",
    "        else:\n",
    "            d[c] += 1\n",
    "    return d\n",
    "\n",
    "histogram('sathwikmattapally@my.unt.edu')"
   ]
  },
  {
   "cell_type": "code",
   "execution_count": 113,
   "metadata": {},
   "outputs": [
    {
     "name": "stdout",
     "output_type": "stream",
     "text": [
      "{'a': 1}\n",
      "1\n",
      "0\n"
     ]
    }
   ],
   "source": [
    "h = histogram('a')\n",
    "print(h)\n",
    "print(h.get('a', 0))\n",
    "print(h.get('b', 0))"
   ]
  },
  {
   "cell_type": "code",
   "execution_count": 114,
   "metadata": {},
   "outputs": [
    {
     "name": "stdout",
     "output_type": "stream",
     "text": [
      "s 1\n",
      "a 4\n",
      "t 4\n",
      "h 1\n",
      "w 1\n",
      "i 1\n",
      "k 1\n",
      "m 2\n",
      "p 1\n",
      "l 2\n",
      "y 2\n",
      "@ 1\n",
      ". 2\n",
      "u 2\n",
      "n 1\n",
      "e 1\n",
      "d 1\n"
     ]
    }
   ],
   "source": [
    "#looping through dictionaries\n",
    "def print_hist(h):\n",
    "    for c in h:\n",
    "        print(c, h[c])\n",
    "        \n",
    "h = histogram('sathwikmattapally@my.unt.edu')\n",
    "print_hist(h)"
   ]
  },
  {
   "cell_type": "code",
   "execution_count": 115,
   "metadata": {},
   "outputs": [
    {
     "name": "stdout",
     "output_type": "stream",
     "text": [
      ". 2\n",
      "@ 1\n",
      "a 4\n",
      "d 1\n",
      "e 1\n",
      "h 1\n",
      "i 1\n",
      "k 1\n",
      "l 2\n",
      "m 2\n",
      "n 1\n",
      "p 1\n",
      "s 1\n",
      "t 4\n",
      "u 2\n",
      "w 1\n",
      "y 2\n"
     ]
    }
   ],
   "source": [
    "#sorting keys in iteration\n",
    "for key in sorted(h):\n",
    "    print(key, h[key])"
   ]
  },
  {
   "cell_type": "code",
   "execution_count": 117,
   "metadata": {},
   "outputs": [
    {
     "name": "stdout",
     "output_type": "stream",
     "text": [
      "m\n"
     ]
    }
   ],
   "source": [
    "#Reverse look up\n",
    "\n",
    "def reverse_lookup(d, v):\n",
    "    for k in d:\n",
    "        if d[k] == v:\n",
    "            return k\n",
    "    raise LookupError()\n",
    "    \n",
    "h = histogram('sathwikmattapally@my.unt.edu')\n",
    "key = reverse_lookup(h, 2)\n",
    "print(key)"
   ]
  },
  {
   "cell_type": "code",
   "execution_count": 119,
   "metadata": {},
   "outputs": [
    {
     "name": "stdout",
     "output_type": "stream",
     "text": [
      "{'s': 1, 'a': 4, 't': 4, 'h': 1, 'w': 1, 'i': 1, 'k': 1, 'm': 2, 'p': 1, 'l': 2, 'y': 2, '@': 1, '.': 2, 'u': 2, 'n': 1, 'e': 1, 'd': 1}\n",
      "{1: ['s', 'h', 'w', 'i', 'k', 'p', '@', 'n', 'e', 'd'], 4: ['a', 't'], 2: ['m', 'l', 'y', '.', 'u']}\n"
     ]
    }
   ],
   "source": [
    "#Dictionaries and lists\n",
    "def invert_dict(d):\n",
    "    inverse = dict()\n",
    "    for key in d:\n",
    "        val = d[key]\n",
    "        if val not in inverse:\n",
    "            inverse[val] = [key]\n",
    "        else:\n",
    "            inverse[val].append(key)\n",
    "    return inverse\n",
    "\n",
    "hist = histogram('sathwikmattapally@my.unt.edu')\n",
    "print(hist)\n",
    "inverse = invert_dict(hist)\n",
    "print(inverse)"
   ]
  },
  {
   "cell_type": "code",
   "execution_count": 131,
   "metadata": {},
   "outputs": [
    {
     "name": "stdout",
     "output_type": "stream",
     "text": [
      "Running example1\n"
     ]
    }
   ],
   "source": [
    "#gloabl variables\n",
    "verbose = True\n",
    "def example1():\n",
    "    if verbose:\n",
    "        print('Running example1')\n",
    "\n",
    "example1()\n",
    "        "
   ]
  },
  {
   "cell_type": "code",
   "execution_count": 134,
   "metadata": {},
   "outputs": [],
   "source": [
    "been_called = False\n",
    "def example2():\n",
    "    global been_called\n",
    "    been_called = True\n",
    "    \n",
    "example2()    "
   ]
  },
  {
   "cell_type": "code",
   "execution_count": 139,
   "metadata": {},
   "outputs": [
    {
     "name": "stdout",
     "output_type": "stream",
     "text": [
      "('a', 'b', 'c', 'd', 'e')\n",
      "('a', 'b', 'c', 'd', 'e')\n",
      "<class 'str'>\n",
      "()\n"
     ]
    }
   ],
   "source": [
    "#Tuples\n",
    "#a tuple is a comma separated list of values\n",
    "#can be enclosed in paranthesis\n",
    "t = 'a', 'b', 'c', 'd', 'e'\n",
    "print(t)\n",
    "\n",
    "t1 = ('a', 'b', 'c', 'd', 'e')\n",
    "print(t1)\n",
    "\n",
    "t2 = ('a') #value in paranthesis is not a tuple\n",
    "print(type(t2))\n",
    "\n",
    "t3 = tuple() #tuple() is a built in function which creates a tuple, with no argument it creates an empty tuple\n",
    "print(t3)"
   ]
  },
  {
   "cell_type": "code",
   "execution_count": 141,
   "metadata": {},
   "outputs": [
    {
     "name": "stdout",
     "output_type": "stream",
     "text": [
      "a\n",
      "('b', 'c')\n"
     ]
    }
   ],
   "source": [
    "#indexing in tuple\n",
    "t = ('a', 'b', 'c', 'd', 'e')\n",
    "print(t[0])\n",
    "\n",
    "#slicing in tuple\n",
    "print(t[1:3])"
   ]
  },
  {
   "cell_type": "code",
   "execution_count": 143,
   "metadata": {},
   "outputs": [
    {
     "data": {
      "text/plain": [
       "('A', 'b', 'c', 'd', 'e')"
      ]
     },
     "execution_count": 143,
     "metadata": {},
     "output_type": "execute_result"
    }
   ],
   "source": [
    "#tuple is immutable, but can replace one element with another\n",
    "t = ('A',) + t[1:]\n",
    "t"
   ]
  },
  {
   "cell_type": "code",
   "execution_count": 144,
   "metadata": {},
   "outputs": [
    {
     "data": {
      "text/plain": [
       "True"
      ]
     },
     "execution_count": 144,
     "metadata": {},
     "output_type": "execute_result"
    }
   ],
   "source": [
    "(0, 1, 2) < (0, 3, 4)"
   ]
  },
  {
   "cell_type": "code",
   "execution_count": 149,
   "metadata": {},
   "outputs": [
    {
     "name": "stdout",
     "output_type": "stream",
     "text": [
      "Computational\n",
      "Computational\n"
     ]
    }
   ],
   "source": [
    "#tuple assignement\n",
    "temp = a\n",
    "a = b\n",
    "b = temp\n",
    "print(temp)\n",
    "\n",
    "#python way of doing assignment\n",
    "a, b = b, a\n",
    "print(a)"
   ]
  },
  {
   "cell_type": "code",
   "execution_count": 154,
   "metadata": {},
   "outputs": [
    {
     "name": "stdout",
     "output_type": "stream",
     "text": [
      "(2, 0)\n",
      "2\n",
      "1\n"
     ]
    }
   ],
   "source": [
    "#tuples as return values\n",
    "t = divmod(8, 4)\n",
    "print(t)\n",
    "#divmod can take 2 arguments and returns a tuple of two values, quotient and remainder\n",
    "quot, rem = divmod(9, 4)\n",
    "print(quot)\n",
    "print(rem)"
   ]
  },
  {
   "cell_type": "code",
   "execution_count": 155,
   "metadata": {},
   "outputs": [
    {
     "name": "stdout",
     "output_type": "stream",
     "text": [
      "('sathwik', 'mattapally')\n"
     ]
    }
   ],
   "source": [
    "#variable length argument tuples\n",
    "def printall(*args):\n",
    "    print(args)\n",
    "\n",
    "printall('sathwik','mattapally')"
   ]
  },
  {
   "cell_type": "code",
   "execution_count": 156,
   "metadata": {},
   "outputs": [
    {
     "data": {
      "text/plain": [
       "3"
      ]
     },
     "execution_count": 156,
     "metadata": {},
     "output_type": "execute_result"
    }
   ],
   "source": [
    "#max function is a built in python which goes hand in hand with variable length argument tuples\n",
    "max(1, 2, 3)"
   ]
  },
  {
   "cell_type": "code",
   "execution_count": 157,
   "metadata": {},
   "outputs": [
    {
     "data": {
      "text/plain": [
       "<zip at 0x10adac3c8>"
      ]
     },
     "execution_count": 157,
     "metadata": {},
     "output_type": "execute_result"
    }
   ],
   "source": [
    "#List and tuples\n",
    "s = 'abc'\n",
    "t = [0, 1, 2]\n",
    "zip(s, t) #zip object knows how to iterate through the pairs"
   ]
  },
  {
   "cell_type": "code",
   "execution_count": 161,
   "metadata": {},
   "outputs": [
    {
     "name": "stdout",
     "output_type": "stream",
     "text": [
      "('a', 0)\n",
      "('b', 1)\n",
      "('c', 2)\n"
     ]
    }
   ],
   "source": [
    "for pair in zip(s, t):\n",
    "    print(pair)"
   ]
  },
  {
   "cell_type": "code",
   "execution_count": 162,
   "metadata": {},
   "outputs": [
    {
     "name": "stdout",
     "output_type": "stream",
     "text": [
      "0 a\n",
      "1 b\n",
      "2 c\n"
     ]
    }
   ],
   "source": [
    "#tuple assignment in a for loop  to traverse a list of tuples\n",
    "t = [('a', 0), ('b', 1), ('c', 2)]\n",
    "for letter, number in t:\n",
    "    print(number, letter)"
   ]
  },
  {
   "cell_type": "code",
   "execution_count": 163,
   "metadata": {},
   "outputs": [
    {
     "data": {
      "text/plain": [
       "False"
      ]
     },
     "execution_count": 163,
     "metadata": {},
     "output_type": "execute_result"
    }
   ],
   "source": [
    "#combination of zip for and tuple assignment\n",
    "def has_match(t1, t2):\n",
    "    for x, y in zip(t1, t2):\n",
    "        if x == y:\n",
    "            return True\n",
    "return False\n",
    "\n",
    "has_match(t1,t2)"
   ]
  },
  {
   "cell_type": "code",
   "execution_count": 164,
   "metadata": {},
   "outputs": [
    {
     "name": "stdout",
     "output_type": "stream",
     "text": [
      "0 a\n",
      "1 b\n",
      "2 c\n"
     ]
    }
   ],
   "source": [
    "#enumerate is used to traverse elements sequentially based on their indices\n",
    "for index, element in enumerate('abc'):\n",
    "    print(index, element)"
   ]
  },
  {
   "cell_type": "code",
   "execution_count": 165,
   "metadata": {},
   "outputs": [
    {
     "data": {
      "text/plain": [
       "dict_items([('a', 0), ('b', 1), ('c', 2)])"
      ]
     },
     "execution_count": 165,
     "metadata": {},
     "output_type": "execute_result"
    }
   ],
   "source": [
    "#Dictionaries and tuples\n",
    "d = {'a':0, 'b':1, 'c':2}\n",
    "t = d.items()\n",
    "t"
   ]
  },
  {
   "cell_type": "code",
   "execution_count": 166,
   "metadata": {},
   "outputs": [
    {
     "name": "stdout",
     "output_type": "stream",
     "text": [
      "a 0\n",
      "b 1\n",
      "c 2\n"
     ]
    }
   ],
   "source": [
    "#the above object dict_items which is an iterator which iterates the key value pairs\n",
    "for key, value in d.items():\n",
    "    print(key, value)"
   ]
  },
  {
   "cell_type": "code",
   "execution_count": 168,
   "metadata": {},
   "outputs": [
    {
     "name": "stdout",
     "output_type": "stream",
     "text": [
      "1\n",
      "2\n",
      "3\n",
      "4\n",
      "5\n",
      "1\n",
      "6\n",
      "5\n",
      "done looping\n",
      "2\n",
      "7\n",
      "5\n",
      "done looping\n",
      "3\n",
      "8\n",
      "5\n",
      "done looping\n",
      "4\n",
      "9\n",
      "5\n",
      "done looping\n",
      "5\n",
      "10\n",
      "5\n",
      "done looping\n"
     ]
    }
   ],
   "source": [
    "#Grus Chapter 2\n",
    "#Whitespace formatting\n",
    "for i in [1, 2, 3, 4, 5]:\n",
    "    print (i) # first line in \"for i\" block\n",
    "for j in [1, 2, 3, 4, 5]:\n",
    "    print (j) # first line in \"for j\" block\n",
    "    print (i + j) # last line in \"for j\" block\n",
    "    print (i) # last line in \"for i\" block\n",
    "    print (\"done looping\")"
   ]
  },
  {
   "cell_type": "code",
   "execution_count": 174,
   "metadata": {},
   "outputs": [
    {
     "name": "stdout",
     "output_type": "stream",
     "text": [
      "1\n",
      "2\n",
      "3\n",
      "4\n",
      "5\n"
     ]
    }
   ],
   "source": [
    "for i in [1, 2, 3, 4, 5]:\n",
    "\n",
    "    print(i)"
   ]
  },
  {
   "cell_type": "code",
   "execution_count": 176,
   "metadata": {},
   "outputs": [
    {
     "name": "stdout",
     "output_type": "stream",
     "text": [
      "re.compile('[0-9]+', re.IGNORECASE)\n"
     ]
    }
   ],
   "source": [
    "#modules\n",
    "#Regular Expression\n",
    "import re\n",
    "my_regex = re.compile(\"[0-9]+\", re.I)\n",
    "\n",
    "print(my_regex)"
   ]
  },
  {
   "cell_type": "code",
   "execution_count": 180,
   "metadata": {},
   "outputs": [
    {
     "data": {
      "text/plain": [
       "10"
      ]
     },
     "execution_count": 180,
     "metadata": {},
     "output_type": "execute_result"
    }
   ],
   "source": [
    "#Functions\n",
    "def double(x):\n",
    "    \"\"\"this is where you put an optional docstring\n",
    "    that explains what the function does.\n",
    "    for example, this function multiplies its input by 2\"\"\"\n",
    "    return x * 2\n",
    "\n",
    "double(5)"
   ]
  },
  {
   "cell_type": "code",
   "execution_count": 186,
   "metadata": {},
   "outputs": [
    {
     "data": {
      "text/plain": [
       "5"
      ]
     },
     "execution_count": 186,
     "metadata": {},
     "output_type": "execute_result"
    }
   ],
   "source": [
    "# its a short hand representation for anonymous functions\n",
    "y = apply_to_one(lambda x: x + 4)\n",
    "y"
   ]
  },
  {
   "cell_type": "code",
   "execution_count": 190,
   "metadata": {},
   "outputs": [
    {
     "data": {
      "text/plain": [
       "10"
      ]
     },
     "execution_count": 190,
     "metadata": {},
     "output_type": "execute_result"
    }
   ],
   "source": [
    "#lambda instead of def\n",
    "another_double = lambda x: 2 * x # don't do this\n",
    "def another_double(x): return 2 * x # do this instead\n",
    "another_double(5)"
   ]
  },
  {
   "cell_type": "code",
   "execution_count": 192,
   "metadata": {},
   "outputs": [
    {
     "name": "stdout",
     "output_type": "stream",
     "text": [
      "hello\n",
      "my default message\n"
     ]
    }
   ],
   "source": [
    "#default parameters to functions\n",
    "def my_print(message=\"my default message\"):\n",
    "    print(message)\n",
    "    \n",
    "my_print(\"hello\") # prints 'hello'\n",
    "my_print() # prints 'my default message'"
   ]
  },
  {
   "cell_type": "code",
   "execution_count": 193,
   "metadata": {},
   "outputs": [
    {
     "data": {
      "text/plain": [
       "2"
      ]
     },
     "execution_count": 193,
     "metadata": {},
     "output_type": "execute_result"
    }
   ],
   "source": [
    "#specifying arguments with variable names\n",
    "def subtract(a=0, b=0):\n",
    "    return a - b\n",
    "    subtract(10, 5) # returns 5\n",
    "    subtract(0, 5) # returns -5\n",
    "    subtract(b=5) # same as previous\n",
    "    \n",
    "subtract(5, 3)    "
   ]
  },
  {
   "cell_type": "code",
   "execution_count": 194,
   "metadata": {},
   "outputs": [
    {
     "data": {
      "text/plain": [
       "1"
      ]
     },
     "execution_count": 194,
     "metadata": {},
     "output_type": "execute_result"
    }
   ],
   "source": [
    "#back slashes to encode special characters in python\n",
    "tab_string = \"\\t\" # represents the tab character\n",
    "len(tab_string) # is 1"
   ]
  },
  {
   "cell_type": "code",
   "execution_count": 200,
   "metadata": {},
   "outputs": [
    {
     "name": "stdout",
     "output_type": "stream",
     "text": [
      "cannot divide by zero\n"
     ]
    }
   ],
   "source": [
    "#Exception handling\n",
    "try:\n",
    "    print(0 / 0) #math error occurs in this line, the exception will be caught by except statement\n",
    "except ZeroDivisionError:\n",
    "        print(\"cannot divide by zero\")"
   ]
  },
  {
   "cell_type": "code",
   "execution_count": 202,
   "metadata": {},
   "outputs": [
    {
     "name": "stdout",
     "output_type": "stream",
     "text": [
      "2\n",
      "True\n",
      "False\n"
     ]
    }
   ],
   "source": [
    "#sets\n",
    "s = set()\n",
    "s.add(1) # s is now { 1 }\n",
    "s.add(2) # s is now { 1, 2 }\n",
    "s.add(2) # s is still { 1, 2 }\n",
    "x = len(s) # equals 2\n",
    "print(x)\n",
    "y = 2 in s # equals True\n",
    "print(y)\n",
    "z = 3 in s # equals False\n",
    "print(z)"
   ]
  },
  {
   "cell_type": "code",
   "execution_count": 205,
   "metadata": {},
   "outputs": [
    {
     "data": {
      "text/plain": [
       "False"
      ]
     },
     "execution_count": 205,
     "metadata": {},
     "output_type": "execute_result"
    }
   ],
   "source": [
    "#using zip to remove stopwords\n",
    "stopwords_list = [\"a\",\"an\",\"at\",\"yet\", \"you\"]\n",
    "\"zip\" in stopwords_list # False, but have to check every element\n",
    "stopwords_set = set(stopwords_list)\n",
    "\"zip\" in stopwords_set # very fast to check"
   ]
  },
  {
   "cell_type": "code",
   "execution_count": 212,
   "metadata": {},
   "outputs": [
    {
     "name": "stdout",
     "output_type": "stream",
     "text": [
      "im in elif block\n"
     ]
    }
   ],
   "source": [
    "#control flows\n",
    "def test(x,y):\n",
    "    if (x != 0 and y!=0):\n",
    "        if x > y:\n",
    "            message = \"im in if block\"\n",
    "            print(message)\n",
    "        elif y > x:\n",
    "            message = \"im in elif block\"\n",
    "            print(message)\n",
    "        else:\n",
    "            message = \"when all else fails use else (if you want to)\"\n",
    "            print(message)\n",
    "\n",
    "test(4,5)"
   ]
  },
  {
   "cell_type": "code",
   "execution_count": 214,
   "metadata": {},
   "outputs": [
    {
     "name": "stdout",
     "output_type": "stream",
     "text": [
      "[0, 2, 4]\n",
      "[0, 1, 4, 9, 16]\n",
      "[0, 4, 16]\n"
     ]
    }
   ],
   "source": [
    "#list comprehensions\n",
    "even_numbers = [x for x in range(5) if x % 2 == 0] \n",
    "print(even_numbers)\n",
    "squares = [x * x for x in range(5)]\n",
    "print(squares)\n",
    "even_squares = [x * x for x in even_numbers]\n",
    "print(even_squares)"
   ]
  },
  {
   "cell_type": "code",
   "execution_count": 216,
   "metadata": {},
   "outputs": [
    {
     "name": "stdout",
     "output_type": "stream",
     "text": [
      "[(0, 0), (0, 1), (0, 2), (0, 3), (0, 4), (0, 5), (0, 6), (0, 7), (0, 8), (0, 9), (1, 0), (1, 1), (1, 2), (1, 3), (1, 4), (1, 5), (1, 6), (1, 7), (1, 8), (1, 9), (2, 0), (2, 1), (2, 2), (2, 3), (2, 4), (2, 5), (2, 6), (2, 7), (2, 8), (2, 9), (3, 0), (3, 1), (3, 2), (3, 3), (3, 4), (3, 5), (3, 6), (3, 7), (3, 8), (3, 9), (4, 0), (4, 1), (4, 2), (4, 3), (4, 4), (4, 5), (4, 6), (4, 7), (4, 8), (4, 9), (5, 0), (5, 1), (5, 2), (5, 3), (5, 4), (5, 5), (5, 6), (5, 7), (5, 8), (5, 9), (6, 0), (6, 1), (6, 2), (6, 3), (6, 4), (6, 5), (6, 6), (6, 7), (6, 8), (6, 9), (7, 0), (7, 1), (7, 2), (7, 3), (7, 4), (7, 5), (7, 6), (7, 7), (7, 8), (7, 9), (8, 0), (8, 1), (8, 2), (8, 3), (8, 4), (8, 5), (8, 6), (8, 7), (8, 8), (8, 9), (9, 0), (9, 1), (9, 2), (9, 3), (9, 4), (9, 5), (9, 6), (9, 7), (9, 8), (9, 9)]\n"
     ]
    }
   ],
   "source": [
    "#multiple fors in list comprehension\n",
    "pairs = [(x, y)\n",
    "for x in range(10)\n",
    "for y in range(10)]\n",
    "\n",
    "print(pairs)"
   ]
  },
  {
   "cell_type": "code",
   "execution_count": 219,
   "metadata": {},
   "outputs": [
    {
     "data": {
      "text/plain": [
       "<generator object lazy_range at 0x10ae86390>"
      ]
     },
     "execution_count": 219,
     "metadata": {},
     "output_type": "execute_result"
    }
   ],
   "source": [
    "def lazy_range(n):\n",
    "    \"\"\"a lazy version of range\"\"\"\n",
    "    i = 0\n",
    "    while i < n:\n",
    "        yield i\n",
    "        i += 1\n",
    "        \n",
    "lazy_range(1)"
   ]
  },
  {
   "cell_type": "code",
   "execution_count": 220,
   "metadata": {},
   "outputs": [
    {
     "name": "stdout",
     "output_type": "stream",
     "text": [
      "[0.028729270502428794, 0.18875395847950183, 0.4939628462475253, 0.12911724785879297]\n"
     ]
    }
   ],
   "source": [
    "#Randomness\n",
    "import random\n",
    "four_uniform_randoms = [random.random() for _ in range(4)]\n",
    "\n",
    "print(four_uniform_randoms)"
   ]
  },
  {
   "cell_type": "code",
   "execution_count": 223,
   "metadata": {},
   "outputs": [
    {
     "name": "stdout",
     "output_type": "stream",
     "text": [
      "Alice\n"
     ]
    }
   ],
   "source": [
    "#to pick one element out of set of elements we use choice\n",
    "my_best_friend = random.choice([\"Alice\", \"Bob\", \"Charlie\"])\n",
    "\n",
    "print(my_best_friend)"
   ]
  },
  {
   "cell_type": "code",
   "execution_count": 230,
   "metadata": {},
   "outputs": [
    {
     "data": {
      "text/plain": [
       "9"
      ]
     },
     "execution_count": 230,
     "metadata": {},
     "output_type": "execute_result"
    }
   ],
   "source": [
    "#function tools\n",
    "def exp(base, power):\n",
    "    return base ** power\n",
    "\n",
    "exp(3,2)"
   ]
  },
  {
   "cell_type": "code",
   "execution_count": 233,
   "metadata": {},
   "outputs": [
    {
     "name": "stdout",
     "output_type": "stream",
     "text": [
      "8\n"
     ]
    }
   ],
   "source": [
    "#using functools.partials\n",
    "from functools import partial\n",
    "two_to_the = partial(exp, 2)\n",
    "print(two_to_the(3))"
   ]
  },
  {
   "cell_type": "code",
   "execution_count": 236,
   "metadata": {},
   "outputs": [
    {
     "data": {
      "text/plain": [
       "20"
      ]
     },
     "execution_count": 236,
     "metadata": {},
     "output_type": "execute_result"
    }
   ],
   "source": [
    "#map and reduce usage in functions\n",
    "def double(x):\n",
    "    return 2 * x\n",
    "    xs = [1, 2, 3, 4]\n",
    "    print(twice_xs = [double(x) for x in xs])\n",
    "    print(twice_xs = map(double, xs))\n",
    "    print(list_doubler = partial(map, double))\n",
    "    print(twice_xs = list_doubler(xs))\n",
    "    \n",
    "double(10)"
   ]
  },
  {
   "cell_type": "code",
   "execution_count": 240,
   "metadata": {},
   "outputs": [
    {
     "data": {
      "text/plain": [
       "<function __main__.async-def-wrapper.<locals>.g(x)>"
      ]
     },
     "execution_count": 240,
     "metadata": {},
     "output_type": "execute_result"
    }
   ],
   "source": [
    "#args and kwargs\n",
    "#def doubler(f):\n",
    "def g(x):\n",
    "    return 2 * f(x)\n",
    "return g\n",
    "\n",
    "g(3)"
   ]
  },
  {
   "cell_type": "code",
   "execution_count": null,
   "metadata": {},
   "outputs": [],
   "source": []
  }
 ],
 "metadata": {
  "kernelspec": {
   "display_name": "Python 3",
   "language": "python",
   "name": "python3"
  },
  "language_info": {
   "codemirror_mode": {
    "name": "ipython",
    "version": 3
   },
   "file_extension": ".py",
   "mimetype": "text/x-python",
   "name": "python",
   "nbconvert_exporter": "python",
   "pygments_lexer": "ipython3",
   "version": "3.7.1"
  }
 },
 "nbformat": 4,
 "nbformat_minor": 2
}
