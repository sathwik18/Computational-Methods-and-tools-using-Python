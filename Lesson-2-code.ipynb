{
 "cells": [
  {
   "cell_type": "code",
   "execution_count": 1,
   "metadata": {},
   "outputs": [],
   "source": [
    "message = 'Theres No... Other Way That We Can Go'"
   ]
  },
  {
   "cell_type": "code",
   "execution_count": 2,
   "metadata": {},
   "outputs": [
    {
     "name": "stdout",
     "output_type": "stream",
     "text": [
      "Theres No... Other Way That We Can Go\n"
     ]
    }
   ],
   "source": [
    "print(message)"
   ]
  },
  {
   "cell_type": "code",
   "execution_count": 3,
   "metadata": {},
   "outputs": [],
   "source": [
    "#Variable Assignment\n",
    "n= 17\n",
    "pi = 3.141592653589793"
   ]
  },
  {
   "cell_type": "code",
   "execution_count": 4,
   "metadata": {},
   "outputs": [
    {
     "name": "stdout",
     "output_type": "stream",
     "text": [
      "20\n",
      "45\n"
     ]
    }
   ],
   "source": [
    "#Expressions and Statements\n",
    "n = 20\n",
    "print(n)\n",
    "print(n+25)"
   ]
  },
  {
   "cell_type": "code",
   "execution_count": 5,
   "metadata": {},
   "outputs": [
    {
     "data": {
      "text/plain": [
       "42.182"
      ]
     },
     "execution_count": 5,
     "metadata": {},
     "output_type": "execute_result"
    }
   ],
   "source": [
    "#script mode\n",
    "miles = 26.2 #assigned value to miles\n",
    "miles * 1.61 #expression on miles"
   ]
  },
  {
   "cell_type": "code",
   "execution_count": 6,
   "metadata": {},
   "outputs": [
    {
     "name": "stdout",
     "output_type": "stream",
     "text": [
      "10\n",
      "24\n"
     ]
    }
   ],
   "source": [
    "#script mode\n",
    "print(10)\n",
    "a = 24\n",
    "print(a)"
   ]
  },
  {
   "cell_type": "code",
   "execution_count": 7,
   "metadata": {},
   "outputs": [
    {
     "data": {
      "text/plain": [
       "13"
      ]
     },
     "execution_count": 7,
     "metadata": {},
     "output_type": "execute_result"
    }
   ],
   "source": [
    "#operands :: Paranthesis\n",
    "3 + (4*3) -2 #operations inside paranthesis will be executed first"
   ]
  },
  {
   "cell_type": "code",
   "execution_count": 8,
   "metadata": {},
   "outputs": [
    {
     "data": {
      "text/plain": [
       "15"
      ]
     },
     "execution_count": 8,
     "metadata": {},
     "output_type": "execute_result"
    }
   ],
   "source": [
    "#operands :: Exponentiation\n",
    "3 + 2**3 + (2**2) #Exponents has next highest precedence after paranthesis"
   ]
  },
  {
   "cell_type": "code",
   "execution_count": 9,
   "metadata": {},
   "outputs": [
    {
     "data": {
      "text/plain": [
       "14"
      ]
     },
     "execution_count": 9,
     "metadata": {},
     "output_type": "execute_result"
    }
   ],
   "source": [
    "#operands :: Multiplication & Division\n",
    "3*5-1   #multiplication and division has high precedence over addition and subtraction"
   ]
  },
  {
   "cell_type": "code",
   "execution_count": 14,
   "metadata": {},
   "outputs": [
    {
     "name": "stdout",
     "output_type": "stream",
     "text": [
      "SathwikMattapally\n",
      "SathwikSathwikSathwikSathwik\n"
     ]
    }
   ],
   "source": [
    "#String operation\n",
    "firstName = 'Sathwik'\n",
    "lastName = 'Mattapally'\n",
    "print(firstName+lastName)  # + in strings is used for concatenation\n",
    "print(firstName*4) # * in strings perform repetition"
   ]
  },
  {
   "cell_type": "code",
   "execution_count": 15,
   "metadata": {},
   "outputs": [],
   "source": [
    "#Comments\n",
    "# Anything which is from # to end is the comment\n",
    "distance = 3 #3 is assigned to distance"
   ]
  },
  {
   "cell_type": "code",
   "execution_count": 18,
   "metadata": {},
   "outputs": [
    {
     "name": "stdout",
     "output_type": "stream",
     "text": [
      "33\n",
      "3\n",
      "51.0\n",
      "9.82542\n",
      "8786\n"
     ]
    }
   ],
   "source": [
    "#Function Calls\n",
    "x = int(33) #int is a function which takes any value and converts it into integer\n",
    "print(x)\n",
    "y = int(3.14123) #int can convert floating point numbers to integer but it will trim the fractions\n",
    "print(y)\n",
    "z = float(51) #float converts integers and strings to floating point numbers\n",
    "print(z) \n",
    "a = float('9.82542')\n",
    "print(a)\n",
    "b = str(8786) #str converts its argument into string\n",
    "print(b)"
   ]
  },
  {
   "cell_type": "code",
   "execution_count": 28,
   "metadata": {},
   "outputs": [
    {
     "name": "stdout",
     "output_type": "stream",
     "text": [
      "3.010299956639812\n",
      "0.49999999999999994\n"
     ]
    },
    {
     "data": {
      "text/plain": [
       "12.0"
      ]
     },
     "execution_count": 28,
     "metadata": {},
     "output_type": "execute_result"
    }
   ],
   "source": [
    "#Math Functions\n",
    "import math #imports math modules to script\n",
    "#log function\n",
    "ratio = 2\n",
    "decibels = 10 * math.log10(ratio) #name of module and name of function are separated by '.' its also called as dot notation\n",
    "print(decibels)\n",
    "\n",
    "#sine function\n",
    "degrees = 30\n",
    "radians = degrees/180.0 * math.pi #math.pi gets value of pi from math module\n",
    "print(math.sin(radians)) #math.sin gets value of sine from math module. it takes angle as argument\n",
    "\n",
    "#square root\n",
    "math.sqrt(144)"
   ]
  },
  {
   "cell_type": "code",
   "execution_count": 30,
   "metadata": {},
   "outputs": [
    {
     "name": "stdout",
     "output_type": "stream",
     "text": [
      "these are the sample lyrics of my song,\n",
      "end of lyrics\n"
     ]
    }
   ],
   "source": [
    "#user defined functions\n",
    "def song_lyrics(): #defining function\n",
    "    print(\"these are the sample lyrics of my song,\")\n",
    "    print(\"end of lyrics\")\n",
    "    \n",
    "song_lyrics()   #invoking a function"
   ]
  },
  {
   "cell_type": "code",
   "execution_count": 31,
   "metadata": {},
   "outputs": [
    {
     "name": "stdout",
     "output_type": "stream",
     "text": [
      "these are the sample lyrics of my song,\n",
      "end of lyrics\n",
      "these are the sample lyrics of my song,\n",
      "end of lyrics\n"
     ]
    }
   ],
   "source": [
    "#function definitions\n",
    "def print_lyrics(): #function 1\n",
    "    print(\"these are the sample lyrics of my song,\")\n",
    "    print(\"end of lyrics\")\n",
    "def repeat_lyrics(): #function 2\n",
    "    print_lyrics()\n",
    "    print_lyrics()\n",
    "\n",
    "repeat_lyrics() #invoking function 2 which will call function 1 twice"
   ]
  },
  {
   "cell_type": "code",
   "execution_count": 35,
   "metadata": {},
   "outputs": [
    {
     "name": "stdout",
     "output_type": "stream",
     "text": [
      "sathwik\n",
      "sathwik\n",
      "This is INFO 5731\n",
      "This is INFO 5731\n",
      "This is INFO 5731This is INFO 5731This is INFO 5731\n",
      "This is INFO 5731This is INFO 5731This is INFO 5731\n"
     ]
    }
   ],
   "source": [
    "#Function parameters and aruguments\n",
    "def double_print(x):\n",
    "    print(x)\n",
    "    print(x)\n",
    "    \n",
    "double_print('sathwik') #passing argument while invoking function\n",
    "\n",
    "abc = 'This is INFO 5731'\n",
    "double_print(abc) # passing variable as argument.\n",
    "\n",
    "double_print(abc*3) #built in functions can be passed as arguments to user defined functions."
   ]
  },
  {
   "cell_type": "code",
   "execution_count": 41,
   "metadata": {},
   "outputs": [
    {
     "name": "stdout",
     "output_type": "stream",
     "text": [
      "SathwikMattapally\n",
      "SathwikMattapally\n"
     ]
    },
    {
     "ename": "NameError",
     "evalue": "name 'var' is not defined",
     "output_type": "error",
     "traceback": [
      "\u001b[0;31m---------------------------------------------------------------------------\u001b[0m",
      "\u001b[0;31mNameError\u001b[0m                                 Traceback (most recent call last)",
      "\u001b[0;32m<ipython-input-41-6a4c59b62fee>\u001b[0m in \u001b[0;36m<module>\u001b[0;34m\u001b[0m\n\u001b[1;32m      7\u001b[0m \u001b[0;34m\u001b[0m\u001b[0m\n\u001b[1;32m      8\u001b[0m \u001b[0mlocalVariables\u001b[0m\u001b[0;34m(\u001b[0m\u001b[0;34m'Sathwik'\u001b[0m\u001b[0;34m,\u001b[0m \u001b[0;34m'Mattapally'\u001b[0m\u001b[0;34m)\u001b[0m\u001b[0;34m\u001b[0m\u001b[0;34m\u001b[0m\u001b[0m\n\u001b[0;32m----> 9\u001b[0;31m \u001b[0mprint\u001b[0m\u001b[0;34m(\u001b[0m\u001b[0mvar\u001b[0m\u001b[0;34m)\u001b[0m\u001b[0;34m\u001b[0m\u001b[0;34m\u001b[0m\u001b[0m\n\u001b[0m",
      "\u001b[0;31mNameError\u001b[0m: name 'var' is not defined"
     ]
    }
   ],
   "source": [
    "#Variables and prameters are local\n",
    "#variables created inside a function scope are called local variables.\n",
    "\n",
    "def localVariables(arg1, arg2):\n",
    "    var = arg1 + arg2  #this is a local variable which is specific to localVariable function\n",
    "    double_print(var)\n",
    "    \n",
    "localVariables('Sathwik', 'Mattapally')    \n",
    "print(var) #will throw an error because var will be flushed after exiting localVariables function"
   ]
  },
  {
   "cell_type": "code",
   "execution_count": 42,
   "metadata": {},
   "outputs": [],
   "source": [
    "#Interface Design\n",
    "import turtle\n",
    "bob  = turtle.Turtle() #turtle will provide turtle function and Turtle will create an object which is assigned to variable called bob\n"
   ]
  },
  {
   "cell_type": "code",
   "execution_count": 14,
   "metadata": {},
   "outputs": [],
   "source": [
    "import turtle\n",
    "bob  = turtle.Turtle()\n",
    "bob.fd(100)\n",
    "bob.lt(90)\n",
    "bob.fd(100)\n",
    "bob.lt(90)\n",
    "bob.fd(100)\n",
    "bob.lt(90)\n",
    "bob.fd(100)"
   ]
  },
  {
   "cell_type": "code",
   "execution_count": 3,
   "metadata": {},
   "outputs": [],
   "source": [
    "#simple repetition\n",
    "# drawing square using turtle and for loop\n",
    "import turtle\n",
    "bob  = turtle.Turtle()\n",
    "for i in range(4): #iterates 4 times to draw square using turtle function\n",
    "    bob.fd(100)\n",
    "    bob.lt(90)"
   ]
  },
  {
   "cell_type": "code",
   "execution_count": 2,
   "metadata": {},
   "outputs": [],
   "source": [
    "#Encapsulation\n",
    "import turtle\n",
    "def drawSquare(t):\n",
    "    for i in range(4):\n",
    "        t.fd(100)\n",
    "        t.lt(90)"
   ]
  },
  {
   "cell_type": "code",
   "execution_count": 10,
   "metadata": {},
   "outputs": [],
   "source": [
    "#Generalization\n",
    "import turtle\n",
    "bob = turtle.Turtle()\n",
    "def drawSquareLength(t, length):\n",
    "    for i in range(4):\n",
    "        t.fd(length)\n",
    "        t.lt(90)\n",
    "        \n",
    "drawSquareLength(bob, 100)"
   ]
  },
  {
   "cell_type": "code",
   "execution_count": 1,
   "metadata": {},
   "outputs": [],
   "source": [
    "#polygon using turtle\n",
    "import turtle\n",
    "bob = turtle.Turtle()\n",
    "def polygon(t,n,length): #polygon takes length, number of sides and angle to draw polygon\n",
    "    angle = 360/n\n",
    "    for i in range(n):\n",
    "        t.fd(length)\n",
    "        t.lt(angle)\n",
    "        \n",
    "polygon(bob, 7, 70)        "
   ]
  },
  {
   "cell_type": "code",
   "execution_count": 1,
   "metadata": {},
   "outputs": [],
   "source": [
    "#drawing circle using polygon\n",
    "import turtle\n",
    "import math\n",
    "bob = turtle.Turtle()\n",
    "def polygon(t,n,length): #polygon takes length, number of sides and angle to draw polygon\n",
    "    angle = 360/n\n",
    "    for i in range(n):\n",
    "        t.fd(length)\n",
    "        t.lt(angle)\n",
    "def circle(t, r):     #draws circle using polygon function\n",
    "    circumference = 2 * math.pi * r\n",
    "    n = int(circumference / 3) + 3\n",
    "    length = circumference / n\n",
    "    polygon(t, n, length)\n",
    "\n",
    "circle(bob, 100)"
   ]
  },
  {
   "cell_type": "code",
   "execution_count": 1,
   "metadata": {},
   "outputs": [],
   "source": [
    "#Using polyline to draw an arc and making it form a circle\n",
    "import turtle\n",
    "import math\n",
    "bob = turtle.Turtle()\n",
    "def polyline(t, n, length, angle):\n",
    "    #docstring is used to explain about the interface, it is usually enclosed in triple quotes\n",
    "    \"\"\"Draws n line segments with the given length and\n",
    "angle (in degrees) between them. t is a turtle.\n",
    "\"\"\"\n",
    "    for i in range(n):\n",
    "        t.fd(length)\n",
    "        t.lt(angle)\n",
    "def polygon(t, n, length):\n",
    "    angle = 360.0 / n\n",
    "    polyline(t, n, length, angle)\n",
    "def arc(t, r, angle):\n",
    "    arc_length = 2 * math.pi * r * angle / 360\n",
    "    n = int(arc_length / 3) + 1\n",
    "    step_length = arc_length / n\n",
    "    step_angle = float(angle) / n\n",
    "    polyline(t, n, step_length, step_angle)\n",
    "def circle(t, r):\n",
    "    arc(t, r, 360)    \n",
    "\n",
    "circle(bob, 100)\n"
   ]
  },
  {
   "cell_type": "code",
   "execution_count": 8,
   "metadata": {},
   "outputs": [
    {
     "name": "stdout",
     "output_type": "stream",
     "text": [
      "2.3666666666666667\n",
      "2\n",
      "22\n",
      "22\n"
     ]
    }
   ],
   "source": [
    "#Conditionals and Recursion\n",
    "#Floor division and modulus\n",
    "minutes = 142\n",
    "hours = minutes/60\n",
    "print(hours) #conventional way of knowing hours which will give floating point number\n",
    "hours = minutes//60 # // operator is called floor division operator, used to trim fractions\n",
    "print(hours)\n",
    "remainder = minutes - hours * 60 #gives the remaining minutes after floor division\n",
    "print(remainder)\n",
    "remainder = minutes%60 #the alternative approach to above 2 methods which is modulus(%)\n",
    "print(remainder)"
   ]
  },
  {
   "cell_type": "code",
   "execution_count": 9,
   "metadata": {},
   "outputs": [
    {
     "data": {
      "text/plain": [
       "False"
      ]
     },
     "execution_count": 9,
     "metadata": {},
     "output_type": "execute_result"
    }
   ],
   "source": [
    "32==5 # == is a boolean operator is like comparator which checks for value and returns true or false"
   ]
  },
  {
   "cell_type": "code",
   "execution_count": 10,
   "metadata": {},
   "outputs": [
    {
     "data": {
      "text/plain": [
       "True"
      ]
     },
     "execution_count": 10,
     "metadata": {},
     "output_type": "execute_result"
    }
   ],
   "source": [
    "32!=5"
   ]
  },
  {
   "cell_type": "code",
   "execution_count": 11,
   "metadata": {},
   "outputs": [
    {
     "data": {
      "text/plain": [
       "False"
      ]
     },
     "execution_count": 11,
     "metadata": {},
     "output_type": "execute_result"
    }
   ],
   "source": [
    "32<5"
   ]
  },
  {
   "cell_type": "code",
   "execution_count": 12,
   "metadata": {},
   "outputs": [
    {
     "data": {
      "text/plain": [
       "True"
      ]
     },
     "execution_count": 12,
     "metadata": {},
     "output_type": "execute_result"
    }
   ],
   "source": [
    "32>5"
   ]
  },
  {
   "cell_type": "code",
   "execution_count": 13,
   "metadata": {},
   "outputs": [
    {
     "data": {
      "text/plain": [
       "True"
      ]
     },
     "execution_count": 13,
     "metadata": {},
     "output_type": "execute_result"
    }
   ],
   "source": [
    "5>=5"
   ]
  },
  {
   "cell_type": "code",
   "execution_count": 14,
   "metadata": {},
   "outputs": [
    {
     "data": {
      "text/plain": [
       "False"
      ]
     },
     "execution_count": 14,
     "metadata": {},
     "output_type": "execute_result"
    }
   ],
   "source": [
    "32<32"
   ]
  },
  {
   "cell_type": "code",
   "execution_count": 18,
   "metadata": {},
   "outputs": [
    {
     "name": "stdout",
     "output_type": "stream",
     "text": [
      "true\n"
     ]
    }
   ],
   "source": [
    "#Conditionl Execution\n",
    "def boolTest(x):\n",
    "    if(x == 5):  #if statement evaluates the condition given in the paranthesis and executes statements underlying\n",
    "        print(\"true\")\n",
    "        \n",
    "boolTest(5)        "
   ]
  },
  {
   "cell_type": "code",
   "execution_count": 22,
   "metadata": {},
   "outputs": [
    {
     "name": "stdout",
     "output_type": "stream",
     "text": [
      "x is odd\n",
      "x is even\n"
     ]
    }
   ],
   "source": [
    "#Alternative Execution\n",
    "def boolTest1(x):\n",
    "    if(x % 2 == 0):   #conditional execution\n",
    "        print(\"x is even\")\n",
    "    else:             #alternate condition\n",
    "        print(\"x is odd\")\n",
    "        \n",
    "boolTest1(3)\n",
    "boolTest1(2)"
   ]
  },
  {
   "cell_type": "code",
   "execution_count": 24,
   "metadata": {},
   "outputs": [
    {
     "name": "stdout",
     "output_type": "stream",
     "text": [
      "x is less than y\n",
      "x is less than y\n",
      "x is equal to y\n"
     ]
    }
   ],
   "source": [
    "#Chained Conditionals\n",
    "#when there are more than 2 possible condition then we use chained conditionals\n",
    "def chainCondition(x,y):\n",
    "    if(x<y):\n",
    "        print(\"x is less than y\")\n",
    "    elif(x>y):\n",
    "        print(\"x is greater than y\")\n",
    "    else:\n",
    "        print(\"x is equal to y\")\n",
    "\n",
    "chainCondition(10,11)      \n",
    "chainCondition(12,15)\n",
    "chainCondition(10,10)"
   ]
  },
  {
   "cell_type": "code",
   "execution_count": 28,
   "metadata": {},
   "outputs": [
    {
     "name": "stdout",
     "output_type": "stream",
     "text": [
      "x is greater than y\n",
      "x and y are equal\n",
      "x is less than y\n"
     ]
    }
   ],
   "source": [
    "#Nested Conditionals\n",
    "def nestCond(x,y):\n",
    "    if(x == y):\n",
    "        print(\"x and y are equal\")\n",
    "    else:\n",
    "        if(x<y):      #nested condition\n",
    "            print(\"x is less than y\")\n",
    "        else:\n",
    "            print(\"x is greater than y\")\n",
    "            \n",
    "nestCond(55,32)\n",
    "nestCond(1,1)\n",
    "nestCond(25,100)"
   ]
  },
  {
   "cell_type": "code",
   "execution_count": 32,
   "metadata": {},
   "outputs": [
    {
     "name": "stdout",
     "output_type": "stream",
     "text": [
      "x is a positive single digit number, used and operator\n",
      "x is a positive single digit number\n"
     ]
    }
   ],
   "source": [
    "# alternate approaches for nesed conditions\n",
    "def andOpr(x):\n",
    "    if(0<x and x<10): #and operator\n",
    "        print(\"x is a positive single digit number, used and operator\")\n",
    "    if(0<x<10): #python provides with this terenary approach\n",
    "        print(\"x is a positive single digit number\")\n",
    "        \n",
    "andOpr(5)"
   ]
  },
  {
   "cell_type": "code",
   "execution_count": 33,
   "metadata": {},
   "outputs": [
    {
     "name": "stdout",
     "output_type": "stream",
     "text": [
      "5\n",
      "4\n",
      "3\n",
      "2\n",
      "1\n",
      "Blastoff!\n"
     ]
    }
   ],
   "source": [
    "#Recursion\n",
    "def countdown(n):\n",
    "    if n <= 0:\n",
    "        print('Blastoff!')\n",
    "    else:\n",
    "        print(n)\n",
    "        countdown(n-1) #calling itself with different parameter :: recursive function\n",
    "\n",
    "countdown(5)"
   ]
  },
  {
   "cell_type": "code",
   "execution_count": 43,
   "metadata": {},
   "outputs": [
    {
     "name": "stdout",
     "output_type": "stream",
     "text": [
      "sathwik\n",
      "sathwik\n",
      "sathwik\n",
      "sathwik\n"
     ]
    }
   ],
   "source": [
    "#Recursion with return statement\n",
    "def print_n(s, n):\n",
    "    if n <= 0:\n",
    "        return\n",
    "    print(s)\n",
    "    print_n(s, n-1)\n",
    "        \n",
    "s = 'sathwik'        \n",
    "print_n(s,4)"
   ]
  },
  {
   "cell_type": "code",
   "execution_count": 1,
   "metadata": {},
   "outputs": [
    {
     "name": "stdout",
     "output_type": "stream",
     "text": [
      "sathwik\n"
     ]
    }
   ],
   "source": [
    "text = input()"
   ]
  },
  {
   "cell_type": "code",
   "execution_count": 2,
   "metadata": {},
   "outputs": [
    {
     "name": "stdout",
     "output_type": "stream",
     "text": [
      "What is your name?\n",
      "Sathwik Mattapally\n"
     ]
    }
   ],
   "source": [
    "name = input('What is your name?\\n')"
   ]
  },
  {
   "cell_type": "code",
   "execution_count": 4,
   "metadata": {},
   "outputs": [
    {
     "name": "stdout",
     "output_type": "stream",
     "text": [
      "What...is the airspeed velocity of an unladen swallow?\n",
      "60\n"
     ]
    }
   ],
   "source": [
    "prompt= 'What...is the airspeed velocity of an unladen swallow?\\n'\n",
    "speed = input(prompt)"
   ]
  },
  {
   "cell_type": "code",
   "execution_count": 5,
   "metadata": {},
   "outputs": [
    {
     "data": {
      "text/plain": [
       "60"
      ]
     },
     "execution_count": 5,
     "metadata": {},
     "output_type": "execute_result"
    }
   ],
   "source": [
    "int(speed)"
   ]
  },
  {
   "cell_type": "code",
   "execution_count": 13,
   "metadata": {},
   "outputs": [
    {
     "name": "stdout",
     "output_type": "stream",
     "text": [
      "Factorial is only defined for integers.\n",
      "Factorial is not defined for negative integers.\n"
     ]
    }
   ],
   "source": [
    "#Checking Types\n",
    "def factorial(n):\n",
    "    if not isinstance(n, int):\n",
    "        print('Factorial is only defined for integers.')\n",
    "        return None\n",
    "    elif(n < 0):\n",
    "        print('Factorial is not defined for negative integers.')\n",
    "        return None\n",
    "    elif(n == 0):\n",
    "        return 1\n",
    "    else:\n",
    "        return n * factorial(n-1)\n",
    "\n",
    "factorial(6)\n",
    "factorial('fred')\n",
    "factorial(-6)"
   ]
  },
  {
   "cell_type": "code",
   "execution_count": 3,
   "metadata": {},
   "outputs": [
    {
     "name": "stdout",
     "output_type": "stream",
     "text": [
      "                                         factorial 10\n",
      "                                     factorial 9\n",
      "                                 factorial 8\n",
      "                             factorial 7\n",
      "                         factorial 6\n",
      "                     factorial 5\n",
      "                 factorial 4\n",
      "             factorial 3\n",
      "         factorial 2\n",
      "     factorial 1\n",
      " factorial 0\n",
      " returning 1\n",
      "     returning 1\n",
      "         returning 2\n",
      "             returning 6\n",
      "                 returning 24\n",
      "                     returning 120\n",
      "                         returning 720\n",
      "                             returning 5040\n",
      "                                 returning 40320\n",
      "                                     returning 362880\n",
      "                                         returning 3628800\n"
     ]
    },
    {
     "data": {
      "text/plain": [
       "3628800"
      ]
     },
     "execution_count": 3,
     "metadata": {},
     "output_type": "execute_result"
    }
   ],
   "source": [
    "def factorial1(n):\n",
    "    space = ' ' * (4 * n)\n",
    "    print(space, 'factorial', n)\n",
    "    if n == 0:\n",
    "        print(space, 'returning 1')\n",
    "        return 1\n",
    "    else:\n",
    "        recurse = factorial1(n-1)\n",
    "        result = n * recurse\n",
    "        print(space, 'returning', result)\n",
    "    return result\n",
    "\n",
    "factorial1(10)"
   ]
  },
  {
   "cell_type": "code",
   "execution_count": 6,
   "metadata": {},
   "outputs": [
    {
     "data": {
      "text/plain": [
       "7"
      ]
     },
     "execution_count": 6,
     "metadata": {},
     "output_type": "execute_result"
    }
   ],
   "source": [
    "#Reassignment of values to variables\n",
    "x = 5\n",
    "x\n",
    "x = 7\n",
    "x"
   ]
  },
  {
   "cell_type": "code",
   "execution_count": 9,
   "metadata": {},
   "outputs": [
    {
     "data": {
      "text/plain": [
       "-1"
      ]
     },
     "execution_count": 9,
     "metadata": {},
     "output_type": "execute_result"
    }
   ],
   "source": [
    "#updating variables\n",
    "x = 0 #assigning variable\n",
    "x = x+1 #incrementing variable\n",
    "x\n",
    "\n",
    "y = 0 #assigning variable\n",
    "y = y-1 #decrementing variable\n",
    "y"
   ]
  },
  {
   "cell_type": "code",
   "execution_count": 10,
   "metadata": {},
   "outputs": [
    {
     "name": "stdout",
     "output_type": "stream",
     "text": [
      "3\n",
      "2\n",
      "1\n",
      "Blastoff!\n"
     ]
    }
   ],
   "source": [
    "#While statements\n",
    "def countdown(n):\n",
    "    while n > 0:\n",
    "        print(n)\n",
    "        n = n - 1\n",
    "    print('Blastoff!')\n",
    "    \n",
    "countdown(3)"
   ]
  },
  {
   "cell_type": "code",
   "execution_count": null,
   "metadata": {},
   "outputs": [],
   "source": [
    "#Break Statements\n",
    "while True:\n",
    "    line = input('> ')\n",
    "    if line == 'done':\n",
    "        break\n",
    "    print(line)\n",
    "print('Done!')"
   ]
  },
  {
   "cell_type": "code",
   "execution_count": null,
   "metadata": {},
   "outputs": [],
   "source": []
  },
  {
   "cell_type": "code",
   "execution_count": null,
   "metadata": {},
   "outputs": [],
   "source": []
  }
 ],
 "metadata": {
  "kernelspec": {
   "display_name": "Python 3",
   "language": "python",
   "name": "python3"
  },
  "language_info": {
   "codemirror_mode": {
    "name": "ipython",
    "version": 3
   },
   "file_extension": ".py",
   "mimetype": "text/x-python",
   "name": "python",
   "nbconvert_exporter": "python",
   "pygments_lexer": "ipython3",
   "version": "3.7.1"
  }
 },
 "nbformat": 4,
 "nbformat_minor": 2
}
