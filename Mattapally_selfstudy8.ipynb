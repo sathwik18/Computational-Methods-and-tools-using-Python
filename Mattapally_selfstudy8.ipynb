{
 "cells": [
  {
   "cell_type": "markdown",
   "metadata": {},
   "source": [
    "#### Chapter 1 "
   ]
  },
  {
   "cell_type": "code",
   "execution_count": 1,
   "metadata": {},
   "outputs": [],
   "source": [
    "from matplotlib import pyplot as plt"
   ]
  },
  {
   "cell_type": "code",
   "execution_count": 2,
   "metadata": {},
   "outputs": [],
   "source": [
    "users = [\n",
    "    { \"id\": 0, \"name\": \"Hero\" },\n",
    "    { \"id\": 1, \"name\": \"Dunn\" },\n",
    "    { \"id\": 2, \"name\": \"Sue\" },\n",
    "    { \"id\": 3, \"name\": \"Chi\" },\n",
    "    { \"id\": 4, \"name\": \"Thor\" },\n",
    "    { \"id\": 5, \"name\": \"Clive\" },\n",
    "    { \"id\": 6, \"name\": \"Hicks\" },\n",
    "    { \"id\": 7, \"name\": \"Devin\" },\n",
    "    { \"id\": 8, \"name\": \"Kate\" },\n",
    "    { \"id\": 9, \"name\": \"Klein\" },\n",
    "    { \"id\": 10, \"name\": \"Jen\" }\n",
    "]\n"
   ]
  },
  {
   "cell_type": "code",
   "execution_count": 3,
   "metadata": {},
   "outputs": [],
   "source": [
    "friendships = [(0, 1), (0, 2), (1, 2), (1, 3), (2, 3), (3, 4),\n",
    "               (4, 5), (5, 6), (5, 7), (6, 8), (7, 8), (8, 9)]"
   ]
  },
  {
   "cell_type": "code",
   "execution_count": 4,
   "metadata": {},
   "outputs": [],
   "source": [
    "for user in users:\n",
    "    user[\"friends\"] = []"
   ]
  },
  {
   "cell_type": "code",
   "execution_count": 5,
   "metadata": {},
   "outputs": [],
   "source": [
    "for i, j in friendships:\n",
    "    users[i][\"friends\"].append(users[j]) # add i as a friend of j\n",
    "    users[j][\"friends\"].append(users[i]) # add j as a friend of i\n"
   ]
  },
  {
   "cell_type": "code",
   "execution_count": 6,
   "metadata": {},
   "outputs": [],
   "source": [
    "def number_of_friends(user):\n",
    "    \"\"\"how many friends does _user_ have?\"\"\"\n",
    "    return len(user[\"friends\"]) # length of friend_ids list\n",
    "\n",
    "total_connections = sum(number_of_friends(user)\n",
    "                        for user in users) # 24\n",
    "\n",
    "num_users = len(users)\n",
    "avg_connections = total_connections / num_users # 2.4\n"
   ]
  },
  {
   "cell_type": "code",
   "execution_count": 7,
   "metadata": {},
   "outputs": [
    {
     "data": {
      "text/plain": [
       "[(1, 3),\n",
       " (2, 3),\n",
       " (3, 3),\n",
       " (5, 3),\n",
       " (8, 3),\n",
       " (0, 2),\n",
       " (4, 2),\n",
       " (6, 2),\n",
       " (7, 2),\n",
       " (9, 1),\n",
       " (10, 0)]"
      ]
     },
     "execution_count": 7,
     "metadata": {},
     "output_type": "execute_result"
    }
   ],
   "source": [
    "num_friends_by_id = [(user[\"id\"], number_of_friends(user)) for user in users]\n",
    "sorted(num_friends_by_id,\n",
    "       key= lambda userid_numfriends: userid_numfriends[1],\n",
    "       reverse=True) "
   ]
  },
  {
   "cell_type": "code",
   "execution_count": 8,
   "metadata": {},
   "outputs": [],
   "source": [
    "def friends_of_friend_ids_bad(user):\n",
    "    # \"foaf\" is short for \"friend of a friend\"\n",
    "    return [foaf[\"id\"]\n",
    "            for friend in user[\"friends\"] # for each of user's friends\n",
    "            for foaf in friend[\"friends\"]] # get each of _their_ friends\n"
   ]
  },
  {
   "cell_type": "code",
   "execution_count": 10,
   "metadata": {},
   "outputs": [
    {
     "name": "stdout",
     "output_type": "stream",
     "text": [
      "[1, 2]\n",
      "[0, 2, 3]\n",
      "[0, 1, 3]\n"
     ]
    }
   ],
   "source": [
    "print ([friend[\"id\"] for friend in users[0][\"friends\"]]) \n",
    "print ([friend[\"id\"] for friend in users[1][\"friends\"]]) \n",
    "print ([friend[\"id\"] for friend in users[2][\"friends\"]]) "
   ]
  },
  {
   "cell_type": "code",
   "execution_count": 11,
   "metadata": {},
   "outputs": [],
   "source": [
    "from collections import Counter # not loaded by default\n",
    "\n",
    "def not_the_same(user, other_user):\n",
    "    \"\"\"two users are not the same if they have different ids\"\"\"\n",
    "    return user[\"id\"] != other_user[\"id\"]\n",
    "\n",
    "def not_friends(user, other_user):\n",
    "    \"\"\"other_user is not a friend if he's not in user[\"friends\"];\n",
    "    that is, if he's not_the_same as all the people in user[\"friends\"]\"\"\"\n",
    "    return all(not_the_same(friend, other_user)\n",
    "               for friend in user[\"friends\"])\n",
    "\n",
    "def friends_of_friend_ids(user):\n",
    "    return Counter(foaf[\"id\"]\n",
    "                   for friend in user[\"friends\"]  # for each of my friends\n",
    "                   for foaf in friend[\"friends\"]  # count *their* friends\n",
    "                   if not_the_same(user, foaf)    # who aren't me\n",
    "                   and not_friends(user, foaf))   # and aren't my friends"
   ]
  },
  {
   "cell_type": "code",
   "execution_count": 12,
   "metadata": {},
   "outputs": [
    {
     "name": "stdout",
     "output_type": "stream",
     "text": [
      "Counter({0: 2, 5: 1})\n"
     ]
    }
   ],
   "source": [
    "print (friends_of_friend_ids(users[3]))"
   ]
  },
  {
   "cell_type": "code",
   "execution_count": 13,
   "metadata": {},
   "outputs": [],
   "source": [
    "interests = [\n",
    "    (0, \"Hadoop\"), (0, \"Big Data\"), (0, \"HBase\"), (0, \"Java\"),\n",
    "    (0, \"Spark\"), (0, \"Storm\"), (0, \"Cassandra\"),\n",
    "    (1, \"NoSQL\"), (1, \"MongoDB\"), (1, \"Cassandra\"), (1, \"HBase\"),\n",
    "    (1, \"Postgres\"), (2, \"Python\"), (2, \"scikit-learn\"), (2, \"scipy\"),\n",
    "    (2, \"numpy\"), (2, \"statsmodels\"), (2, \"pandas\"), (3, \"R\"), (3, \"Python\"),\n",
    "    (3, \"statistics\"), (3, \"regression\"), (3, \"probability\"),\n",
    "    (4, \"machine learning\"), (4, \"regression\"), (4, \"decision trees\"),\n",
    "    (4, \"libsvm\"), (5, \"Python\"), (5, \"R\"), (5, \"Java\"), (5, \"C++\"),\n",
    "    (5, \"Haskell\"), (5, \"programming languages\"), (6, \"statistics\"),\n",
    "    (6, \"probability\"), (6, \"mathematics\"), (6, \"theory\"),\n",
    "    (7, \"machine learning\"), (7, \"scikit-learn\"), (7, \"Mahout\"),\n",
    "    (7, \"neural networks\"), (8, \"neural networks\"), (8, \"deep learning\"),\n",
    "    (8, \"Big Data\"), (8, \"artificial intelligence\"), (9, \"Hadoop\"),\n",
    "    (9, \"Java\"), (9, \"MapReduce\"), (9, \"Big Data\")\n",
    "]\n"
   ]
  },
  {
   "cell_type": "code",
   "execution_count": 14,
   "metadata": {},
   "outputs": [],
   "source": [
    "def data_scientists_who_like(target_interest):\n",
    "    return [user_id\n",
    "            for user_id, user_interest in interests\n",
    "            if user_interest == target_interest]\n"
   ]
  },
  {
   "cell_type": "code",
   "execution_count": 16,
   "metadata": {},
   "outputs": [],
   "source": [
    "from collections import defaultdict\n",
    "\n",
    "# keys are interests, values are lists of user_ids with that interest\n",
    "user_ids_by_interest = defaultdict(list)\n",
    "\n",
    "for user_id, interest in interests:\n",
    "    user_ids_by_interest[interest].append(user_id)\n",
    "\n",
    "# keys are user_ids, values are lists of interests for that user_id\n",
    "interests_by_user_id = defaultdict(list)\n",
    "\n",
    "for user_id, interest in interests:\n",
    "    interests_by_user_id[user_id].append(interest)"
   ]
  },
  {
   "cell_type": "code",
   "execution_count": 17,
   "metadata": {},
   "outputs": [],
   "source": [
    "def most_common_interests_with(user_id):\n",
    "    return Counter(interested_user_id\n",
    "        for interest in interests_by_user_id[\"user_id\"]\n",
    "        for interested_user_id in user_ids_by_interest[interest]\n",
    "        if interested_user_id != user_id)\n"
   ]
  },
  {
   "cell_type": "code",
   "execution_count": 18,
   "metadata": {},
   "outputs": [],
   "source": [
    "salaries_and_tenures = [(83000, 8.7), (88000, 8.1),\n",
    "                        (48000, 0.7), (76000, 6),\n",
    "                        (69000, 6.5), (76000, 7.5),\n",
    "                        (60000, 2.5), (83000, 10),\n",
    "                        (48000, 1.9), (63000, 4.2)]"
   ]
  },
  {
   "cell_type": "code",
   "execution_count": 21,
   "metadata": {},
   "outputs": [],
   "source": [
    "def make_chart_salaries_by_tenure():\n",
    "    tenures = [tenure for salary, tenure in salaries_and_tenures]\n",
    "    salaries = [salary for salary, tenure in salaries_and_tenures]\n",
    "    plt.scatter(tenures, salaries)\n",
    "    plt.xlabel(\"Years Experience\")\n",
    "    plt.ylabel(\"Salary\")\n",
    "    plt.show()"
   ]
  },
  {
   "cell_type": "code",
   "execution_count": 22,
   "metadata": {},
   "outputs": [
    {
     "data": {
      "image/png": "[encoded data removed]",
      "text/plain": [
       "<Figure size 432x288 with 1 Axes>"
      ]
     },
     "metadata": {
      "needs_background": "light"
     },
     "output_type": "display_data"
    }
   ],
   "source": [
    "make_chart_salaries_by_tenure()\n"
   ]
  },
  {
   "cell_type": "code",
   "execution_count": 23,
   "metadata": {},
   "outputs": [],
   "source": [
    "salary_by_tenure = defaultdict(list)\n",
    "\n",
    "for salary, tenure in salaries_and_tenures:\n",
    "    salary_by_tenure[tenure].append(salary)\n",
    "\n",
    "average_salary_by_tenure = {\n",
    "    tenure : sum(salaries) / len(salaries)\n",
    "    for tenure, salaries in salary_by_tenure.items()\n",
    "}"
   ]
  },
  {
   "cell_type": "code",
   "execution_count": 24,
   "metadata": {},
   "outputs": [
    {
     "data": {
      "text/plain": [
       "defaultdict(list,\n",
       "            {8.7: [83000],\n",
       "             8.1: [88000],\n",
       "             0.7: [48000],\n",
       "             6: [76000],\n",
       "             6.5: [69000],\n",
       "             7.5: [76000],\n",
       "             2.5: [60000],\n",
       "             10: [83000],\n",
       "             1.9: [48000],\n",
       "             4.2: [63000]})"
      ]
     },
     "execution_count": 24,
     "metadata": {},
     "output_type": "execute_result"
    }
   ],
   "source": [
    "salary_by_tenure"
   ]
  },
  {
   "cell_type": "code",
   "execution_count": 25,
   "metadata": {},
   "outputs": [],
   "source": [
    "def tenure_bucket(tenure):\n",
    "    if tenure < 2: return \"less than two\"\n",
    "    elif tenure < 5: return \"between two and five\"\n",
    "    else: return \"more than five\""
   ]
  },
  {
   "cell_type": "code",
   "execution_count": 26,
   "metadata": {},
   "outputs": [],
   "source": [
    "salary_by_tenure_bucket = defaultdict(list)\n",
    "\n",
    "for salary, tenure in salaries_and_tenures:\n",
    "    bucket = tenure_bucket(tenure)\n",
    "    salary_by_tenure_bucket[bucket].append(salary)\n",
    "\n",
    "average_salary_by_bucket = {\n",
    "  tenure_bucket : sum(salaries) / len(salaries)\n",
    "  for tenure_bucket, salaries in salary_by_tenure_bucket.items()\n",
    "}"
   ]
  },
  {
   "cell_type": "code",
   "execution_count": 27,
   "metadata": {},
   "outputs": [
    {
     "data": {
      "text/plain": [
       "{'more than five': 79166.66666666667,\n",
       " 'less than two': 48000.0,\n",
       " 'between two and five': 61500.0}"
      ]
     },
     "execution_count": 27,
     "metadata": {},
     "output_type": "execute_result"
    }
   ],
   "source": [
    "average_salary_by_bucket"
   ]
  },
  {
   "cell_type": "code",
   "execution_count": 28,
   "metadata": {},
   "outputs": [],
   "source": [
    "def predict_paid_or_unpaid(years_experience):\n",
    "  if years_experience < 3.0: return \"paid\"\n",
    "  elif years_experience < 8.5: return \"unpaid\"\n",
    "  else: return \"paid\"\n"
   ]
  },
  {
   "cell_type": "code",
   "execution_count": 29,
   "metadata": {},
   "outputs": [],
   "source": [
    "interests = [\n",
    "(0, \"Hadoop\"), (0, \"Big Data\"), (0, \"HBase\"), (0, \"Java\"),\n",
    "(0, \"Spark\"), (0, \"Storm\"), (0, \"Cassandra\"),\n",
    "(1, \"NoSQL\"), (1, \"MongoDB\"), (1, \"Cassandra\"), (1, \"HBase\"),\n",
    "(1, \"Postgres\"), (2, \"Python\"), (2, \"scikit-learn\"), (2, \"scipy\"),\n",
    "(2, \"numpy\"), (2, \"statsmodels\"), (2, \"pandas\"), (3, \"R\"), (3, \"Python\"),\n",
    "(3, \"statistics\"), (3, \"regression\"), (3, \"probability\"),\n",
    "(4, \"machine learning\"), (4, \"regression\"), (4, \"decision trees\"),\n",
    "(4, \"libsvm\"), (5, \"Python\"), (5, \"R\"), (5, \"Java\"), (5, \"C++\"),\n",
    "(5, \"Haskell\"), (5, \"programming languages\"), (6, \"statistics\"),\n",
    "(6, \"probability\"), (6, \"mathematics\"), (6, \"theory\"),\n",
    "(7, \"machine learning\"), (7, \"scikit-learn\"), (7, \"Mahout\"),\n",
    "(7, \"neural networks\"), (8, \"neural networks\"), (8, \"deep learning\"),\n",
    "(8, \"Big Data\"), (8, \"artificial intelligence\"), (9, \"Hadoop\"),\n",
    "(9, \"Java\"), (9, \"MapReduce\"), (9, \"Big Data\")\n",
    "]"
   ]
  },
  {
   "cell_type": "code",
   "execution_count": 30,
   "metadata": {},
   "outputs": [],
   "source": [
    "words_and_counts = Counter(word\n",
    "                           for user, interest in interests\n",
    "                           for word in interest.lower().split())"
   ]
  },
  {
   "cell_type": "code",
   "execution_count": 34,
   "metadata": {},
   "outputs": [
    {
     "name": "stdout",
     "output_type": "stream",
     "text": [
      "\n",
      "######################\n",
      "#\n",
      "# FINDING KEY CONNECTORS\n",
      "#\n",
      "######################\n",
      "\n",
      "total connections 24\n",
      "number of users 11\n",
      "average connections 2.1818181818181817\n",
      "\n",
      "users sorted by number of friends:\n",
      "[(1, 3), (2, 3), (3, 3), (5, 3), (8, 3), (0, 2), (4, 2), (6, 2), (7, 2), (9, 1), (10, 0)]\n",
      "\n",
      "######################\n",
      "#\n",
      "# DATA SCIENTISTS YOU MAY KNOW\n",
      "#\n",
      "######################\n",
      "\n",
      "friends of friends bad for user 0: [0, 2, 3, 0, 1, 3]\n",
      "friends of friends for user 3: Counter({0: 2, 5: 1})\n",
      "\n",
      "######################\n",
      "#\n",
      "# SALARIES AND TENURES\n",
      "#\n",
      "######################\n",
      "\n",
      "average salary by tenure {8.7: 83000.0, 8.1: 88000.0, 0.7: 48000.0, 6: 76000.0, 6.5: 69000.0, 7.5: 76000.0, 2.5: 60000.0, 10: 83000.0, 1.9: 48000.0, 4.2: 63000.0}\n",
      "average salary by tenure bucket {'more than five': 79166.66666666667, 'less than two': 48000.0, 'between two and five': 61500.0}\n",
      "\n",
      "######################\n",
      "#\n",
      "# MOST COMMON WORDS\n",
      "#\n",
      "######################\n",
      "\n",
      "big 3\n",
      "data 3\n",
      "java 3\n",
      "python 3\n",
      "learning 3\n",
      "hadoop 2\n",
      "hbase 2\n",
      "cassandra 2\n",
      "scikit-learn 2\n",
      "r 2\n",
      "statistics 2\n",
      "regression 2\n",
      "probability 2\n",
      "machine 2\n",
      "neural 2\n",
      "networks 2\n"
     ]
    }
   ],
   "source": [
    "if __name__ == \"__main__\":\n",
    "\n",
    "    print()\n",
    "    print(\"######################\")\n",
    "    print(\"#\")\n",
    "    print(\"# FINDING KEY CONNECTORS\")\n",
    "    print(\"#\")\n",
    "    print(\"######################\")\n",
    "    print()\n",
    "\n",
    "\n",
    "    print(\"total connections\", total_connections)\n",
    "    print(\"number of users\", num_users)\n",
    "    print(\"average connections\", total_connections / num_users)\n",
    "    print()\n",
    "\n",
    "    # create a list (user_id, number_of_friends)\n",
    "    num_friends_by_id = [(user[\"id\"], number_of_friends(user))\n",
    "                         for user in users]\n",
    "\n",
    "    print(\"users sorted by number of friends:\")\n",
    "    print(sorted(num_friends_by_id,\n",
    "                 key=lambda pair: pair[1],                       # by number of friends\n",
    "                 reverse=True))                                  # largest to smallest\n",
    "\n",
    "    print()\n",
    "    print(\"######################\")\n",
    "    print(\"#\")\n",
    "    print(\"# DATA SCIENTISTS YOU MAY KNOW\")\n",
    "    print(\"#\")\n",
    "    print(\"######################\")\n",
    "    print()\n",
    "\n",
    "\n",
    "    print(\"friends of friends bad for user 0:\", friends_of_friend_ids_bad(users[0]))\n",
    "    print(\"friends of friends for user 3:\", friends_of_friend_ids(users[3]))\n",
    "\n",
    "    print()\n",
    "    print(\"######################\")\n",
    "    print(\"#\")\n",
    "    print(\"# SALARIES AND TENURES\")\n",
    "    print(\"#\")\n",
    "    print(\"######################\")\n",
    "    print()\n",
    "\n",
    "    print(\"average salary by tenure\", average_salary_by_tenure)\n",
    "    print(\"average salary by tenure bucket\", average_salary_by_bucket)\n",
    "\n",
    "    print()\n",
    "    print(\"######################\")\n",
    "    print(\"#\")\n",
    "    print(\"# MOST COMMON WORDS\")\n",
    "    print(\"#\")\n",
    "    print(\"######################\")\n",
    "    print()\n",
    "    \n",
    "    for word, count in words_and_counts.most_common():\n",
    "        if count > 1:\n",
    "            print (word, count)"
   ]
  },
  {
   "cell_type": "markdown",
   "metadata": {},
   "source": [
    "#### Chapter 3 Visualizing Data"
   ]
  },
  {
   "cell_type": "code",
   "execution_count": 55,
   "metadata": {},
   "outputs": [],
   "source": [
    "import matplotlib.pyplot as plt\n",
    "from collections import Counter"
   ]
  },
  {
   "cell_type": "code",
   "execution_count": 36,
   "metadata": {},
   "outputs": [],
   "source": [
    "def make_chart_simple_line_chart():\n",
    "\n",
    "    years = [1950, 1960, 1970, 1980, 1990, 2000, 2010]\n",
    "    gdp = [300.2, 543.3, 1075.9, 2862.5, 5979.6, 10289.7, 14958.3]\n",
    "\n",
    "    # create a line chart, years on x-axis, gdp on y-axis\n",
    "    plt.plot(years, gdp, color='green', marker='o', linestyle='solid')\n",
    "\n",
    "    # add a title\n",
    "    plt.title(\"Nominal GDP\")\n",
    "\n",
    "    # add a label to the y-axis\n",
    "    plt.ylabel(\"Billions of $\")\n",
    "    plt.show()"
   ]
  },
  {
   "cell_type": "code",
   "execution_count": 37,
   "metadata": {},
   "outputs": [
    {
     "data": {
      "image/png": "[encoded data removed]",
      "text/plain": [
       "<Figure size 432x288 with 1 Axes>"
      ]
     },
     "metadata": {
      "needs_background": "light"
     },
     "output_type": "display_data"
    }
   ],
   "source": [
    "make_chart_simple_line_chart()"
   ]
  },
  {
   "cell_type": "code",
   "execution_count": 39,
   "metadata": {},
   "outputs": [],
   "source": [
    "def make_chart_simple_bar_chart():\n",
    "\n",
    "    movies = [\"Annie Hall\", \"Ben-Hur\", \"Casablanca\", \"Gandhi\", \"West Side Story\"]\n",
    "    num_oscars = [5, 11, 3, 8, 10]\n",
    "\n",
    "    # bars are by default width 0.8, so we'll add 0.1 to the left coordinates\n",
    "    # so that each bar is centered\n",
    "    xs = [i + 0.1 for i, _ in enumerate(movies)]\n",
    "\n",
    "    # plot bars with left x-coordinates [xs], heights [num_oscars]\n",
    "    plt.bar(xs, num_oscars)\n",
    "    plt.ylabel(\"# of Academy Awards\")\n",
    "    plt.title(\"My Favorite Movies\")\n",
    "\n",
    "    # label x-axis with movie names at bar centers\n",
    "    plt.xticks([i + 0.5 for i, _ in enumerate(movies)], movies)\n",
    "\n",
    "    plt.show()"
   ]
  },
  {
   "cell_type": "code",
   "execution_count": 40,
   "metadata": {},
   "outputs": [
    {
     "data": {
      "image/png": "[encoded data removed]",
      "text/plain": [
       "<Figure size 432x288 with 1 Axes>"
      ]
     },
     "metadata": {
      "needs_background": "light"
     },
     "output_type": "display_data"
    }
   ],
   "source": [
    "make_chart_simple_bar_chart()"
   ]
  },
  {
   "cell_type": "code",
   "execution_count": 41,
   "metadata": {},
   "outputs": [],
   "source": [
    "def make_chart_histogram():\n",
    "    grades = [83,95,91,87,70,0,85,82,100,67,73,77,0]\n",
    "    decile = lambda grade: grade // 10 * 10\n",
    "    histogram = Counter(decile(grade) for grade in grades)\n",
    "\n",
    "    plt.bar([x - 4 for x in histogram.keys()], # shift each bar to the left by 4\n",
    "            histogram.values(),                # give each bar its correct height\n",
    "            8)                                 # give each bar a width of 8\n",
    "    plt.axis([-5, 105, 0, 5])                  # x-axis from -5 to 105,\n",
    "                                               # y-axis from 0 to 5\n",
    "    plt.xticks([10 * i for i in range(11)])    # x-axis labels at 0, 10, ..., 100\n",
    "    plt.xlabel(\"Decile\")\n",
    "    plt.ylabel(\"# of Students\")\n",
    "    plt.title(\"Distribution of Exam 1 Grades\")\n",
    "    plt.show()"
   ]
  },
  {
   "cell_type": "code",
   "execution_count": 42,
   "metadata": {},
   "outputs": [
    {
     "data": {
      "image/png": "[encoded data removed]",
      "text/plain": [
       "<Figure size 432x288 with 1 Axes>"
      ]
     },
     "metadata": {
      "needs_background": "light"
     },
     "output_type": "display_data"
    }
   ],
   "source": [
    "make_chart_histogram()"
   ]
  },
  {
   "cell_type": "code",
   "execution_count": 43,
   "metadata": {},
   "outputs": [],
   "source": [
    "def make_chart_misleading_y_axis(mislead=True):\n",
    "\n",
    "    mentions = [500, 505]\n",
    "    years = [2013, 2014]\n",
    "\n",
    "    plt.bar([2012.6, 2013.6], mentions, 0.8)\n",
    "    plt.xticks(years)\n",
    "    plt.ylabel(\"# of times I heard someone say 'data science'\")\n",
    "\n",
    "    # if you don't do this, matplotlib will label the x-axis 0, 1\n",
    "    # and then add a +2.013e3 off in the corner (bad matplotlib!)\n",
    "    plt.ticklabel_format(useOffset=False)\n",
    "\n",
    "    if mislead:\n",
    "        # misleading y-axis only shows the part above 500\n",
    "        plt.axis([2012.5,2014.5,499,506])\n",
    "        plt.title(\"Look at the 'Huge' Increase!\")\n",
    "    else:\n",
    "        plt.axis([2012.5,2014.5,0,550])\n",
    "        plt.title(\"Not So Huge Anymore.\")\n",
    "    plt.show()"
   ]
  },
  {
   "cell_type": "code",
   "execution_count": 44,
   "metadata": {},
   "outputs": [
    {
     "data": {
      "image/png": "[encoded data removed]",
      "text/plain": [
       "<Figure size 432x288 with 1 Axes>"
      ]
     },
     "metadata": {
      "needs_background": "light"
     },
     "output_type": "display_data"
    }
   ],
   "source": [
    "make_chart_misleading_y_axis()"
   ]
  },
  {
   "cell_type": "code",
   "execution_count": 45,
   "metadata": {},
   "outputs": [],
   "source": [
    "def make_chart_several_line_charts():\n",
    "\n",
    "    variance     = [1,2,4,8,16,32,64,128,256]\n",
    "    bias_squared = [256,128,64,32,16,8,4,2,1]\n",
    "    total_error  = [x + y for x, y in zip(variance, bias_squared)]\n",
    "\n",
    "    xs = range(len(variance))\n",
    "\n",
    "    # we can make multiple calls to plt.plot\n",
    "    # to show multiple series on the same chart\n",
    "    plt.plot(xs, variance,     'g-',  label='variance')    # green solid line\n",
    "    plt.plot(xs, bias_squared, 'r-.', label='bias^2')      # red dot-dashed line\n",
    "    plt.plot(xs, total_error,  'b:',  label='total error') # blue dotted line\n",
    "\n",
    "    # because we've assigned labels to each series\n",
    "    # we can get a legend for free\n",
    "    # loc=9 means \"top center\"\n",
    "    plt.legend(loc=9)\n",
    "    plt.xlabel(\"model complexity\")\n",
    "    plt.title(\"The Bias-Variance Tradeoff\")\n",
    "    plt.show()\n"
   ]
  },
  {
   "cell_type": "code",
   "execution_count": 46,
   "metadata": {},
   "outputs": [
    {
     "data": {
      "image/png": "[encoded data removed]",
      "text/plain": [
       "<Figure size 432x288 with 1 Axes>"
      ]
     },
     "metadata": {
      "needs_background": "light"
     },
     "output_type": "display_data"
    }
   ],
   "source": [
    "make_chart_several_line_charts()"
   ]
  },
  {
   "cell_type": "code",
   "execution_count": 47,
   "metadata": {},
   "outputs": [],
   "source": [
    "def make_chart_scatter_plot():\n",
    "\n",
    "    friends = [ 70, 65, 72, 63, 71, 64, 60, 64, 67]\n",
    "    minutes = [175, 170, 205, 120, 220, 130, 105, 145, 190]\n",
    "    labels = ['a', 'b', 'c', 'd', 'e', 'f', 'g', 'h', 'i']\n",
    "\n",
    "    plt.scatter(friends, minutes)\n",
    "\n",
    "    # label each point\n",
    "    for label, friend_count, minute_count in zip(labels, friends, minutes):\n",
    "        plt.annotate(label,\n",
    "                     xy=(friend_count, minute_count), # put the label with its point\n",
    "                     xytext=(5, -5), # but slightly offset\n",
    "                     textcoords='offset points')\n",
    "\n",
    "    plt.title(\"Daily Minutes vs. Number of Friends\")\n",
    "    plt.xlabel(\"# of friends\")\n",
    "    plt.ylabel(\"daily minutes spent on the site\")\n",
    "    plt.show()"
   ]
  },
  {
   "cell_type": "code",
   "execution_count": 48,
   "metadata": {},
   "outputs": [
    {
     "data": {
      "image/png": "[encoded data removed]",
      "text/plain": [
       "<Figure size 432x288 with 1 Axes>"
      ]
     },
     "metadata": {
      "needs_background": "light"
     },
     "output_type": "display_data"
    }
   ],
   "source": [
    "make_chart_scatter_plot()"
   ]
  },
  {
   "cell_type": "code",
   "execution_count": 49,
   "metadata": {},
   "outputs": [],
   "source": [
    "def make_chart_scatterplot_axes(equal_axes=False):\n",
    "\n",
    "    test_1_grades = [ 99, 90, 85, 97, 80]\n",
    "    test_2_grades = [100, 85, 60, 90, 70]\n",
    "\n",
    "    plt.scatter(test_1_grades, test_2_grades)\n",
    "    plt.xlabel(\"test 1 grade\")\n",
    "    plt.ylabel(\"test 2 grade\")\n",
    "\n",
    "    if equal_axes:\n",
    "        plt.title(\"Axes Are Comparable\")\n",
    "        plt.axis(\"equal\")\n",
    "    else:\n",
    "        plt.title(\"Axes Aren't Comparable\")\n",
    "\n",
    "    plt.show()"
   ]
  },
  {
   "cell_type": "code",
   "execution_count": 50,
   "metadata": {},
   "outputs": [
    {
     "data": {
      "image/png": "[encoded data removed]",
      "text/plain": [
       "<Figure size 432x288 with 1 Axes>"
      ]
     },
     "metadata": {
      "needs_background": "light"
     },
     "output_type": "display_data"
    }
   ],
   "source": [
    "make_chart_scatterplot_axes()"
   ]
  },
  {
   "cell_type": "code",
   "execution_count": 52,
   "metadata": {},
   "outputs": [],
   "source": [
    "def make_chart_pie_chart():\n",
    "\n",
    "    plt.pie([0.95, 0.05], labels=[\"Uses pie charts\", \"Knows better\"])\n",
    "\n",
    "    # make sure pie is a circle and not an oval\n",
    "    plt.axis(\"equal\")\n",
    "    plt.show()\n",
    "\n"
   ]
  },
  {
   "cell_type": "code",
   "execution_count": 53,
   "metadata": {},
   "outputs": [
    {
     "data": {
      "image/png": "[encoded data removed]",
      "text/plain": [
       "<Figure size 432x288 with 1 Axes>"
      ]
     },
     "metadata": {},
     "output_type": "display_data"
    }
   ],
   "source": [
    "make_chart_pie_chart()"
   ]
  },
  {
   "cell_type": "code",
   "execution_count": 54,
   "metadata": {},
   "outputs": [
    {
     "data": {
      "image/png": "[encoded data removed]",
      "text/plain": [
       "<Figure size 432x288 with 1 Axes>"
      ]
     },
     "metadata": {
      "needs_background": "light"
     },
     "output_type": "display_data"
    },
    {
     "data": {
      "image/png": "[encoded data removed]",
      "text/plain": [
       "<Figure size 432x288 with 1 Axes>"
      ]
     },
     "metadata": {
      "needs_background": "light"
     },
     "output_type": "display_data"
    },
    {
     "data": {
      "image/png": "[encoded data removed]",
      "text/plain": [
       "<Figure size 432x288 with 1 Axes>"
      ]
     },
     "metadata": {
      "needs_background": "light"
     },
     "output_type": "display_data"
    },
    {
     "data": {
      "image/png": "[encoded data removed]",
      "text/plain": [
       "<Figure size 432x288 with 1 Axes>"
      ]
     },
     "metadata": {
      "needs_background": "light"
     },
     "output_type": "display_data"
    },
    {
     "data": {
      "image/png": "[encoded data removed]",
      "text/plain": [
       "<Figure size 432x288 with 1 Axes>"
      ]
     },
     "metadata": {
      "needs_background": "light"
     },
     "output_type": "display_data"
    },
    {
     "data": {
      "image/png": "[encoded data removed]",
      "text/plain": [
       "<Figure size 432x288 with 1 Axes>"
      ]
     },
     "metadata": {
      "needs_background": "light"
     },
     "output_type": "display_data"
    },
    {
     "data": {
      "image/png": "[encoded data removed]",
      "text/plain": [
       "<Figure size 432x288 with 1 Axes>"
      ]
     },
     "metadata": {
      "needs_background": "light"
     },
     "output_type": "display_data"
    },
    {
     "data": {
      "image/png": "[encoded data removed]",
      "text/plain": [
       "<Figure size 432x288 with 1 Axes>"
      ]
     },
     "metadata": {
      "needs_background": "light"
     },
     "output_type": "display_data"
    },
    {
     "data": {
      "image/png": "[encoded data removed]",
      "text/plain": [
       "<Figure size 432x288 with 1 Axes>"
      ]
     },
     "metadata": {},
     "output_type": "display_data"
    }
   ],
   "source": [
    "\n",
    "if __name__ == \"__main__\":\n",
    "\n",
    "    make_chart_simple_line_chart()\n",
    "\n",
    "    make_chart_simple_bar_chart()\n",
    "\n",
    "    make_chart_histogram()\n",
    "\n",
    "    make_chart_misleading_y_axis(mislead=True)\n",
    "\n",
    "    make_chart_misleading_y_axis(mislead=False)\n",
    "\n",
    "    make_chart_several_line_charts()\n",
    "\n",
    "    make_chart_scatterplot_axes(equal_axes=False)\n",
    "\n",
    "    make_chart_scatterplot_axes(equal_axes=True)\n",
    "\n",
    "    make_chart_pie_chart()"
   ]
  },
  {
   "cell_type": "markdown",
   "metadata": {},
   "source": [
    "#### Chapter 4 Linear Algebra"
   ]
  },
  {
   "cell_type": "code",
   "execution_count": 56,
   "metadata": {},
   "outputs": [],
   "source": [
    "import re, math, random # regexes, math functions, random numbers\n",
    "import matplotlib.pyplot as plt # pyplot\n",
    "from collections import defaultdict, Counter\n",
    "from functools import partial, reduce\n"
   ]
  },
  {
   "cell_type": "code",
   "execution_count": 57,
   "metadata": {},
   "outputs": [],
   "source": [
    "height_weight_age = [70, # inches,\n",
    " 170, # pounds,\n",
    "40 ] # years"
   ]
  },
  {
   "cell_type": "code",
   "execution_count": 58,
   "metadata": {},
   "outputs": [],
   "source": [
    "grades = [95, # exam1\n",
    " 80, # exam2\n",
    " 75, # exam3\n",
    " 62 ] # exam4   "
   ]
  },
  {
   "cell_type": "code",
   "execution_count": 59,
   "metadata": {},
   "outputs": [],
   "source": [
    "def vector_add(v, w):\n",
    "    \"\"\"adds two vectors componentwise\"\"\"\n",
    "    return [v_i + w_i for v_i, w_i in zip(v,w)]\n"
   ]
  },
  {
   "cell_type": "code",
   "execution_count": 60,
   "metadata": {},
   "outputs": [],
   "source": [
    "def vector_subtract(v, w):\n",
    "    \"\"\"subtracts two vectors componentwise\"\"\"\n",
    "    return [v_i - w_i for v_i, w_i in zip(v,w)]\n"
   ]
  },
  {
   "cell_type": "code",
   "execution_count": 61,
   "metadata": {},
   "outputs": [],
   "source": [
    "def vector_sum(vectors):\n",
    "    return reduce(vector_add, vectors)"
   ]
  },
  {
   "cell_type": "code",
   "execution_count": 62,
   "metadata": {},
   "outputs": [],
   "source": [
    "def scalar_multiply(c, v):\n",
    "    return [c * v_i for v_i in v]\n"
   ]
  },
  {
   "cell_type": "code",
   "execution_count": 71,
   "metadata": {},
   "outputs": [
    {
     "data": {
      "text/plain": [
       "[[70,\n",
       "  170,\n",
       "  40,\n",
       "  70,\n",
       "  170,\n",
       "  40,\n",
       "  70,\n",
       "  170,\n",
       "  40,\n",
       "  70,\n",
       "  170,\n",
       "  40,\n",
       "  70,\n",
       "  170,\n",
       "  40,\n",
       "  70,\n",
       "  170,\n",
       "  40,\n",
       "  70,\n",
       "  170,\n",
       "  40,\n",
       "  70,\n",
       "  170,\n",
       "  40,\n",
       "  70,\n",
       "  170,\n",
       "  40,\n",
       "  70,\n",
       "  170,\n",
       "  40,\n",
       "  70,\n",
       "  170,\n",
       "  40,\n",
       "  70,\n",
       "  170,\n",
       "  40,\n",
       "  70,\n",
       "  170,\n",
       "  40,\n",
       "  70,\n",
       "  170,\n",
       "  40,\n",
       "  70,\n",
       "  170,\n",
       "  40,\n",
       "  70,\n",
       "  170,\n",
       "  40,\n",
       "  70,\n",
       "  170,\n",
       "  40,\n",
       "  70,\n",
       "  170,\n",
       "  40,\n",
       "  70,\n",
       "  170,\n",
       "  40,\n",
       "  70,\n",
       "  170,\n",
       "  40,\n",
       "  70,\n",
       "  170,\n",
       "  40,\n",
       "  70,\n",
       "  170,\n",
       "  40,\n",
       "  70,\n",
       "  170,\n",
       "  40,\n",
       "  70,\n",
       "  170,\n",
       "  40,\n",
       "  70,\n",
       "  170,\n",
       "  40,\n",
       "  70,\n",
       "  170,\n",
       "  40,\n",
       "  70,\n",
       "  170,\n",
       "  40,\n",
       "  70,\n",
       "  170,\n",
       "  40,\n",
       "  70,\n",
       "  170,\n",
       "  40,\n",
       "  70,\n",
       "  170,\n",
       "  40,\n",
       "  70,\n",
       "  170,\n",
       "  40,\n",
       "  70,\n",
       "  170,\n",
       "  40,\n",
       "  70,\n",
       "  170,\n",
       "  40,\n",
       "  70,\n",
       "  170,\n",
       "  40,\n",
       "  70,\n",
       "  170,\n",
       "  40,\n",
       "  70,\n",
       "  170,\n",
       "  40,\n",
       "  70,\n",
       "  170,\n",
       "  40,\n",
       "  70,\n",
       "  170,\n",
       "  40,\n",
       "  70,\n",
       "  170,\n",
       "  40,\n",
       "  70,\n",
       "  170,\n",
       "  40,\n",
       "  70,\n",
       "  170,\n",
       "  40,\n",
       "  70,\n",
       "  170,\n",
       "  40,\n",
       "  70,\n",
       "  170,\n",
       "  40,\n",
       "  70,\n",
       "  170,\n",
       "  40,\n",
       "  70,\n",
       "  170,\n",
       "  40,\n",
       "  70,\n",
       "  170,\n",
       "  40,\n",
       "  70,\n",
       "  170,\n",
       "  40,\n",
       "  70,\n",
       "  170,\n",
       "  40,\n",
       "  70,\n",
       "  170,\n",
       "  40,\n",
       "  70,\n",
       "  170,\n",
       "  40,\n",
       "  70,\n",
       "  170,\n",
       "  40,\n",
       "  70,\n",
       "  170,\n",
       "  40,\n",
       "  70,\n",
       "  170,\n",
       "  40,\n",
       "  70,\n",
       "  170,\n",
       "  40,\n",
       "  70,\n",
       "  170,\n",
       "  40,\n",
       "  70,\n",
       "  170,\n",
       "  40,\n",
       "  70,\n",
       "  170,\n",
       "  40,\n",
       "  70,\n",
       "  170,\n",
       "  40,\n",
       "  70,\n",
       "  170,\n",
       "  40,\n",
       "  70,\n",
       "  170,\n",
       "  40,\n",
       "  70,\n",
       "  170,\n",
       "  40,\n",
       "  70,\n",
       "  170,\n",
       "  40,\n",
       "  70,\n",
       "  170,\n",
       "  40,\n",
       "  70,\n",
       "  170,\n",
       "  40,\n",
       "  70,\n",
       "  170,\n",
       "  40,\n",
       "  70,\n",
       "  170,\n",
       "  40,\n",
       "  70,\n",
       "  170,\n",
       "  40,\n",
       "  70,\n",
       "  170,\n",
       "  40,\n",
       "  70,\n",
       "  170,\n",
       "  40,\n",
       "  70,\n",
       "  170,\n",
       "  40,\n",
       "  70,\n",
       "  170,\n",
       "  40,\n",
       "  70,\n",
       "  170,\n",
       "  40,\n",
       "  70,\n",
       "  170,\n",
       "  40,\n",
       "  70,\n",
       "  170,\n",
       "  40,\n",
       "  70,\n",
       "  170,\n",
       "  40,\n",
       "  70,\n",
       "  170,\n",
       "  40,\n",
       "  70,\n",
       "  170,\n",
       "  40,\n",
       "  70,\n",
       "  170,\n",
       "  40,\n",
       "  70,\n",
       "  170,\n",
       "  40,\n",
       "  70,\n",
       "  170,\n",
       "  40,\n",
       "  70,\n",
       "  170,\n",
       "  40,\n",
       "  70,\n",
       "  170,\n",
       "  40,\n",
       "  70,\n",
       "  170,\n",
       "  40,\n",
       "  70,\n",
       "  170,\n",
       "  40,\n",
       "  70,\n",
       "  170,\n",
       "  40,\n",
       "  70,\n",
       "  170,\n",
       "  40,\n",
       "  70,\n",
       "  170,\n",
       "  40,\n",
       "  70,\n",
       "  170,\n",
       "  40,\n",
       "  70,\n",
       "  170,\n",
       "  40,\n",
       "  70,\n",
       "  170,\n",
       "  40,\n",
       "  70,\n",
       "  170,\n",
       "  40,\n",
       "  70,\n",
       "  170,\n",
       "  40,\n",
       "  70,\n",
       "  170,\n",
       "  40,\n",
       "  70,\n",
       "  170,\n",
       "  40,\n",
       "  70,\n",
       "  170,\n",
       "  40],\n",
       " [70,\n",
       "  170,\n",
       "  40,\n",
       "  70,\n",
       "  170,\n",
       "  40,\n",
       "  70,\n",
       "  170,\n",
       "  40,\n",
       "  70,\n",
       "  170,\n",
       "  40,\n",
       "  70,\n",
       "  170,\n",
       "  40,\n",
       "  70,\n",
       "  170,\n",
       "  40,\n",
       "  70,\n",
       "  170,\n",
       "  40,\n",
       "  70,\n",
       "  170,\n",
       "  40,\n",
       "  70,\n",
       "  170,\n",
       "  40,\n",
       "  70,\n",
       "  170,\n",
       "  40,\n",
       "  70,\n",
       "  170,\n",
       "  40,\n",
       "  70,\n",
       "  170,\n",
       "  40,\n",
       "  70,\n",
       "  170,\n",
       "  40,\n",
       "  70,\n",
       "  170,\n",
       "  40,\n",
       "  70,\n",
       "  170,\n",
       "  40,\n",
       "  70,\n",
       "  170,\n",
       "  40,\n",
       "  70,\n",
       "  170,\n",
       "  40,\n",
       "  70,\n",
       "  170,\n",
       "  40,\n",
       "  70,\n",
       "  170,\n",
       "  40,\n",
       "  70,\n",
       "  170,\n",
       "  40,\n",
       "  70,\n",
       "  170,\n",
       "  40,\n",
       "  70,\n",
       "  170,\n",
       "  40,\n",
       "  70,\n",
       "  170,\n",
       "  40,\n",
       "  70,\n",
       "  170,\n",
       "  40,\n",
       "  70,\n",
       "  170,\n",
       "  40,\n",
       "  70,\n",
       "  170,\n",
       "  40,\n",
       "  70,\n",
       "  170,\n",
       "  40,\n",
       "  70,\n",
       "  170,\n",
       "  40,\n",
       "  70,\n",
       "  170,\n",
       "  40,\n",
       "  70,\n",
       "  170,\n",
       "  40,\n",
       "  70,\n",
       "  170,\n",
       "  40,\n",
       "  70,\n",
       "  170,\n",
       "  40,\n",
       "  70,\n",
       "  170,\n",
       "  40,\n",
       "  70,\n",
       "  170,\n",
       "  40,\n",
       "  70,\n",
       "  170,\n",
       "  40,\n",
       "  70,\n",
       "  170,\n",
       "  40,\n",
       "  70,\n",
       "  170,\n",
       "  40,\n",
       "  70,\n",
       "  170,\n",
       "  40,\n",
       "  70,\n",
       "  170,\n",
       "  40,\n",
       "  70,\n",
       "  170,\n",
       "  40,\n",
       "  70,\n",
       "  170,\n",
       "  40,\n",
       "  70,\n",
       "  170,\n",
       "  40,\n",
       "  70,\n",
       "  170,\n",
       "  40,\n",
       "  70,\n",
       "  170,\n",
       "  40,\n",
       "  70,\n",
       "  170,\n",
       "  40,\n",
       "  70,\n",
       "  170,\n",
       "  40,\n",
       "  70,\n",
       "  170,\n",
       "  40,\n",
       "  70,\n",
       "  170,\n",
       "  40,\n",
       "  70,\n",
       "  170,\n",
       "  40,\n",
       "  70,\n",
       "  170,\n",
       "  40,\n",
       "  70,\n",
       "  170,\n",
       "  40,\n",
       "  70,\n",
       "  170,\n",
       "  40,\n",
       "  70,\n",
       "  170,\n",
       "  40,\n",
       "  70,\n",
       "  170,\n",
       "  40,\n",
       "  70,\n",
       "  170,\n",
       "  40,\n",
       "  70,\n",
       "  170,\n",
       "  40,\n",
       "  70,\n",
       "  170,\n",
       "  40,\n",
       "  70,\n",
       "  170,\n",
       "  40,\n",
       "  70,\n",
       "  170,\n",
       "  40,\n",
       "  70,\n",
       "  170,\n",
       "  40,\n",
       "  70,\n",
       "  170,\n",
       "  40,\n",
       "  70,\n",
       "  170,\n",
       "  40,\n",
       "  70,\n",
       "  170,\n",
       "  40,\n",
       "  70,\n",
       "  170,\n",
       "  40,\n",
       "  70,\n",
       "  170,\n",
       "  40,\n",
       "  70,\n",
       "  170,\n",
       "  40,\n",
       "  70,\n",
       "  170,\n",
       "  40,\n",
       "  70,\n",
       "  170,\n",
       "  40,\n",
       "  70,\n",
       "  170,\n",
       "  40,\n",
       "  70,\n",
       "  170,\n",
       "  40,\n",
       "  70,\n",
       "  170,\n",
       "  40,\n",
       "  70,\n",
       "  170,\n",
       "  40,\n",
       "  70,\n",
       "  170,\n",
       "  40,\n",
       "  70,\n",
       "  170,\n",
       "  40,\n",
       "  70,\n",
       "  170,\n",
       "  40,\n",
       "  70,\n",
       "  170,\n",
       "  40,\n",
       "  70,\n",
       "  170,\n",
       "  40,\n",
       "  70,\n",
       "  170,\n",
       "  40,\n",
       "  70,\n",
       "  170,\n",
       "  40,\n",
       "  70,\n",
       "  170,\n",
       "  40],\n",
       " [70,\n",
       "  170,\n",
       "  40,\n",
       "  70,\n",
       "  170,\n",
       "  40,\n",
       "  70,\n",
       "  170,\n",
       "  40,\n",
       "  70,\n",
       "  170,\n",
       "  40,\n",
       "  70,\n",
       "  170,\n",
       "  40,\n",
       "  70,\n",
       "  170,\n",
       "  40,\n",
       "  70,\n",
       "  170,\n",
       "  40,\n",
       "  70,\n",
       "  170,\n",
       "  40,\n",
       "  70,\n",
       "  170,\n",
       "  40,\n",
       "  70,\n",
       "  170,\n",
       "  40,\n",
       "  70,\n",
       "  170,\n",
       "  40,\n",
       "  70,\n",
       "  170,\n",
       "  40,\n",
       "  70,\n",
       "  170,\n",
       "  40,\n",
       "  70,\n",
       "  170,\n",
       "  40,\n",
       "  70,\n",
       "  170,\n",
       "  40,\n",
       "  70,\n",
       "  170,\n",
       "  40,\n",
       "  70,\n",
       "  170,\n",
       "  40,\n",
       "  70,\n",
       "  170,\n",
       "  40,\n",
       "  70,\n",
       "  170,\n",
       "  40,\n",
       "  70,\n",
       "  170,\n",
       "  40,\n",
       "  70,\n",
       "  170,\n",
       "  40,\n",
       "  70,\n",
       "  170,\n",
       "  40,\n",
       "  70,\n",
       "  170,\n",
       "  40,\n",
       "  70,\n",
       "  170,\n",
       "  40,\n",
       "  70,\n",
       "  170,\n",
       "  40,\n",
       "  70,\n",
       "  170,\n",
       "  40,\n",
       "  70,\n",
       "  170,\n",
       "  40,\n",
       "  70,\n",
       "  170,\n",
       "  40,\n",
       "  70,\n",
       "  170,\n",
       "  40,\n",
       "  70,\n",
       "  170,\n",
       "  40,\n",
       "  70,\n",
       "  170,\n",
       "  40,\n",
       "  70,\n",
       "  170,\n",
       "  40,\n",
       "  70,\n",
       "  170,\n",
       "  40,\n",
       "  70,\n",
       "  170,\n",
       "  40,\n",
       "  70,\n",
       "  170,\n",
       "  40,\n",
       "  70,\n",
       "  170,\n",
       "  40,\n",
       "  70,\n",
       "  170,\n",
       "  40,\n",
       "  70,\n",
       "  170,\n",
       "  40,\n",
       "  70,\n",
       "  170,\n",
       "  40,\n",
       "  70,\n",
       "  170,\n",
       "  40,\n",
       "  70,\n",
       "  170,\n",
       "  40,\n",
       "  70,\n",
       "  170,\n",
       "  40,\n",
       "  70,\n",
       "  170,\n",
       "  40,\n",
       "  70,\n",
       "  170,\n",
       "  40,\n",
       "  70,\n",
       "  170,\n",
       "  40,\n",
       "  70,\n",
       "  170,\n",
       "  40,\n",
       "  70,\n",
       "  170,\n",
       "  40,\n",
       "  70,\n",
       "  170,\n",
       "  40,\n",
       "  70,\n",
       "  170,\n",
       "  40,\n",
       "  70,\n",
       "  170,\n",
       "  40,\n",
       "  70,\n",
       "  170,\n",
       "  40,\n",
       "  70,\n",
       "  170,\n",
       "  40,\n",
       "  70,\n",
       "  170,\n",
       "  40,\n",
       "  70,\n",
       "  170,\n",
       "  40,\n",
       "  70,\n",
       "  170,\n",
       "  40,\n",
       "  70,\n",
       "  170,\n",
       "  40,\n",
       "  70,\n",
       "  170,\n",
       "  40,\n",
       "  70,\n",
       "  170,\n",
       "  40,\n",
       "  70,\n",
       "  170,\n",
       "  40,\n",
       "  70,\n",
       "  170,\n",
       "  40,\n",
       "  70,\n",
       "  170,\n",
       "  40,\n",
       "  70,\n",
       "  170,\n",
       "  40,\n",
       "  70,\n",
       "  170,\n",
       "  40,\n",
       "  70,\n",
       "  170,\n",
       "  40,\n",
       "  70,\n",
       "  170,\n",
       "  40,\n",
       "  70,\n",
       "  170,\n",
       "  40,\n",
       "  70,\n",
       "  170,\n",
       "  40,\n",
       "  70,\n",
       "  170,\n",
       "  40,\n",
       "  70,\n",
       "  170,\n",
       "  40,\n",
       "  70,\n",
       "  170,\n",
       "  40,\n",
       "  70,\n",
       "  170,\n",
       "  40,\n",
       "  70,\n",
       "  170,\n",
       "  40,\n",
       "  70,\n",
       "  170,\n",
       "  40,\n",
       "  70,\n",
       "  170,\n",
       "  40,\n",
       "  70,\n",
       "  170,\n",
       "  40],\n",
       " [70,\n",
       "  170,\n",
       "  40,\n",
       "  70,\n",
       "  170,\n",
       "  40,\n",
       "  70,\n",
       "  170,\n",
       "  40,\n",
       "  70,\n",
       "  170,\n",
       "  40,\n",
       "  70,\n",
       "  170,\n",
       "  40,\n",
       "  70,\n",
       "  170,\n",
       "  40,\n",
       "  70,\n",
       "  170,\n",
       "  40,\n",
       "  70,\n",
       "  170,\n",
       "  40,\n",
       "  70,\n",
       "  170,\n",
       "  40,\n",
       "  70,\n",
       "  170,\n",
       "  40,\n",
       "  70,\n",
       "  170,\n",
       "  40,\n",
       "  70,\n",
       "  170,\n",
       "  40,\n",
       "  70,\n",
       "  170,\n",
       "  40,\n",
       "  70,\n",
       "  170,\n",
       "  40,\n",
       "  70,\n",
       "  170,\n",
       "  40,\n",
       "  70,\n",
       "  170,\n",
       "  40,\n",
       "  70,\n",
       "  170,\n",
       "  40,\n",
       "  70,\n",
       "  170,\n",
       "  40,\n",
       "  70,\n",
       "  170,\n",
       "  40,\n",
       "  70,\n",
       "  170,\n",
       "  40,\n",
       "  70,\n",
       "  170,\n",
       "  40,\n",
       "  70,\n",
       "  170,\n",
       "  40,\n",
       "  70,\n",
       "  170,\n",
       "  40,\n",
       "  70,\n",
       "  170,\n",
       "  40,\n",
       "  70,\n",
       "  170,\n",
       "  40,\n",
       "  70,\n",
       "  170,\n",
       "  40,\n",
       "  70,\n",
       "  170,\n",
       "  40,\n",
       "  70,\n",
       "  170,\n",
       "  40,\n",
       "  70,\n",
       "  170,\n",
       "  40,\n",
       "  70,\n",
       "  170,\n",
       "  40,\n",
       "  70,\n",
       "  170,\n",
       "  40,\n",
       "  70,\n",
       "  170,\n",
       "  40,\n",
       "  70,\n",
       "  170,\n",
       "  40,\n",
       "  70,\n",
       "  170,\n",
       "  40,\n",
       "  70,\n",
       "  170,\n",
       "  40,\n",
       "  70,\n",
       "  170,\n",
       "  40,\n",
       "  70,\n",
       "  170,\n",
       "  40,\n",
       "  70,\n",
       "  170,\n",
       "  40,\n",
       "  70,\n",
       "  170,\n",
       "  40,\n",
       "  70,\n",
       "  170,\n",
       "  40,\n",
       "  70,\n",
       "  170,\n",
       "  40,\n",
       "  70,\n",
       "  170,\n",
       "  40,\n",
       "  70,\n",
       "  170,\n",
       "  40,\n",
       "  70,\n",
       "  170,\n",
       "  40,\n",
       "  70,\n",
       "  170,\n",
       "  40,\n",
       "  70,\n",
       "  170,\n",
       "  40,\n",
       "  70,\n",
       "  170,\n",
       "  40,\n",
       "  70,\n",
       "  170,\n",
       "  40,\n",
       "  70,\n",
       "  170,\n",
       "  40,\n",
       "  70,\n",
       "  170,\n",
       "  40,\n",
       "  70,\n",
       "  170,\n",
       "  40,\n",
       "  70,\n",
       "  170,\n",
       "  40,\n",
       "  70,\n",
       "  170,\n",
       "  40,\n",
       "  70,\n",
       "  170,\n",
       "  40,\n",
       "  70,\n",
       "  170,\n",
       "  40,\n",
       "  70,\n",
       "  170,\n",
       "  40,\n",
       "  70,\n",
       "  170,\n",
       "  40,\n",
       "  70,\n",
       "  170,\n",
       "  40,\n",
       "  70,\n",
       "  170,\n",
       "  40,\n",
       "  70,\n",
       "  170,\n",
       "  40,\n",
       "  70,\n",
       "  170,\n",
       "  40,\n",
       "  70,\n",
       "  170,\n",
       "  40]]"
      ]
     },
     "execution_count": 71,
     "metadata": {},
     "output_type": "execute_result"
    }
   ],
   "source": [
    "scalar_multiply(height_weight_age, grades)"
   ]
  },
  {
   "cell_type": "code",
   "execution_count": 63,
   "metadata": {},
   "outputs": [],
   "source": [
    "def vector_mean(vectors):\n",
    "    \"\"\"compute the vector whose i-th element is the mean of the\n",
    "    i-th elements of the input vectors\"\"\"\n",
    "    n = len(vectors)\n",
    "    return scalar_multiply(1/n, vector_sum(vectors))\n"
   ]
  },
  {
   "cell_type": "code",
   "execution_count": 64,
   "metadata": {},
   "outputs": [],
   "source": [
    "def dot(v, w):\n",
    "    \"\"\"v_1 * w_1 + ... + v_n * w_n\"\"\"\n",
    "    return sum(v_i * w_i for v_i, w_i in zip(v, w))"
   ]
  },
  {
   "cell_type": "code",
   "execution_count": 65,
   "metadata": {},
   "outputs": [],
   "source": [
    "def sum_of_squares(v):\n",
    "    \"\"\"v_1 * v_1 + ... + v_n * v_n\"\"\"\n",
    "    return dot(v, v)\n"
   ]
  },
  {
   "cell_type": "code",
   "execution_count": 66,
   "metadata": {},
   "outputs": [],
   "source": [
    "def magnitude(v):\n",
    "    return math.sqrt(sum_of_squares(v))"
   ]
  },
  {
   "cell_type": "code",
   "execution_count": 67,
   "metadata": {},
   "outputs": [],
   "source": [
    "def squared_distance(v, w):\n",
    "    return sum_of_squares(vector_subtract(v, w))"
   ]
  },
  {
   "cell_type": "code",
   "execution_count": 69,
   "metadata": {},
   "outputs": [],
   "source": [
    "def distance(v, w):\n",
    "    return math.sqrt(squared_distance(v, w))"
   ]
  },
  {
   "cell_type": "code",
   "execution_count": 72,
   "metadata": {},
   "outputs": [
    {
     "data": {
      "text/plain": [
       "23250"
      ]
     },
     "execution_count": 72,
     "metadata": {},
     "output_type": "execute_result"
    }
   ],
   "source": [
    "dot(height_weight_age, grades)"
   ]
  },
  {
   "cell_type": "code",
   "execution_count": 73,
   "metadata": {},
   "outputs": [
    {
     "data": {
      "text/plain": [
       "35400"
      ]
     },
     "execution_count": 73,
     "metadata": {},
     "output_type": "execute_result"
    }
   ],
   "source": [
    "sum_of_squares(height_weight_age)"
   ]
  },
  {
   "cell_type": "code",
   "execution_count": 74,
   "metadata": {},
   "outputs": [
    {
     "data": {
      "text/plain": [
       "188.1488772222678"
      ]
     },
     "execution_count": 74,
     "metadata": {},
     "output_type": "execute_result"
    }
   ],
   "source": [
    "magnitude(height_weight_age)"
   ]
  },
  {
   "cell_type": "code",
   "execution_count": 75,
   "metadata": {},
   "outputs": [
    {
     "data": {
      "text/plain": [
       "9950"
      ]
     },
     "execution_count": 75,
     "metadata": {},
     "output_type": "execute_result"
    }
   ],
   "source": [
    "squared_distance(height_weight_age, grades)"
   ]
  },
  {
   "cell_type": "code",
   "execution_count": 76,
   "metadata": {},
   "outputs": [
    {
     "data": {
      "text/plain": [
       "99.74968671630002"
      ]
     },
     "execution_count": 76,
     "metadata": {},
     "output_type": "execute_result"
    }
   ],
   "source": [
    "distance(height_weight_age, grades)"
   ]
  },
  {
   "cell_type": "code",
   "execution_count": 77,
   "metadata": {},
   "outputs": [
    {
     "data": {
      "text/plain": [
       "99.74968671630002"
      ]
     },
     "execution_count": 77,
     "metadata": {},
     "output_type": "execute_result"
    }
   ],
   "source": [
    "def distance(v, w):\n",
    "    return magnitude(vector_subtract(v, w))\n",
    "distance(height_weight_age, grades)"
   ]
  },
  {
   "cell_type": "code",
   "execution_count": 78,
   "metadata": {},
   "outputs": [],
   "source": [
    "A = [[1, 2, 3], # A has 2 rows and 3 columns\n",
    " [4, 5, 6]]\n",
    "B = [[1, 2], # B has 3 rows and 2 columns\n",
    " [3, 4],\n",
    " [5, 6]]"
   ]
  },
  {
   "cell_type": "code",
   "execution_count": 79,
   "metadata": {},
   "outputs": [],
   "source": [
    "def shape(A):\n",
    "    num_rows = len(A)\n",
    "    num_cols = len(A[0]) if A else 0\n",
    "    return num_rows, num_cols"
   ]
  },
  {
   "cell_type": "code",
   "execution_count": 80,
   "metadata": {},
   "outputs": [
    {
     "data": {
      "text/plain": [
       "(2, 3)"
      ]
     },
     "execution_count": 80,
     "metadata": {},
     "output_type": "execute_result"
    }
   ],
   "source": [
    "shape(A)"
   ]
  },
  {
   "cell_type": "code",
   "execution_count": 81,
   "metadata": {},
   "outputs": [],
   "source": [
    "def get_row(A, i):\n",
    "    return A[i]"
   ]
  },
  {
   "cell_type": "code",
   "execution_count": 82,
   "metadata": {},
   "outputs": [
    {
     "data": {
      "text/plain": [
       "[4, 5, 6]"
      ]
     },
     "execution_count": 82,
     "metadata": {},
     "output_type": "execute_result"
    }
   ],
   "source": [
    "get_row(A, 1)"
   ]
  },
  {
   "cell_type": "code",
   "execution_count": 83,
   "metadata": {},
   "outputs": [],
   "source": [
    "def get_column(A, j):\n",
    "    return [A_i[j] for A_i in A]"
   ]
  },
  {
   "cell_type": "code",
   "execution_count": 84,
   "metadata": {},
   "outputs": [
    {
     "data": {
      "text/plain": [
       "[2, 5]"
      ]
     },
     "execution_count": 84,
     "metadata": {},
     "output_type": "execute_result"
    }
   ],
   "source": [
    "get_column(A, 1)"
   ]
  },
  {
   "cell_type": "code",
   "execution_count": 85,
   "metadata": {},
   "outputs": [],
   "source": [
    "def make_matrix(num_rows, num_cols, entry_fn):\n",
    "    \"\"\"returns a num_rows x num_cols matrix\n",
    "    whose (i,j)-th entry is entry_fn(i, j)\"\"\"\n",
    "    return [[entry_fn(i, j) for j in range(num_cols)]\n",
    "            for i in range(num_rows)]\n"
   ]
  },
  {
   "cell_type": "code",
   "execution_count": 86,
   "metadata": {},
   "outputs": [],
   "source": [
    "def is_diagonal(i, j):\n",
    " \"\"\"1's on the 'diagonal', 0's everywhere else\"\"\"\n",
    " return 1 if i == j else 0\n",
    "identity_matrix = make_matrix(5, 5, is_diagonal)"
   ]
  },
  {
   "cell_type": "code",
   "execution_count": 88,
   "metadata": {},
   "outputs": [],
   "source": [
    "identity_matrix = make_matrix(5, 5, is_diagonal)"
   ]
  },
  {
   "cell_type": "code",
   "execution_count": 89,
   "metadata": {},
   "outputs": [
    {
     "data": {
      "text/plain": [
       "[[1, 0, 0, 0, 0],\n",
       " [0, 1, 0, 0, 0],\n",
       " [0, 0, 1, 0, 0],\n",
       " [0, 0, 0, 1, 0],\n",
       " [0, 0, 0, 0, 1]]"
      ]
     },
     "execution_count": 89,
     "metadata": {},
     "output_type": "execute_result"
    }
   ],
   "source": [
    "identity_matrix"
   ]
  },
  {
   "cell_type": "code",
   "execution_count": 91,
   "metadata": {},
   "outputs": [],
   "source": [
    "data = [[70, 170, 40],\n",
    " [65, 120, 26],\n",
    " [77, 250, 19],\n",
    " # ....\n",
    " ]"
   ]
  },
  {
   "cell_type": "code",
   "execution_count": 92,
   "metadata": {},
   "outputs": [],
   "source": [
    "friendships = [(0, 1), (0, 2), (1, 2), (1, 3), (2, 3), (3, 4),\n",
    " (4, 5), (5, 6), (5, 7), (6, 8), (7, 8), (8, 9)]\n"
   ]
  },
  {
   "cell_type": "code",
   "execution_count": 93,
   "metadata": {},
   "outputs": [],
   "source": [
    "friendships = [[0, 1, 1, 0, 0, 0, 0, 0, 0, 0], # user 0\n",
    "               [1, 0, 1, 1, 0, 0, 0, 0, 0, 0], # user 1\n",
    "               [1, 1, 0, 1, 0, 0, 0, 0, 0, 0], # user 2\n",
    "               [0, 1, 1, 0, 1, 0, 0, 0, 0, 0], # user 3\n",
    "               [0, 0, 0, 1, 0, 1, 0, 0, 0, 0], # user 4\n",
    "               [0, 0, 0, 0, 1, 0, 1, 1, 0, 0], # user 5\n",
    "               [0, 0, 0, 0, 0, 1, 0, 0, 1, 0], # user 6\n",
    "               [0, 0, 0, 0, 0, 1, 0, 0, 1, 0], # user 7\n",
    "               [0, 0, 0, 0, 0, 0, 1, 1, 0, 1], # user 8\n",
    "               [0, 0, 0, 0, 0, 0, 0, 0, 1, 0]] # user 9"
   ]
  },
  {
   "cell_type": "code",
   "execution_count": 94,
   "metadata": {},
   "outputs": [
    {
     "data": {
      "text/plain": [
       "True"
      ]
     },
     "execution_count": 94,
     "metadata": {},
     "output_type": "execute_result"
    }
   ],
   "source": [
    "friendships[0][2] == 1 # True, 0 and 2 are friends"
   ]
  },
  {
   "cell_type": "code",
   "execution_count": 95,
   "metadata": {},
   "outputs": [
    {
     "data": {
      "text/plain": [
       "False"
      ]
     },
     "execution_count": 95,
     "metadata": {},
     "output_type": "execute_result"
    }
   ],
   "source": [
    "friendships[0][8] == 1 # False, 0 and 8 are not friends"
   ]
  },
  {
   "cell_type": "code",
   "execution_count": 96,
   "metadata": {},
   "outputs": [],
   "source": [
    "friends_of_five = [i # only need\n",
    " for i, is_friend in enumerate(friendships[5]) # to look at\n",
    " if is_friend] # one row"
   ]
  },
  {
   "cell_type": "code",
   "execution_count": 97,
   "metadata": {},
   "outputs": [
    {
     "data": {
      "text/plain": [
       "[4, 6, 7]"
      ]
     },
     "execution_count": 97,
     "metadata": {},
     "output_type": "execute_result"
    }
   ],
   "source": [
    "friends_of_five"
   ]
  },
  {
   "cell_type": "code",
   "execution_count": 98,
   "metadata": {},
   "outputs": [],
   "source": [
    "def matrix_add(A, B):\n",
    "    if shape(A) != shape(B):\n",
    "        raise ArithmeticError(\"cannot add matrices with different shapes\")\n",
    "\n",
    "    num_rows, num_cols = shape(A)\n",
    "    def entry_fn(i, j): return A[i][j] + B[i][j]\n",
    "\n",
    "    return make_matrix(num_rows, num_cols, entry_fn)"
   ]
  },
  {
   "cell_type": "code",
   "execution_count": 99,
   "metadata": {},
   "outputs": [],
   "source": [
    "def make_graph_dot_product_as_vector_projection(plt):\n",
    "\n",
    "    v = [2, 1]\n",
    "    w = [math.sqrt(.25), math.sqrt(.75)]\n",
    "    c = dot(v, w)\n",
    "    vonw = scalar_multiply(c, w)\n",
    "    o = [0,0]\n",
    "\n",
    "    plt.arrow(0, 0, v[0], v[1],\n",
    "              width=0.002, head_width=.1, length_includes_head=True)\n",
    "    plt.annotate(\"v\", v, xytext=[v[0] + 0.1, v[1]])\n",
    "    plt.arrow(0 ,0, w[0], w[1],\n",
    "              width=0.002, head_width=.1, length_includes_head=True)\n",
    "    plt.annotate(\"w\", w, xytext=[w[0] - 0.1, w[1]])\n",
    "    plt.arrow(0, 0, vonw[0], vonw[1], length_includes_head=True)\n",
    "    plt.annotate(u\"(v•w)w\", vonw, xytext=[vonw[0] - 0.1, vonw[1] + 0.1])\n",
    "    plt.arrow(v[0], v[1], vonw[0] - v[0], vonw[1] - v[1],\n",
    "              linestyle='dotted', length_includes_head=True)\n",
    "    plt.scatter(*zip(v,w,o),marker='.')\n",
    "    plt.axis('equal')\n",
    "    plt.show()"
   ]
  },
  {
   "cell_type": "code",
   "execution_count": 101,
   "metadata": {},
   "outputs": [
    {
     "data": {
      "image/png": "[encoded data removed]",
      "text/plain": [
       "<Figure size 432x288 with 1 Axes>"
      ]
     },
     "metadata": {
      "needs_background": "light"
     },
     "output_type": "display_data"
    }
   ],
   "source": [
    "make_graph_dot_product_as_vector_projection(plt)"
   ]
  },
  {
   "cell_type": "markdown",
   "metadata": {},
   "source": [
    "#### Chapter 10 Working with Data"
   ]
  },
  {
   "cell_type": "code",
   "execution_count": 110,
   "metadata": {},
   "outputs": [],
   "source": [
    "from collections import Counter, defaultdict\n",
    "from functools import partial, reduce\n",
    "import math, random, csv\n",
    "import matplotlib.pyplot as plt\n",
    "import dateutil.parser"
   ]
  },
  {
   "cell_type": "code",
   "execution_count": 111,
   "metadata": {},
   "outputs": [],
   "source": [
    "def bucketize(point, bucket_size):\n",
    "    \"\"\"floor the point to the next lower multiple of bucket_size\"\"\"\n",
    "    return bucket_size * math.floor(point / bucket_size)"
   ]
  },
  {
   "cell_type": "code",
   "execution_count": 112,
   "metadata": {},
   "outputs": [],
   "source": [
    "def make_histogram(points, bucket_size):\n",
    "    \"\"\"buckets the points and counts how many in each bucket\"\"\"\n",
    "    return Counter(bucketize(point, bucket_size) for point in points)"
   ]
  },
  {
   "cell_type": "code",
   "execution_count": 113,
   "metadata": {},
   "outputs": [],
   "source": [
    "def plot_histogram(points, bucket_size, title=\"\"):\n",
    "    histogram = make_histogram(points, bucket_size)\n",
    "    plt.bar(histogram.keys(), histogram.values(), width=bucket_size)\n",
    "    plt.title(title)\n",
    "    plt.show()"
   ]
  },
  {
   "cell_type": "code",
   "execution_count": 114,
   "metadata": {},
   "outputs": [],
   "source": [
    "def compare_two_distributions():\n",
    "\n",
    "    random.seed(0)\n",
    "\n",
    "    uniform = [random.randrange(-100,101) for _ in range(200)]\n",
    "    normal = [57 * inverse_normal_cdf(random.random())\n",
    "              for _ in range(200)]\n",
    "\n",
    "    plot_histogram(uniform, 10, \"Uniform Histogram\")\n",
    "    plot_histogram(normal, 10, \"Normal Histogram\")"
   ]
  },
  {
   "cell_type": "code",
   "execution_count": 115,
   "metadata": {},
   "outputs": [],
   "source": [
    "def normal_cdf(x, mu=0,sigma=1):\n",
    "    return (1 + math.erf((x - mu) / math.sqrt(2) / sigma)) / 2"
   ]
  },
  {
   "cell_type": "code",
   "execution_count": 116,
   "metadata": {},
   "outputs": [],
   "source": [
    "def inverse_normal_cdf(p, mu=0, sigma=1, tolerance=0.00001):\n",
    "    \"\"\"find approximate inverse using binary search\"\"\"\n",
    "    # if not standard, compute standard and rescale\n",
    "    if mu != 0 or sigma != 1:\n",
    "        return mu + sigma * inverse_normal_cdf(p, tolerance=tolerance)\n",
    "    low_z, low_p = -10.0, 0 # normal_cdf(-10) is (very close to) 0\n",
    "    hi_z, hi_p = 10.0, 1 # normal_cdf(10) is (very close to) 1\n",
    "    while hi_z - low_z > tolerance:\n",
    "        mid_z = (low_z + hi_z) / 2 # consider the midpoint\n",
    "        mid_p = normal_cdf(mid_z) # and the cdf's value there\n",
    "        if mid_p < p:\n",
    "            # midpoint is still too low, search above it\n",
    "            low_z, low_p = mid_z, mid_p\n",
    "        elif mid_p > p:\n",
    "            # midpoint is still too high, search below it\n",
    "            hi_z, hi_p = mid_z, mid_p\n",
    "        else:\n",
    "            break\n",
    "    return mid_z"
   ]
  },
  {
   "cell_type": "code",
   "execution_count": 117,
   "metadata": {},
   "outputs": [],
   "source": [
    "import random\n",
    "random.seed(0)\n",
    "# uniform between -100 and 100\n",
    "uniform = [200 * random.random() - 100 for _ in range(10000)]\n",
    "# normal distribution with mean 0, standard deviation 57\n",
    "normal = [57 * inverse_normal_cdf(random.random())\n",
    " for _ in range(10000)]"
   ]
  },
  {
   "cell_type": "code",
   "execution_count": 118,
   "metadata": {},
   "outputs": [
    {
     "data": {
      "image/png": "[encoded data removed]",
      "text/plain": [
       "<Figure size 432x288 with 1 Axes>"
      ]
     },
     "metadata": {
      "needs_background": "light"
     },
     "output_type": "display_data"
    }
   ],
   "source": [
    "plot_histogram(uniform, 10, \"Uniform Histogram\")"
   ]
  },
  {
   "cell_type": "code",
   "execution_count": 119,
   "metadata": {},
   "outputs": [
    {
     "data": {
      "image/png": "[encoded data removed]",
      "text/plain": [
       "<Figure size 432x288 with 1 Axes>"
      ]
     },
     "metadata": {
      "needs_background": "light"
     },
     "output_type": "display_data"
    }
   ],
   "source": [
    "plot_histogram(normal, 10, \"Normal Histogram\")"
   ]
  },
  {
   "cell_type": "code",
   "execution_count": 120,
   "metadata": {},
   "outputs": [],
   "source": [
    "def random_normal():\n",
    "    \"\"\"returns a random draw from a standard normal distribution\"\"\"\n",
    "    return inverse_normal_cdf(random.random())\n"
   ]
  },
  {
   "cell_type": "code",
   "execution_count": 121,
   "metadata": {},
   "outputs": [],
   "source": [
    "xs = [random_normal() for _ in range(1000)]\n",
    "ys1 = [ x + random_normal() / 2 for x in xs]\n",
    "ys2 = [-x + random_normal() / 2 for x in xs]\n"
   ]
  },
  {
   "cell_type": "code",
   "execution_count": 122,
   "metadata": {},
   "outputs": [],
   "source": [
    "def scatter():\n",
    "    plt.scatter(xs, ys1, marker='.', color='black', label='ys1')\n",
    "    plt.scatter(xs, ys2, marker='.', color='gray',  label='ys2')\n",
    "    plt.xlabel('xs')\n",
    "    plt.ylabel('ys')\n",
    "    plt.legend(loc=9)\n",
    "    plt.title(\"Very Different Joint Distributions\")\n",
    "    plt.show()\n"
   ]
  },
  {
   "cell_type": "code",
   "execution_count": 123,
   "metadata": {},
   "outputs": [
    {
     "data": {
      "image/png": "[encoded data removed]",
      "text/plain": [
       "<Figure size 432x288 with 1 Axes>"
      ]
     },
     "metadata": {
      "needs_background": "light"
     },
     "output_type": "display_data"
    }
   ],
   "source": [
    "scatter()"
   ]
  },
  {
   "cell_type": "code",
   "execution_count": 124,
   "metadata": {},
   "outputs": [],
   "source": [
    "def mean(x):\n",
    "    return sum(x) / len(x)\n",
    "def de_mean(x):\n",
    "    \"\"\"translate x by subtracting its mean (so the result has mean 0)\"\"\"\n",
    "    x_bar = mean(x)\n",
    "    return [x_i - x_bar for x_i in x]\n",
    "def variance(x):\n",
    "    \"\"\"assumes x has at least two elements\"\"\"\n",
    "    n = len(x)\n",
    "    deviations = de_mean(x)\n",
    "    return sum_of_squares(deviations) / (n - 1)\n",
    "def standard_deviation(x):\n",
    "    return math.sqrt(variance(x))\n",
    "def covariance(x, y):\n",
    "    n = len(x)\n",
    "    return dot(de_mean(x), de_mean(y)) / (n - 1)\n",
    "def correlation(x, y):\n",
    "    stdev_x = standard_deviation(x)\n",
    "    stdev_y = standard_deviation(y)\n",
    "    if stdev_x > 0 and stdev_y > 0:\n",
    "        return covariance(x, y) / stdev_x / stdev_y\n",
    "    else:\n",
    "        return 0"
   ]
  },
  {
   "cell_type": "code",
   "execution_count": 125,
   "metadata": {},
   "outputs": [
    {
     "name": "stdout",
     "output_type": "stream",
     "text": [
      "0.9010493686379609\n"
     ]
    }
   ],
   "source": [
    "print (correlation(xs, ys1))"
   ]
  },
  {
   "cell_type": "code",
   "execution_count": 126,
   "metadata": {},
   "outputs": [
    {
     "name": "stdout",
     "output_type": "stream",
     "text": [
      "-0.8920981526880033\n"
     ]
    }
   ],
   "source": [
    "print (correlation(xs, ys2))"
   ]
  },
  {
   "cell_type": "code",
   "execution_count": 128,
   "metadata": {},
   "outputs": [],
   "source": [
    "def correlation_matrix(data):\n",
    "    \"\"\"returns the num_columns x num_columns matrix whose (i, j)th entry\n",
    "    is the correlation between columns i and j of data\"\"\"\n",
    "\n",
    "    _, num_columns = shape(data)\n",
    "    def matrix_entry(i, j):\n",
    "        return correlation(get_column(data, i), get_column(data, j))\n",
    "\n",
    "    return make_matrix(num_columns, num_columns, matrix_entry)\n",
    "\n"
   ]
  },
  {
   "cell_type": "code",
   "execution_count": 131,
   "metadata": {},
   "outputs": [],
   "source": [
    "def make_scatterplot_matrix():\n",
    "\n",
    "    # first, generate some random data\n",
    "\n",
    "    num_points = 100\n",
    "\n",
    "    def random_row():\n",
    "        row = [None, None, None, None]\n",
    "        row[0] = random_normal()\n",
    "        row[1] = -5 * row[0] + random_normal()\n",
    "        row[2] = row[0] + row[1] + 5 * random_normal()\n",
    "        row[3] = 6 if row[2] > -2 else 0\n",
    "        return row\n",
    "    random.seed(0)\n",
    "    data = [random_row()\n",
    "            for _ in range(num_points)]\n",
    "\n",
    "    # then plot it\n",
    "\n",
    "    _, num_columns = shape(data)\n",
    "    fig, ax = plt.subplots(num_columns, num_columns)\n",
    "\n",
    "    for i in range(num_columns):\n",
    "        for j in range(num_columns):\n",
    "\n",
    "            # scatter column_j on the x-axis vs column_i on the y-axis\n",
    "            if i != j: ax[i][j].scatter(get_column(data, j), get_column(data, i))\n",
    "\n",
    "            # unless i == j, in which case show the series name\n",
    "            else: ax[i][j].annotate(\"series \" + str(i), (0.5, 0.5),\n",
    "                                    xycoords='axes fraction',\n",
    "                                    ha=\"center\", va=\"center\")\n",
    "\n",
    "            # then hide axis labels except left and bottom charts\n",
    "            if i < num_columns - 1: ax[i][j].xaxis.set_visible(False)\n",
    "            if j > 0: ax[i][j].yaxis.set_visible(False)\n",
    "\n",
    "    # fix the bottom right and top left axis labels, which are wrong because\n",
    "    # their charts only have text in them\n",
    "    ax[-1][-1].set_xlim(ax[0][-1].get_xlim())\n",
    "    ax[0][0].set_ylim(ax[0][1].get_ylim())\n",
    "\n",
    "    plt.show()"
   ]
  },
  {
   "cell_type": "code",
   "execution_count": 132,
   "metadata": {},
   "outputs": [
    {
     "data": {
      "image/png": "[encoded data removed]",
      "text/plain": [
       "<Figure size 432x288 with 16 Axes>"
      ]
     },
     "metadata": {
      "needs_background": "light"
     },
     "output_type": "display_data"
    }
   ],
   "source": [
    "make_scatterplot_matrix()"
   ]
  },
  {
   "cell_type": "code",
   "execution_count": 133,
   "metadata": {},
   "outputs": [],
   "source": [
    "def parse_row(input_row, parsers):\n",
    "    \"\"\"given a list of parsers (some of which may be None)\n",
    "    apply the appropriate one to each element of the input_row\"\"\"\n",
    "    return [parser(value) if parser is not None else value\n",
    "            for value, parser in zip(input_row, parsers)]\n"
   ]
  },
  {
   "cell_type": "code",
   "execution_count": 134,
   "metadata": {},
   "outputs": [],
   "source": [
    "def parse_rows_with(reader, parsers):\n",
    "    \"\"\"wrap a reader to apply the parsers to each of its rows\"\"\"\n",
    "    for row in reader:\n",
    "        yield parse_row(row, parsers)\n"
   ]
  },
  {
   "cell_type": "code",
   "execution_count": 135,
   "metadata": {},
   "outputs": [],
   "source": [
    "def try_or_none(f):\n",
    "    \"\"\"wraps f to return None if f raises an exception\n",
    "    assumes f takes only one input\"\"\"\n",
    "    def f_or_none(x):\n",
    "        try: return f(x)\n",
    "        except: return None\n",
    "    return f_or_none"
   ]
  },
  {
   "cell_type": "code",
   "execution_count": 136,
   "metadata": {},
   "outputs": [],
   "source": [
    "def parse_row(input_row, parsers):\n",
    "    return [try_or_none(parser)(value) if parser is not None else value\n",
    "            for value, parser in zip(input_row, parsers)]\n"
   ]
  },
  {
   "cell_type": "code",
   "execution_count": 140,
   "metadata": {},
   "outputs": [],
   "source": [
    "import dateutil.parser\n",
    "data = []\n",
    "with open(\"comma_delimited_stock_prices.csv\", \"r\") as f:\n",
    "    reader = csv.reader(f)\n",
    "    for line in parse_rows_with(reader, [dateutil.parser.parse, None, float]):\n",
    "        data.append(line)"
   ]
  },
  {
   "cell_type": "code",
   "execution_count": 141,
   "metadata": {},
   "outputs": [
    {
     "name": "stdout",
     "output_type": "stream",
     "text": [
      "[datetime.datetime(2014, 6, 19, 0, 0), 'MSFT', None]\n"
     ]
    }
   ],
   "source": [
    "for row in data:\n",
    "    if any(x is None for x in row):\n",
    "        print(row)"
   ]
  },
  {
   "cell_type": "code",
   "execution_count": 142,
   "metadata": {},
   "outputs": [],
   "source": [
    "def try_parse_field(field_name, value, parser_dict):\n",
    "    \"\"\"try to parse value using the appropriate function from parser_dict\"\"\"\n",
    "    parser = parser_dict.get(field_name) # None if no such entry\n",
    "    if parser is not None:\n",
    "        return try_or_none(parser)(value)\n",
    "    else:\n",
    "        return value"
   ]
  },
  {
   "cell_type": "code",
   "execution_count": 143,
   "metadata": {},
   "outputs": [],
   "source": [
    "def parse_dict(input_dict, parser_dict):\n",
    "    return { field_name : try_parse_field(field_name, value, parser_dict)\n",
    "             for field_name, value in input_dict.items() }"
   ]
  },
  {
   "cell_type": "code",
   "execution_count": 144,
   "metadata": {},
   "outputs": [],
   "source": [
    "import datetime\n",
    "data = [\n",
    " {'closing_price': 102.06,\n",
    " 'date': datetime.datetime(2014, 8, 29, 0, 0),\n",
    " 'symbol': 'AAPL'},\n",
    " # ...\n",
    "]"
   ]
  },
  {
   "cell_type": "code",
   "execution_count": 145,
   "metadata": {},
   "outputs": [],
   "source": [
    "max_aapl_price = max(row[\"closing_price\"]\n",
    "                     for row in data\n",
    "                     if row[\"symbol\"] == \"AAPL\")"
   ]
  },
  {
   "cell_type": "code",
   "execution_count": 146,
   "metadata": {},
   "outputs": [
    {
     "data": {
      "text/plain": [
       "102.06"
      ]
     },
     "execution_count": 146,
     "metadata": {},
     "output_type": "execute_result"
    }
   ],
   "source": [
    "max_aapl_price"
   ]
  },
  {
   "cell_type": "code",
   "execution_count": 147,
   "metadata": {},
   "outputs": [],
   "source": [
    "# group rows by symbol\n",
    "by_symbol = defaultdict(list)\n",
    "for row in data:\n",
    "    by_symbol[row[\"symbol\"]].append(row)\n",
    "# use a dict comprehension to find the max for each symbol\n",
    "max_price_by_symbol = { symbol : max(row[\"closing_price\"]\n",
    "                                     for row in grouped_rows)\n",
    "                        for symbol, grouped_rows in by_symbol.items() }"
   ]
  },
  {
   "cell_type": "code",
   "execution_count": 148,
   "metadata": {},
   "outputs": [
    {
     "data": {
      "text/plain": [
       "{'AAPL': 102.06}"
      ]
     },
     "execution_count": 148,
     "metadata": {},
     "output_type": "execute_result"
    }
   ],
   "source": [
    "max_price_by_symbol"
   ]
  },
  {
   "cell_type": "code",
   "execution_count": 149,
   "metadata": {},
   "outputs": [],
   "source": [
    "def picker(field_name):\n",
    "    \"\"\"returns a function that picks a field out of a dict\"\"\"\n",
    "    return lambda row: row[field_name]\n",
    "\n",
    "def pluck(field_name, rows):\n",
    "    \"\"\"turn a list of dicts into the list of field_name values\"\"\"\n",
    "    return map(picker(field_name), rows)\n"
   ]
  },
  {
   "cell_type": "code",
   "execution_count": 150,
   "metadata": {},
   "outputs": [],
   "source": [
    "def group_by(grouper, rows, value_transform=None):\n",
    "    # key is output of grouper, value is list of rows\n",
    "    grouped = defaultdict(list)\n",
    "    for row in rows:\n",
    "        grouped[grouper(row)].append(row)\n",
    "    if value_transform is None:\n",
    "        return grouped\n",
    "    else:\n",
    "        return { key : value_transform(rows)\n",
    "                 for key, rows in grouped.items() }\n"
   ]
  },
  {
   "cell_type": "code",
   "execution_count": 151,
   "metadata": {},
   "outputs": [],
   "source": [
    "max_price_by_symbol = group_by(picker(\"symbol\"),\n",
    "                               data,\n",
    "                               lambda rows: max(pluck(\"closing_price\", rows)))"
   ]
  },
  {
   "cell_type": "code",
   "execution_count": 152,
   "metadata": {},
   "outputs": [
    {
     "data": {
      "text/plain": [
       "{'AAPL': 102.06}"
      ]
     },
     "execution_count": 152,
     "metadata": {},
     "output_type": "execute_result"
    }
   ],
   "source": [
    "max_price_by_symbol"
   ]
  },
  {
   "cell_type": "code",
   "execution_count": 153,
   "metadata": {},
   "outputs": [],
   "source": [
    "def percent_price_change(yesterday, today):\n",
    "    return today[\"closing_price\"] / yesterday[\"closing_price\"] - 1"
   ]
  },
  {
   "cell_type": "code",
   "execution_count": 154,
   "metadata": {},
   "outputs": [],
   "source": [
    "def day_over_day_changes(grouped_rows):\n",
    "    # sort the rows by date\n",
    "    ordered = sorted(grouped_rows, key=picker(\"date\"))\n",
    "    # zip with an offset to get pairs of consecutive days\n",
    "    return [{ \"symbol\" : today[\"symbol\"],\n",
    "              \"date\" : today[\"date\"],\n",
    "              \"change\" : percent_price_change(yesterday, today) }\n",
    "             for yesterday, today in zip(ordered, ordered[1:])]"
   ]
  },
  {
   "cell_type": "code",
   "execution_count": 162,
   "metadata": {},
   "outputs": [],
   "source": [
    "# key is symbol, value is list of \"change\" dicts\n",
    "changes_by_symbol = group_by(picker(\"symbol\"), data, day_over_day_changes)\n",
    "# collect all \"change\" dicts into one big list\n",
    "all_changes = [change\n",
    "               for changes in changes_by_symbol.values()\n",
    "\n",
    "               for change in changes]"
   ]
  },
  {
   "cell_type": "code",
   "execution_count": 205,
   "metadata": {},
   "outputs": [
    {
     "data": {
      "text/plain": [
       "{'symbol': 'AAPL',\n",
       " 'date': datetime.datetime(1997, 8, 6, 0, 0),\n",
       " 'change': 0.3283582089552237}"
      ]
     },
     "execution_count": 205,
     "metadata": {},
     "output_type": "execute_result"
    }
   ],
   "source": [
    "max(all_changes, key=picker(\"change\"))"
   ]
  },
  {
   "cell_type": "code",
   "execution_count": 206,
   "metadata": {},
   "outputs": [
    {
     "data": {
      "text/plain": [
       "{'symbol': 'AAPL',\n",
       " 'date': datetime.datetime(2000, 9, 29, 0, 0),\n",
       " 'change': -0.5193370165745856}"
      ]
     },
     "execution_count": 206,
     "metadata": {},
     "output_type": "execute_result"
    }
   ],
   "source": [
    "min(all_changes, key=picker(\"change\"))"
   ]
  },
  {
   "cell_type": "code",
   "execution_count": 165,
   "metadata": {},
   "outputs": [],
   "source": [
    "# to combine percent changes, we add 1 to each, multiply them, and subtract 1\n",
    "# for instance, if we combine +10% and -20%, the overall change is\n",
    "# (1 + 10%) * (1 - 20%) - 1 = 1.1 * .8 - 1 = -12%\n",
    "def combine_pct_changes(pct_change1, pct_change2):\n",
    "    return (1 + pct_change1) * (1 + pct_change2) - 1\n",
    "def overall_change(changes):\n",
    "    return reduce(combine_pct_changes, pluck(\"change\", changes))\n",
    "overall_change_by_month = group_by(lambda row: row['date'].month,\n",
    "                                   all_changes,\n",
    "                                   overall_change)"
   ]
  },
  {
   "cell_type": "code",
   "execution_count": 166,
   "metadata": {},
   "outputs": [
    {
     "data": {
      "text/plain": [
       "10.770329614269007"
      ]
     },
     "execution_count": 166,
     "metadata": {},
     "output_type": "execute_result"
    }
   ],
   "source": [
    "a_to_b = distance([63, 150], [67, 160])\n",
    "a_to_b"
   ]
  },
  {
   "cell_type": "code",
   "execution_count": 167,
   "metadata": {},
   "outputs": [
    {
     "data": {
      "text/plain": [
       "22.135943621178654"
      ]
     },
     "execution_count": 167,
     "metadata": {},
     "output_type": "execute_result"
    }
   ],
   "source": [
    "a_to_c = distance([63, 150], [70, 171]) \n",
    "a_to_c"
   ]
  },
  {
   "cell_type": "code",
   "execution_count": 168,
   "metadata": {},
   "outputs": [
    {
     "data": {
      "text/plain": [
       "11.40175425099138"
      ]
     },
     "execution_count": 168,
     "metadata": {},
     "output_type": "execute_result"
    }
   ],
   "source": [
    "b_to_c = distance([67, 160], [70, 171]) \n",
    "b_to_c"
   ]
  },
  {
   "cell_type": "code",
   "execution_count": 169,
   "metadata": {},
   "outputs": [
    {
     "data": {
      "text/plain": [
       "14.284257068535268"
      ]
     },
     "execution_count": 169,
     "metadata": {},
     "output_type": "execute_result"
    }
   ],
   "source": [
    "a_to_b = distance([160, 150], [170.2, 160]) \n",
    "a_to_b"
   ]
  },
  {
   "cell_type": "code",
   "execution_count": 170,
   "metadata": {},
   "outputs": [
    {
     "data": {
      "text/plain": [
       "27.52889391167034"
      ]
     },
     "execution_count": 170,
     "metadata": {},
     "output_type": "execute_result"
    }
   ],
   "source": [
    "a_to_c = distance([160, 150], [177.8, 171]) \n",
    "a_to_c"
   ]
  },
  {
   "cell_type": "code",
   "execution_count": 171,
   "metadata": {},
   "outputs": [
    {
     "data": {
      "text/plain": [
       "13.370115930686627"
      ]
     },
     "execution_count": 171,
     "metadata": {},
     "output_type": "execute_result"
    }
   ],
   "source": [
    "b_to_c = distance([170.2, 160], [177.8, 171]) \n",
    "b_to_c"
   ]
  },
  {
   "cell_type": "code",
   "execution_count": 172,
   "metadata": {},
   "outputs": [],
   "source": [
    "def scale(data_matrix):\n",
    "    num_rows, num_cols = shape(data_matrix)\n",
    "    means = [mean(get_column(data_matrix,j))\n",
    "             for j in range(num_cols)]\n",
    "    stdevs = [standard_deviation(get_column(data_matrix,j))\n",
    "              for j in range(num_cols)]\n",
    "    return means, stdevs"
   ]
  },
  {
   "cell_type": "code",
   "execution_count": 173,
   "metadata": {},
   "outputs": [
    {
     "data": {
      "text/plain": [
       "([2.5, 3.5, 4.5], [2.1213203435596424, 2.1213203435596424, 2.1213203435596424])"
      ]
     },
     "execution_count": 173,
     "metadata": {},
     "output_type": "execute_result"
    }
   ],
   "source": [
    "scale(A)"
   ]
  },
  {
   "cell_type": "code",
   "execution_count": 174,
   "metadata": {},
   "outputs": [],
   "source": [
    "def rescale(data_matrix):\n",
    "    \"\"\"rescales the input data so that each column\n",
    "    has mean 0 and standard deviation 1\n",
    "    ignores columns with no deviation\"\"\"\n",
    "    means, stdevs = scale(data_matrix)\n",
    "    def rescaled(i, j):\n",
    "        if stdevs[j] > 0:\n",
    "            return (data_matrix[i][j] - means[j]) / stdevs[j]\n",
    "        else:\n",
    "            return data_matrix[i][j]\n",
    "    num_rows, num_cols = shape(data_matrix)\n",
    "    return make_matrix(num_rows, num_cols, rescaled)"
   ]
  },
  {
   "cell_type": "code",
   "execution_count": 175,
   "metadata": {},
   "outputs": [
    {
     "data": {
      "text/plain": [
       "[[-0.7071067811865476, -0.7071067811865476, -0.7071067811865476],\n",
       " [0.7071067811865476, 0.7071067811865476, 0.7071067811865476]]"
      ]
     },
     "execution_count": 175,
     "metadata": {},
     "output_type": "execute_result"
    }
   ],
   "source": [
    "rescale(A)"
   ]
  },
  {
   "cell_type": "code",
   "execution_count": 176,
   "metadata": {},
   "outputs": [
    {
     "data": {
      "text/plain": [
       "[[1, 2, 3], [4, 5, 6]]"
      ]
     },
     "execution_count": 176,
     "metadata": {},
     "output_type": "execute_result"
    }
   ],
   "source": [
    "A"
   ]
  },
  {
   "cell_type": "code",
   "execution_count": 177,
   "metadata": {},
   "outputs": [],
   "source": [
    "### this variable is declared to check the outputs for below function blocks\n",
    "X = [\n",
    "    [20.9666776351559,-13.1138080189357],\n",
    "    [22.7719907680008,-19.8890894944696],\n",
    "    [25.6687103160153,-11.9956004517219],\n",
    "    [18.0019794950564,-18.1989191165133],\n",
    "    [21.3967402102156,-10.8893126308196],\n",
    "    [0.443696899177716,-19.7221132386308],\n",
    "    [29.9198322142127,-14.0958668502427],\n",
    "    [19.0805843080126,-13.7888747608312],\n",
    "    [16.4685063521314,-11.2612927034291],\n",
    "    [21.4597664701884,-12.4740034586705],\n",
    "    [3.87655283720532,-17.575162461771],\n",
    "    [34.5713920556787,-10.705185165378],\n",
    "    [13.3732115747722,-16.7270274494424],\n",
    "    [20.7281704141919,-8.81165591556553],\n",
    "    [24.839851437942,-12.1240962157419],\n",
    "    [20.3019544741252,-12.8725060780898],\n",
    "    [21.9021426929599,-17.3225432396452],\n",
    "    [23.2285885715486,-12.2676568419045],\n",
    "    [28.5749111681851,-13.2616470619453],\n",
    "    [29.2957424128701,-14.6299928678996],\n",
    "    [15.2495527798625,-18.4649714274207],\n",
    "    [26.5567257400476,-9.19794350561966],\n",
    "    [30.1934232346361,-12.6272709845971],\n",
    "    [36.8267446011057,-7.25409849336718],\n",
    "    [32.157416823084,-10.4729534347553],\n",
    "    [5.85964365291694,-22.6573731626132],\n",
    "    [25.7426190674693,-14.8055803854566],\n",
    "    [16.237602636139,-16.5920595763719],\n",
    "    [14.7408608850568,-20.0537715298403],\n",
    "    [6.85907008242544,-18.3965586884781],\n",
    "    [26.5918329233128,-8.92664811750842],\n",
    "    [-11.2216019958228,-27.0519081982856],\n",
    "    [8.93593745011035,-20.8261235122575],\n",
    "    [24.4481258671796,-18.0324012215159],\n",
    "    [2.82048515404903,-22.4208457598703],\n",
    "    [30.8803004755948,-11.455358009593],\n",
    "    [15.4586738236098,-11.1242825084309],\n",
    "    [28.5332537090494,-14.7898744423126],\n",
    "    [40.4830293441052,-2.41946428697183],\n",
    "    [15.7563759125684,-13.5771266003795],\n",
    "    [19.3635588851727,-20.6224770470434],\n",
    "    [13.4212840786467,-19.0238227375766],\n",
    "    [7.77570680426702,-16.6385739839089],\n",
    "    [21.4865983854408,-15.290799330002],\n",
    "    [12.6392705930724,-23.6433305964301],\n",
    "    [12.4746151388128,-17.9720169566614],\n",
    "    [23.4572410437998,-14.602080545086],\n",
    "    [13.6878189833565,-18.9687408182414],\n",
    "    [15.4077465943441,-14.5352487124086],\n",
    "    [20.3356581548895,-10.0883159703702],\n",
    "    [20.7093833689359,-12.6939091236766],\n",
    "    [11.1032293684441,-14.1383848928755],\n",
    "    [17.5048321498308,-9.2338593361801],\n",
    "    [16.3303688220188,-15.1054735529158],\n",
    "    [26.6929062710726,-13.306030567991],\n",
    "    [34.4985678099711,-9.86199941278607],\n",
    "    [39.1374291499406,-10.5621430853401],\n",
    "    [21.9088956482146,-9.95198845621849]]"
   ]
  },
  {
   "cell_type": "code",
   "execution_count": 178,
   "metadata": {},
   "outputs": [],
   "source": [
    "def de_mean_matrix(A):\n",
    "    \"\"\"returns the result of subtracting from every value in A the mean\n",
    "    value of its column. the resulting matrix has mean 0 in every column\"\"\"\n",
    "    nr, nc = shape(A)\n",
    "    column_means, _ = scale(A)\n",
    "    return make_matrix(nr, nc, lambda i, j: A[i][j] - column_means[j])"
   ]
  },
  {
   "cell_type": "code",
   "execution_count": 179,
   "metadata": {},
   "outputs": [
    {
     "data": {
      "text/plain": [
       "[[-1.5, -1.5, -1.5], [1.5, 1.5, 1.5]]"
      ]
     },
     "execution_count": 179,
     "metadata": {},
     "output_type": "execute_result"
    }
   ],
   "source": [
    "de_mean_matrix(A)"
   ]
  },
  {
   "cell_type": "code",
   "execution_count": 180,
   "metadata": {},
   "outputs": [],
   "source": [
    "def direction(w):\n",
    "    mag = magnitude(w)\n",
    "    return [w_i / mag for w_i in w]"
   ]
  },
  {
   "cell_type": "code",
   "execution_count": 181,
   "metadata": {},
   "outputs": [],
   "source": [
    "def directional_variance_i(x_i, w):\n",
    "    \"\"\"the variance of the row x_i in the direction w\"\"\"\n",
    "    return dot(x_i, direction(w)) ** 2"
   ]
  },
  {
   "cell_type": "code",
   "execution_count": 182,
   "metadata": {},
   "outputs": [],
   "source": [
    "def directional_variance(X, w):\n",
    "    \"\"\"the variance of the data in the direction w\"\"\"\n",
    "    return sum(directional_variance_i(x_i, w) for x_i in X)"
   ]
  },
  {
   "cell_type": "code",
   "execution_count": 183,
   "metadata": {},
   "outputs": [],
   "source": [
    "def directional_variance_gradient_i(x_i, w):\n",
    "    \"\"\"the contribution of row x_i to the gradient of\n",
    "    the direction-w variance\"\"\"\n",
    "    projection_length = dot(x_i, direction(w))\n",
    "    return [2 * projection_length * x_ij for x_ij in x_i]"
   ]
  },
  {
   "cell_type": "code",
   "execution_count": 184,
   "metadata": {},
   "outputs": [],
   "source": [
    "def directional_variance_gradient(X, w):\n",
    "    return vector_sum(directional_variance_gradient_i(x_i,w) for x_i in X)"
   ]
  },
  {
   "cell_type": "code",
   "execution_count": 185,
   "metadata": {},
   "outputs": [],
   "source": [
    "def first_principal_component(X):\n",
    "    guess = [1 for _ in X[0]]\n",
    "    unscaled_maximizer = maximize_batch(\n",
    "        partial(directional_variance, X),           # is now a function of w\n",
    "        partial(directional_variance_gradient, X),  # is now a function of w\n",
    "        guess)\n",
    "    return direction(unscaled_maximizer)"
   ]
  },
  {
   "cell_type": "code",
   "execution_count": 186,
   "metadata": {},
   "outputs": [],
   "source": [
    "## this block is written to execute first_principal_component_sgd function\n",
    "def negate(f):\n",
    "    \"\"\"return a function that for any input x returns -f(x)\"\"\"\n",
    "    return lambda *args, **kwargs: -f(*args, **kwargs)\n",
    "def negate_all(f):\n",
    "    \"\"\"the same when f returns a list of numbers\"\"\"\n",
    "    return lambda *args, **kwargs: [-y for y in f(*args, **kwargs)]\n",
    "def maximize_batch(target_fn, gradient_fn, theta_0, tolerance=0.000001):\n",
    "    return minimize_batch(negate(target_fn),\n",
    "    negate_all(gradient_fn),\n",
    "    theta_0,tolerance)\n",
    "def safe(f):\n",
    "    \"\"\"return a new function that's the same as f,\n",
    "    except that it outputs infinity whenever f produces an error\"\"\"\n",
    "    def safe_f(*args, **kwargs):\n",
    "        try:\n",
    "            return f(*args, **kwargs)\n",
    "        except:\n",
    "            return float('inf') # this means \"infinity\" in Python\n",
    "    return safe_f\n",
    "\n",
    "def minimize_batch(target_fn, gradient_fn, theta_0, tolerance=0.000001):\n",
    "    \"\"\"use gradient descent to find theta that minimizes target function\"\"\"\n",
    "    step_sizes = [100, 10, 1, 0.1, 0.01, 0.001, 0.0001, 0.00001]\n",
    "    theta = theta_0 # set theta to initial value\n",
    "    target_fn = safe(target_fn) # safe version of target_fn\n",
    "    value = target_fn(theta) # value we're minimizing\n",
    "    while True:\n",
    "        gradient = gradient_fn(theta)\n",
    "        next_thetas = [step(theta, gradient, -step_size)\n",
    "                       for step_size in step_sizes]\n",
    "    # choose the one that minimizes the error function\n",
    "    next_theta = min(next_thetas, key=target_fn)\n",
    "    next_value = target_fn(next_theta)\n",
    "    # stop if we're \"converging\"\n",
    "    if abs(value - next_value) < tolerance:\n",
    "        return theta\n",
    "    else:\n",
    "        theta, value = next_theta, next_value\n",
    "\n",
    "def in_random_order(data):\n",
    "    \"\"\"generator that returns the elements of data in random order\"\"\"\n",
    "    indexes = [i for i, _ in enumerate(data)] # create a list of indexes\n",
    "    random.shuffle(indexes) \n",
    "    for i in indexes: # return the data in that order\n",
    "        yield data[i]\n",
    "\n",
    "def minimize_stochastic(target_fn, gradient_fn, x, y, theta_0, alpha_0=0.01):\n",
    "    data = zip(x, y)\n",
    "    theta = theta_0 # initial guess\n",
    "    alpha = alpha_0 # initial step size\n",
    "    min_theta, min_value = None, float(\"inf\") # the minimum so far\n",
    "    iterations_with_no_improvement = 0\n",
    "    # if we ever go 100 iterations with no improvement, stop\n",
    "    while iterations_with_no_improvement < 100:\n",
    "        value = sum( target_fn(x_i, y_i, theta) for x_i, y_i in data )\n",
    "        if value < min_value:\n",
    "            # if we've found a new minimum, remember it\n",
    "            # and go back to the original step size\n",
    "            min_theta, min_value = theta, value\n",
    "            iterations_with_no_improvement = 0\n",
    "            alpha = alpha_0\n",
    "        else:\n",
    "            # otherwise we're not improving, so try shrinking the step size\n",
    "            iterations_with_no_improvement += 1\n",
    "            alpha *= 0.9\n",
    "        # and take a gradient step for each of the data points\n",
    "        for x_i, y_i in in_random_order(data):\n",
    "            gradient_i = gradient_fn(x_i, y_i, theta)\n",
    "            theta = vector_subtract(theta, scalar_multiply(alpha, gradient_i))\n",
    "    return min_theta"
   ]
  },
  {
   "cell_type": "code",
   "execution_count": 187,
   "metadata": {},
   "outputs": [],
   "source": [
    "## this block is written to execute first_principal_component_sgd function\n",
    "def maximize_stochastic(target_fn, gradient_fn, x, y, theta_0, alpha_0=0.01):\n",
    "    return minimize_stochastic(negate(target_fn),\n",
    "                               negate_all(gradient_fn),\n",
    "                               x, y, theta_0, alpha_0)"
   ]
  },
  {
   "cell_type": "code",
   "execution_count": 188,
   "metadata": {},
   "outputs": [],
   "source": [
    "def first_principal_component_sgd(X):\n",
    "    guess = [1 for _ in X[0]]\n",
    "    unscaled_maximizer = maximize_stochastic(\n",
    "        lambda x, _, w: directional_variance_i(x, w),\n",
    "        lambda x, _, w: directional_variance_gradient_i(x, w),\n",
    "        X, [None for _ in X], guess)\n",
    "    return direction(unscaled_maximizer)"
   ]
  },
  {
   "cell_type": "code",
   "execution_count": 189,
   "metadata": {},
   "outputs": [
    {
     "data": {
      "text/plain": [
       "[0.7071067811865475, 0.7071067811865475]"
      ]
     },
     "execution_count": 189,
     "metadata": {},
     "output_type": "execute_result"
    }
   ],
   "source": [
    "first_principal_component_sgd(X)"
   ]
  },
  {
   "cell_type": "code",
   "execution_count": 190,
   "metadata": {},
   "outputs": [],
   "source": [
    "def project(v, w):\n",
    "    \"\"\"return the projection of v onto w\"\"\"\n",
    "    coefficient = dot(v, w)\n",
    "    return scalar_multiply(coefficient, w)"
   ]
  },
  {
   "cell_type": "code",
   "execution_count": 191,
   "metadata": {},
   "outputs": [
    {
     "data": {
      "text/plain": [
       "[2208750, 1860000, 1743750, 1441500]"
      ]
     },
     "execution_count": 191,
     "metadata": {},
     "output_type": "execute_result"
    }
   ],
   "source": [
    "project(height_weight_age, grades)"
   ]
  },
  {
   "cell_type": "code",
   "execution_count": 192,
   "metadata": {},
   "outputs": [],
   "source": [
    "def remove_projection_from_vector(v, w):\n",
    "    \"\"\"projects v onto w and subtracts the result from v\"\"\"\n",
    "    return vector_subtract(v, project(v, w))"
   ]
  },
  {
   "cell_type": "code",
   "execution_count": 193,
   "metadata": {},
   "outputs": [
    {
     "data": {
      "text/plain": [
       "[-2208680, -1859830, -1743710]"
      ]
     },
     "execution_count": 193,
     "metadata": {},
     "output_type": "execute_result"
    }
   ],
   "source": [
    "remove_projection_from_vector(height_weight_age, grades)"
   ]
  },
  {
   "cell_type": "code",
   "execution_count": 194,
   "metadata": {},
   "outputs": [],
   "source": [
    "def remove_projection(X, w):\n",
    "    \"\"\"for each row of X\n",
    "    projects the row onto w, and subtracts the result from the row\"\"\"\n",
    "    return [remove_projection_from_vector(x_i, w) for x_i in X]"
   ]
  },
  {
   "cell_type": "code",
   "execution_count": 195,
   "metadata": {},
   "outputs": [
    {
     "data": {
      "text/plain": [
       "[[-89538.35803573554, -75431.4925140153],\n",
       " [-54337.36453247026, -45796.84616169511],\n",
       " [-140467.87845863562, -118322.35111114781],\n",
       " [-24138.07767788789, -20360.160735860045],\n",
       " [-110325.40766275662, -92934.51407302395],\n",
       " [145884.13979541435, 122829.70618024784],\n",
       " [-162867.9778392109, -137191.2728533135],\n",
       " [-67387.74461318858, -56777.431146336916],\n",
       " [-63025.97677557257, -53099.63626695581],\n",
       " [-98850.5063410843, -83273.07704139929],\n",
       " [98589.2219065188, 83001.6630301122],\n",
       " [-230612.8346535718, -194240.0997499043],\n",
       " [6445.547365017906, 5399.840680713196],\n",
       " [-120082.42485936968, -101148.30894415462],\n",
       " [-132011.68813635013, -111200.77924382676],\n",
       " [-85373.79098102331, -71923.68760965487],\n",
       " [-65993.60703996662, -55609.3302760056],\n",
       " [-116380.59127118034, -98036.53701242244],\n",
       " [-157071.48071091805, -132308.0453288188],\n",
       " [-153176.8337377028, -129030.31797612322],\n",
       " [2721.8185629181175, 2260.7510371100575],\n",
       " [-169743.52243548012, -142973.47513190156],\n",
       " [-176498.1917864182, -148668.1095527975],\n",
       " [-277193.39473078726, -233464.28270934673],\n",
       " [-210594.08330736973, -177379.93882643923],\n",
       " [119318.61171193785, 100451.2391053931],\n",
       " [-119778.98353537277, -100902.99602622986],\n",
       " [-20428.473408091893, -17233.190805452607],\n",
       " [19387.135000033722, 16293.541293016404],\n",
       " [77917.59760862637, 65590.64642113801],\n",
       " [-172122.17460691067, -144976.30891324088],\n",
       " [306858.2387172755, 258389.33572908284],\n",
       " [77640.63914336119, 65353.23973409707],\n",
       " [-83573.63854190787, -70416.42117408471],\n",
       " [144946.36974487582, 122035.30484663742],\n",
       " [-191603.1106188607, -161387.44771113488],\n",
       " [-54954.52552017999, -46301.63728798515],\n",
       " [-145081.03570888602, -122212.32163241711],\n",
       " [-346930.9282202194, -292188.8710428668],\n",
       " [-38999.37407213304, -32868.423819691416],\n",
       " [-18005.929822268597, -15199.816903281797],\n",
       " [23467.38527987437, 19731.682700037767],\n",
       " [56285.18407600204, 47374.86321060369],\n",
       " [-77684.98892220258, -65452.32281666728],\n",
       " [65632.53470098344, 55235.21597920598],\n",
       " [24016.401857979952, 20195.861450699034],\n",
       " [-100702.3310365958, -84836.31852487316],\n",
       " [20643.551712825578, 17353.548222417317],\n",
       " [-28571.615053055808, -24087.817606312536],\n",
       " [-106837.77781490934, -89995.8680827613],\n",
       " [-90407.76618133542, -76162.98912150628],\n",
       " [7256.183365014255, 6086.981729335176],\n",
       " [-87786.27436510439, -73949.25844649762],\n",
       " [-32563.649247737587, -27450.877782234686],\n",
       " [-139750.95387342758, -117720.7980555774],\n",
       " [-236363.88038000505, -199082.18111336228],\n",
       " [-272903.87320047925, -229857.3079364573],\n",
       " [-122070.76206222802, -102824.83279508885]]"
      ]
     },
     "execution_count": 195,
     "metadata": {},
     "output_type": "execute_result"
    }
   ],
   "source": [
    "remove_projection(X, grades)"
   ]
  },
  {
   "cell_type": "code",
   "execution_count": 196,
   "metadata": {},
   "outputs": [],
   "source": [
    "def principal_component_analysis(X, num_components):\n",
    "    components = []\n",
    "    for _ in range(num_components):\n",
    "        component = first_principal_component(X)\n",
    "        components.append(component)\n",
    "        X = remove_projection(X, component)\n",
    "\n",
    "    return components"
   ]
  },
  {
   "cell_type": "code",
   "execution_count": 197,
   "metadata": {},
   "outputs": [],
   "source": [
    "def transform_vector(v, components):\n",
    "    return [dot(v, w) for w in components]"
   ]
  },
  {
   "cell_type": "code",
   "execution_count": 198,
   "metadata": {},
   "outputs": [],
   "source": [
    "def transform(X, components):\n",
    "    return [transform_vector(x_i, components) for x_i in X]"
   ]
  },
  {
   "cell_type": "code",
   "execution_count": 203,
   "metadata": {},
   "outputs": [],
   "source": [
    "from gradient_descent import maximize_batch"
   ]
  },
  {
   "cell_type": "code",
   "execution_count": 204,
   "metadata": {},
   "outputs": [
    {
     "name": "stdout",
     "output_type": "stream",
     "text": [
      "correlation(xs, ys1) 0.9010493686379609\n",
      "correlation(xs, ys2) -0.8920981526880033\n",
      "[datetime.datetime(2014, 6, 19, 0, 0), 'MSFT', None]\n",
      "stocks\n",
      "max aapl price 119.0\n",
      "max price by symbol\n",
      "{'AAPL': 119.0, 'MSFT': 49.3, 'FB': 81.45}\n",
      "max change {'symbol': 'AAPL', 'date': datetime.datetime(1997, 8, 6, 0, 0), 'change': 0.3283582089552237}\n",
      "min change {'symbol': 'AAPL', 'date': datetime.datetime(2000, 9, 29, 0, 0), 'change': -0.5193370165745856}\n",
      "overall change by month\n",
      "{12: 2.2895332950255933, 1: 19.972214514609085, 2: 0.11858483359215, 3: 2.818850048603327, 4: 6.9341967849847626, 5: 1.2555660890321603, 6: -0.5977889232201744, 7: -0.17183091713561482, 8: 6.220055959879489, 9: -0.741162543642831, 10: 21.552541251680015, 11: 3.758572336791725}\n",
      "rescaling\n",
      "original:  [[1, 20, 2], [1, 30, 3], [1, 40, 4]]\n",
      "scale:  ([1.0, 30.0, 3.0], [0.0, 10.0, 1.0])\n",
      "rescaled:  [[1, -1.0, -1.0], [1, 0.0, 0.0], [1, 1.0, 1.0]]\n",
      "\n",
      "PCA\n",
      "principal components [[0.9354295977047188, 0.3535130375785143], [-0.35348132375190294, 0.9354415822265988]]\n",
      "first point [1.002605467494238, 1.526056860254048]\n",
      "first point transformed [1.4773478253006256, 1.0731347360730434]\n"
     ]
    }
   ],
   "source": [
    "if __name__ == \"__main__\":\n",
    "\n",
    "    print(\"correlation(xs, ys1)\", correlation(xs, ys1))\n",
    "    print(\"correlation(xs, ys2)\", correlation(xs, ys2))\n",
    "\n",
    "    # safe parsing\n",
    "\n",
    "    data = []\n",
    "\n",
    "    with open(\"comma_delimited_stock_prices.csv\", \"r\", encoding='utf8', newline='') as f:\n",
    "        reader = csv.reader(f)\n",
    "        for line in parse_rows_with(reader, [dateutil.parser.parse, None, float]):\n",
    "            data.append(line)\n",
    "\n",
    "    for row in data:\n",
    "        if any(x is None for x in row):\n",
    "            print(row)\n",
    "\n",
    "    print(\"stocks\")\n",
    "    with open(\"stocks.txt\", \"r\", encoding='utf8', newline='') as f:\n",
    "        reader = csv.DictReader(f, delimiter=\"\\t\")\n",
    "        data = [parse_dict(row, { 'date' : dateutil.parser.parse,\n",
    "                                  'closing_price' : float })\n",
    "                for row in reader]\n",
    "\n",
    "    max_aapl_price = max(row[\"closing_price\"]\n",
    "                         for row in data\n",
    "                         if row[\"symbol\"] == \"AAPL\")\n",
    "    print(\"max aapl price\", max_aapl_price)\n",
    "\n",
    "    # group rows by symbol\n",
    "    by_symbol = defaultdict(list)\n",
    "\n",
    "    for row in data:\n",
    "        by_symbol[row[\"symbol\"]].append(row)\n",
    "\n",
    "    # use a dict comprehension to find the max for each symbol\n",
    "    max_price_by_symbol = { symbol : max(row[\"closing_price\"]\n",
    "                            for row in grouped_rows)\n",
    "                            for symbol, grouped_rows in by_symbol.items() }\n",
    "    print(\"max price by symbol\")\n",
    "    print(max_price_by_symbol)\n",
    "\n",
    "    # key is symbol, value is list of \"change\" dicts\n",
    "    changes_by_symbol = group_by(picker(\"symbol\"), data, day_over_day_changes)\n",
    "    # collect all \"change\" dicts into one big list\n",
    "    all_changes = [change\n",
    "                   for changes in changes_by_symbol.values()\n",
    "                   for change in changes]\n",
    "\n",
    "    print(\"max change\", max(all_changes, key=picker(\"change\")))\n",
    "    print(\"min change\", min(all_changes, key=picker(\"change\")))\n",
    "\n",
    "    # to combine percent changes, we add 1 to each, multiply them, and subtract 1\n",
    "    # for instance, if we combine +10% and -20%, the overall change is\n",
    "    # (1 + 10%) * (1 - 20%) - 1 = 1.1 * .8 - 1 = -12%\n",
    "    def combine_pct_changes(pct_change1, pct_change2):\n",
    "        return (1 + pct_change1) * (1 + pct_change2) - 1\n",
    "\n",
    "    def overall_change(changes):\n",
    "        return reduce(combine_pct_changes, pluck(\"change\", changes))\n",
    "\n",
    "    overall_change_by_month = group_by(lambda row: row['date'].month,\n",
    "                                       all_changes,\n",
    "                                       overall_change)\n",
    "    print(\"overall change by month\")\n",
    "    print(overall_change_by_month)\n",
    "\n",
    "    print(\"rescaling\")\n",
    "\n",
    "    data = [[1, 20, 2],\n",
    "            [1, 30, 3],\n",
    "            [1, 40, 4]]\n",
    "\n",
    "    print(\"original: \", data)\n",
    "    print(\"scale: \", scale(data))\n",
    "    print(\"rescaled: \", rescale(data))\n",
    "    print()\n",
    "\n",
    "    print(\"PCA\")\n",
    "\n",
    "    Y = de_mean_matrix(X)\n",
    "    components = principal_component_analysis(Y, 2)\n",
    "    print(\"principal components\", components)\n",
    "    print(\"first point\", Y[0])\n",
    "    print(\"first point transformed\", transform_vector(Y[0], components))"
   ]
  },
  {
   "cell_type": "code",
   "execution_count": null,
   "metadata": {},
   "outputs": [],
   "source": []
  }
 ],
 "metadata": {
  "kernelspec": {
   "display_name": "Python 3",
   "language": "python",
   "name": "python3"
  },
  "language_info": {
   "codemirror_mode": {
    "name": "ipython",
    "version": 3
   },
   "file_extension": ".py",
   "mimetype": "text/x-python",
   "name": "python",
   "nbconvert_exporter": "python",
   "pygments_lexer": "ipython3",
   "version": "3.7.1"
  }
 },
 "nbformat": 4,
 "nbformat_minor": 2
}
